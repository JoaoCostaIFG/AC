{
 "cells": [
  {
   "cell_type": "markdown",
   "id": "02387a7c-7f8d-4039-8725-20e75cc8b201",
   "metadata": {},
   "source": [
    "# AC FEUP 21/22"
   ]
  },
  {
   "cell_type": "markdown",
   "id": "7ff4a512-1545-4a35-b92d-7fbc222c81ed",
   "metadata": {
    "tags": []
   },
   "source": [
    "## Main dependencies"
   ]
  },
  {
   "cell_type": "code",
   "execution_count": 1,
   "id": "f950da41-94f9-4c71-a1e2-4cb358a2f6b1",
   "metadata": {},
   "outputs": [],
   "source": [
    "import pandas as pd\n",
    "import matplotlib.pyplot as plt\n",
    "%matplotlib inline\n",
    "import seaborn as sb\n",
    "import numpy as np\n",
    "import sklearn\n",
    "\n",
    "# use to not cut columns\n",
    "pd.set_option('max_columns', None)\n",
    "\n",
    "# njobs to use in sklearn models\n",
    "configNJobs = -1"
   ]
  },
  {
   "cell_type": "markdown",
   "id": "7d89a623",
   "metadata": {
    "tags": []
   },
   "source": [
    "## Import data"
   ]
  },
  {
   "cell_type": "markdown",
   "id": "4aae85b6-9c9e-4f18-88d7-f9e351691cb6",
   "metadata": {},
   "source": [
    "### Training data"
   ]
  },
  {
   "cell_type": "code",
   "execution_count": 2,
   "id": "c45d1acc",
   "metadata": {},
   "outputs": [
    {
     "data": {
      "text/html": [
       "<div>\n",
       "<style scoped>\n",
       "    .dataframe tbody tr th:only-of-type {\n",
       "        vertical-align: middle;\n",
       "    }\n",
       "\n",
       "    .dataframe tbody tr th {\n",
       "        vertical-align: top;\n",
       "    }\n",
       "\n",
       "    .dataframe thead th {\n",
       "        text-align: right;\n",
       "    }\n",
       "</style>\n",
       "<table border=\"1\" class=\"dataframe\">\n",
       "  <thead>\n",
       "    <tr style=\"text-align: right;\">\n",
       "      <th></th>\n",
       "      <th>trans_id</th>\n",
       "      <th>account_id</th>\n",
       "      <th>date</th>\n",
       "      <th>type</th>\n",
       "      <th>operation</th>\n",
       "      <th>amount</th>\n",
       "      <th>balance</th>\n",
       "      <th>k_symbol</th>\n",
       "      <th>bank</th>\n",
       "      <th>account</th>\n",
       "    </tr>\n",
       "  </thead>\n",
       "  <tbody>\n",
       "    <tr>\n",
       "      <th>0</th>\n",
       "      <td>1548749</td>\n",
       "      <td>5270</td>\n",
       "      <td>930113</td>\n",
       "      <td>credit</td>\n",
       "      <td>credit in cash</td>\n",
       "      <td>800.0</td>\n",
       "      <td>800.0</td>\n",
       "      <td>NaN</td>\n",
       "      <td>NaN</td>\n",
       "      <td>NaN</td>\n",
       "    </tr>\n",
       "    <tr>\n",
       "      <th>1</th>\n",
       "      <td>1548750</td>\n",
       "      <td>5270</td>\n",
       "      <td>930114</td>\n",
       "      <td>credit</td>\n",
       "      <td>collection from another bank</td>\n",
       "      <td>44749.0</td>\n",
       "      <td>45549.0</td>\n",
       "      <td>NaN</td>\n",
       "      <td>IJ</td>\n",
       "      <td>80269753.0</td>\n",
       "    </tr>\n",
       "    <tr>\n",
       "      <th>2</th>\n",
       "      <td>3393738</td>\n",
       "      <td>11265</td>\n",
       "      <td>930114</td>\n",
       "      <td>credit</td>\n",
       "      <td>credit in cash</td>\n",
       "      <td>1000.0</td>\n",
       "      <td>1000.0</td>\n",
       "      <td>NaN</td>\n",
       "      <td>NaN</td>\n",
       "      <td>NaN</td>\n",
       "    </tr>\n",
       "    <tr>\n",
       "      <th>3</th>\n",
       "      <td>3122924</td>\n",
       "      <td>10364</td>\n",
       "      <td>930117</td>\n",
       "      <td>credit</td>\n",
       "      <td>credit in cash</td>\n",
       "      <td>1100.0</td>\n",
       "      <td>1100.0</td>\n",
       "      <td>NaN</td>\n",
       "      <td>NaN</td>\n",
       "      <td>NaN</td>\n",
       "    </tr>\n",
       "    <tr>\n",
       "      <th>4</th>\n",
       "      <td>1121963</td>\n",
       "      <td>3834</td>\n",
       "      <td>930119</td>\n",
       "      <td>credit</td>\n",
       "      <td>credit in cash</td>\n",
       "      <td>700.0</td>\n",
       "      <td>700.0</td>\n",
       "      <td>NaN</td>\n",
       "      <td>NaN</td>\n",
       "      <td>NaN</td>\n",
       "    </tr>\n",
       "  </tbody>\n",
       "</table>\n",
       "</div>"
      ],
      "text/plain": [
       "   trans_id  account_id    date    type                     operation  \\\n",
       "0   1548749        5270  930113  credit                credit in cash   \n",
       "1   1548750        5270  930114  credit  collection from another bank   \n",
       "2   3393738       11265  930114  credit                credit in cash   \n",
       "3   3122924       10364  930117  credit                credit in cash   \n",
       "4   1121963        3834  930119  credit                credit in cash   \n",
       "\n",
       "    amount  balance k_symbol bank     account  \n",
       "0    800.0    800.0      NaN  NaN         NaN  \n",
       "1  44749.0  45549.0      NaN   IJ  80269753.0  \n",
       "2   1000.0   1000.0      NaN  NaN         NaN  \n",
       "3   1100.0   1100.0      NaN  NaN         NaN  \n",
       "4    700.0    700.0      NaN  NaN         NaN  "
      ]
     },
     "execution_count": 2,
     "metadata": {},
     "output_type": "execute_result"
    }
   ],
   "source": [
    "# import data\n",
    "def read_csv(file, dtype={}, na_values=None):\n",
    "    return pd.read_csv(\"data/\" + file, sep=\";\", dtype=dtype, na_values=na_values)\n",
    "\n",
    "account_df = read_csv(\"account.csv\")\n",
    "card_df = read_csv(\"card_train.csv\")\n",
    "client_df = read_csv(\"client.csv\")\n",
    "disp_df = read_csv(\"disp.csv\")\n",
    "district_df = read_csv(\"district.csv\", na_values=\"?\")\n",
    "loan_df = read_csv(\"loan_train.csv\")\n",
    "trans_df = read_csv(\"trans_train.csv\", dtype={'bank': 'str'})\n",
    "\n",
    "# clean column names (Some columns come with an extra whitespace)\n",
    "district_df.rename(columns=lambda x: x.strip(), inplace=True)\n",
    "\n",
    "trans_df.head()"
   ]
  },
  {
   "cell_type": "markdown",
   "id": "fb17d78d-d05b-44c2-813d-172f7bc124ae",
   "metadata": {},
   "source": [
    "### Test data"
   ]
  },
  {
   "cell_type": "code",
   "execution_count": 3,
   "id": "c036f4b8-65a6-4cea-8e5f-5c659a261da0",
   "metadata": {},
   "outputs": [],
   "source": [
    "card_test_df = read_csv(\"card_test.csv\")\n",
    "loan_test_df = read_csv(\"loan_test.csv\")\n",
    "trans_test_df = read_csv(\"trans_test.csv\", dtype={'bank': 'str'})"
   ]
  },
  {
   "cell_type": "markdown",
   "id": "f691facc-f513-4c3e-bd1d-5dad260f7576",
   "metadata": {
    "tags": []
   },
   "source": [
    "## Dealing with missing values"
   ]
  },
  {
   "cell_type": "markdown",
   "id": "4ae136ad-2d8e-4253-b5e9-dcee815bd40d",
   "metadata": {
    "jp-MarkdownHeadingCollapsed": true,
    "tags": []
   },
   "source": [
    "### Account data"
   ]
  },
  {
   "cell_type": "code",
   "execution_count": 4,
   "id": "95721635-ab03-4268-a832-fdcfa9e9d130",
   "metadata": {},
   "outputs": [
    {
     "data": {
      "text/plain": [
       "account_id     0\n",
       "district_id    0\n",
       "frequency      0\n",
       "date           0\n",
       "dtype: int64"
      ]
     },
     "execution_count": 4,
     "metadata": {},
     "output_type": "execute_result"
    }
   ],
   "source": [
    "account_df.isnull().sum()"
   ]
  },
  {
   "cell_type": "markdown",
   "id": "2fac2fe4-526a-42e0-9724-1f356427cbcc",
   "metadata": {},
   "source": [
    "No NULL data to deal with on this dataframe."
   ]
  },
  {
   "cell_type": "markdown",
   "id": "5e13c446-98c0-417f-af91-3987dfb6c28a",
   "metadata": {
    "jp-MarkdownHeadingCollapsed": true,
    "tags": []
   },
   "source": [
    "### Card data"
   ]
  },
  {
   "cell_type": "code",
   "execution_count": 5,
   "id": "c9a9c772-cd4e-4bd3-87a6-9ac86b878e06",
   "metadata": {},
   "outputs": [
    {
     "data": {
      "text/plain": [
       "card_id    0\n",
       "disp_id    0\n",
       "type       0\n",
       "issued     0\n",
       "dtype: int64"
      ]
     },
     "execution_count": 5,
     "metadata": {},
     "output_type": "execute_result"
    }
   ],
   "source": [
    "card_df.isnull().sum()"
   ]
  },
  {
   "cell_type": "markdown",
   "id": "bbbee90d-41ca-40c3-a3c2-c976a2aac3da",
   "metadata": {},
   "source": [
    "No NULL data to deal with on this dataframe."
   ]
  },
  {
   "cell_type": "code",
   "execution_count": 6,
   "id": "eaf0e228-7a22-49a1-aec4-8582fc270c7b",
   "metadata": {},
   "outputs": [
    {
     "data": {
      "text/plain": [
       "card_id    0\n",
       "disp_id    0\n",
       "type       0\n",
       "issued     0\n",
       "dtype: int64"
      ]
     },
     "execution_count": 6,
     "metadata": {},
     "output_type": "execute_result"
    }
   ],
   "source": [
    "card_test_df.isnull().sum()"
   ]
  },
  {
   "cell_type": "markdown",
   "id": "f153eaf3-c8dd-46fe-a5bf-7896d6f5b151",
   "metadata": {
    "jp-MarkdownHeadingCollapsed": true,
    "tags": []
   },
   "source": [
    "### Client data"
   ]
  },
  {
   "cell_type": "code",
   "execution_count": 7,
   "id": "bc391b1f-daae-4335-8e5a-754806056769",
   "metadata": {},
   "outputs": [
    {
     "data": {
      "text/plain": [
       "card_id    0\n",
       "disp_id    0\n",
       "type       0\n",
       "issued     0\n",
       "dtype: int64"
      ]
     },
     "execution_count": 7,
     "metadata": {},
     "output_type": "execute_result"
    }
   ],
   "source": [
    "card_df.isnull().sum()"
   ]
  },
  {
   "cell_type": "markdown",
   "id": "2be0f010-876d-47a2-b8cb-4051f4435664",
   "metadata": {},
   "source": [
    "There are no NULL values on this dataset to deal with."
   ]
  },
  {
   "cell_type": "markdown",
   "id": "d43e54d6-ca9c-4668-a8d3-4eb0c7cd33d0",
   "metadata": {
    "jp-MarkdownHeadingCollapsed": true,
    "tags": []
   },
   "source": [
    "### Disposition data"
   ]
  },
  {
   "cell_type": "code",
   "execution_count": 8,
   "id": "da096fe0-84d7-437d-8482-ac2069da2f8b",
   "metadata": {},
   "outputs": [
    {
     "data": {
      "text/plain": [
       "disp_id       0\n",
       "client_id     0\n",
       "account_id    0\n",
       "type          0\n",
       "dtype: int64"
      ]
     },
     "execution_count": 8,
     "metadata": {},
     "output_type": "execute_result"
    }
   ],
   "source": [
    "disp_df.isnull().sum()"
   ]
  },
  {
   "cell_type": "markdown",
   "id": "43fc2af0-77ba-4514-9e80-407a49c15956",
   "metadata": {},
   "source": [
    "No NULL data to deal with on this dataframe."
   ]
  },
  {
   "cell_type": "markdown",
   "id": "bc183391-fdfb-46e6-b7c0-464cf0721238",
   "metadata": {
    "jp-MarkdownHeadingCollapsed": true,
    "tags": []
   },
   "source": [
    "### District data"
   ]
  },
  {
   "cell_type": "code",
   "execution_count": 9,
   "id": "091b1b10-dca6-4941-9733-50d273637148",
   "metadata": {},
   "outputs": [
    {
     "data": {
      "text/plain": [
       "code                                                0\n",
       "name                                                0\n",
       "region                                              0\n",
       "no. of inhabitants                                  0\n",
       "no. of municipalities with inhabitants < 499        0\n",
       "no. of municipalities with inhabitants 500-1999     0\n",
       "no. of municipalities with inhabitants 2000-9999    0\n",
       "no. of municipalities with inhabitants >10000       0\n",
       "no. of cities                                       0\n",
       "ratio of urban inhabitants                          0\n",
       "average salary                                      0\n",
       "unemploymant rate '95                               1\n",
       "unemploymant rate '96                               0\n",
       "no. of enterpreneurs per 1000 inhabitants           0\n",
       "no. of commited crimes '95                          1\n",
       "no. of commited crimes '96                          0\n",
       "dtype: int64"
      ]
     },
     "execution_count": 9,
     "metadata": {},
     "output_type": "execute_result"
    }
   ],
   "source": [
    "district_df.isnull().sum()"
   ]
  },
  {
   "cell_type": "markdown",
   "id": "084e11df-26df-49a7-a1f4-026583d82d2d",
   "metadata": {},
   "source": [
    "There is 1 NULL value in _unemploymant rate '95_ and _no. of commited crimes '95_."
   ]
  },
  {
   "cell_type": "code",
   "execution_count": 10,
   "id": "87403005-e4f4-4d29-ae90-c0babda45d08",
   "metadata": {},
   "outputs": [
    {
     "data": {
      "text/html": [
       "<div>\n",
       "<style scoped>\n",
       "    .dataframe tbody tr th:only-of-type {\n",
       "        vertical-align: middle;\n",
       "    }\n",
       "\n",
       "    .dataframe tbody tr th {\n",
       "        vertical-align: top;\n",
       "    }\n",
       "\n",
       "    .dataframe thead th {\n",
       "        text-align: right;\n",
       "    }\n",
       "</style>\n",
       "<table border=\"1\" class=\"dataframe\">\n",
       "  <thead>\n",
       "    <tr style=\"text-align: right;\">\n",
       "      <th></th>\n",
       "      <th>code</th>\n",
       "      <th>name</th>\n",
       "      <th>region</th>\n",
       "      <th>no. of inhabitants</th>\n",
       "      <th>no. of municipalities with inhabitants &lt; 499</th>\n",
       "      <th>no. of municipalities with inhabitants 500-1999</th>\n",
       "      <th>no. of municipalities with inhabitants 2000-9999</th>\n",
       "      <th>no. of municipalities with inhabitants &gt;10000</th>\n",
       "      <th>no. of cities</th>\n",
       "      <th>ratio of urban inhabitants</th>\n",
       "      <th>average salary</th>\n",
       "      <th>unemploymant rate '95</th>\n",
       "      <th>unemploymant rate '96</th>\n",
       "      <th>no. of enterpreneurs per 1000 inhabitants</th>\n",
       "      <th>no. of commited crimes '95</th>\n",
       "      <th>no. of commited crimes '96</th>\n",
       "    </tr>\n",
       "  </thead>\n",
       "  <tbody>\n",
       "    <tr>\n",
       "      <th>68</th>\n",
       "      <td>69</td>\n",
       "      <td>Jesenik</td>\n",
       "      <td>north Moravia</td>\n",
       "      <td>42821</td>\n",
       "      <td>4</td>\n",
       "      <td>13</td>\n",
       "      <td>5</td>\n",
       "      <td>1</td>\n",
       "      <td>3</td>\n",
       "      <td>48.4</td>\n",
       "      <td>8173</td>\n",
       "      <td>NaN</td>\n",
       "      <td>7.01</td>\n",
       "      <td>124</td>\n",
       "      <td>NaN</td>\n",
       "      <td>1358</td>\n",
       "    </tr>\n",
       "  </tbody>\n",
       "</table>\n",
       "</div>"
      ],
      "text/plain": [
       "    code     name         region  no. of inhabitants  \\\n",
       "68    69  Jesenik  north Moravia               42821   \n",
       "\n",
       "    no. of municipalities with inhabitants < 499  \\\n",
       "68                                             4   \n",
       "\n",
       "    no. of municipalities with inhabitants 500-1999  \\\n",
       "68                                               13   \n",
       "\n",
       "    no. of municipalities with inhabitants 2000-9999  \\\n",
       "68                                                 5   \n",
       "\n",
       "    no. of municipalities with inhabitants >10000  no. of cities  \\\n",
       "68                                              1              3   \n",
       "\n",
       "    ratio of urban inhabitants  average salary  unemploymant rate '95  \\\n",
       "68                        48.4            8173                    NaN   \n",
       "\n",
       "    unemploymant rate '96  no. of enterpreneurs per 1000 inhabitants  \\\n",
       "68                   7.01                                        124   \n",
       "\n",
       "    no. of commited crimes '95  no. of commited crimes '96  \n",
       "68                         NaN                        1358  "
      ]
     },
     "execution_count": 10,
     "metadata": {},
     "output_type": "execute_result"
    }
   ],
   "source": [
    "district_df[district_df[\"unemploymant rate '95\"].isnull()]"
   ]
  },
  {
   "cell_type": "markdown",
   "id": "d62e7255-45c3-4f7c-b033-10c844e14de4",
   "metadata": {},
   "source": [
    "Both of these missing value are for the district of _Jesenik_. We can find the mean growth/shrinkage of the unemploymant and number of crimes commit from 1995 to 1996, and use that to fill the missing values of 1995 for this district."
   ]
  },
  {
   "cell_type": "code",
   "execution_count": 11,
   "id": "a08bf2fc-6c2c-4920-8779-647069f6b68d",
   "metadata": {},
   "outputs": [],
   "source": [
    "unem_rate_95 = district_df[district_df[\"unemploymant rate '95\"].notnull()][\"unemploymant rate '95\"]\n",
    "unem_rate_96 = district_df[district_df[\"unemploymant rate '96\"].notnull()][\"unemploymant rate '96\"]\n",
    "\n",
    "unem_growth_series = unem_rate_95 / unem_rate_96\n",
    "unem_growth = unem_growth_series.sum() / unem_growth_series.count()\n",
    "\n",
    "district_df[\"unemploymant rate '95\"] = district_df.apply(lambda x: x[\"unemploymant rate '96\"] * unem_growth if np.isnan(x[\"unemploymant rate '95\"]) else x[\"unemploymant rate '95\"], axis=1)"
   ]
  },
  {
   "cell_type": "code",
   "execution_count": 12,
   "id": "e4d38868-4502-4b93-b300-d4738d0b217e",
   "metadata": {},
   "outputs": [],
   "source": [
    "no_crime_95 = district_df[district_df[\"no. of commited crimes '95\"].notnull()][\"no. of commited crimes '95\"]\n",
    "no_crime_96 = district_df[district_df[\"no. of commited crimes '96\"].notnull()][\"no. of commited crimes '96\"]\n",
    "\n",
    "crime_growth_series = no_crime_95 / no_crime_96\n",
    "crime_growth = crime_growth_series.sum() / crime_growth_series.count()\n",
    "\n",
    "district_df[\"no. of commited crimes '95\"] = district_df.apply(lambda x: x[\"no. of commited crimes '96\"] * crime_growth if np.isnan(x[\"no. of commited crimes '95\"]) else x[\"unemploymant rate '95\"], axis=1)"
   ]
  },
  {
   "cell_type": "code",
   "execution_count": 13,
   "id": "4e31c312-9671-4c07-91a3-e61574c5d5a5",
   "metadata": {},
   "outputs": [
    {
     "data": {
      "text/html": [
       "<div>\n",
       "<style scoped>\n",
       "    .dataframe tbody tr th:only-of-type {\n",
       "        vertical-align: middle;\n",
       "    }\n",
       "\n",
       "    .dataframe tbody tr th {\n",
       "        vertical-align: top;\n",
       "    }\n",
       "\n",
       "    .dataframe thead th {\n",
       "        text-align: right;\n",
       "    }\n",
       "</style>\n",
       "<table border=\"1\" class=\"dataframe\">\n",
       "  <thead>\n",
       "    <tr style=\"text-align: right;\">\n",
       "      <th></th>\n",
       "      <th>code</th>\n",
       "      <th>name</th>\n",
       "      <th>region</th>\n",
       "      <th>no. of inhabitants</th>\n",
       "      <th>no. of municipalities with inhabitants &lt; 499</th>\n",
       "      <th>no. of municipalities with inhabitants 500-1999</th>\n",
       "      <th>no. of municipalities with inhabitants 2000-9999</th>\n",
       "      <th>no. of municipalities with inhabitants &gt;10000</th>\n",
       "      <th>no. of cities</th>\n",
       "      <th>ratio of urban inhabitants</th>\n",
       "      <th>average salary</th>\n",
       "      <th>unemploymant rate '95</th>\n",
       "      <th>unemploymant rate '96</th>\n",
       "      <th>no. of enterpreneurs per 1000 inhabitants</th>\n",
       "      <th>no. of commited crimes '95</th>\n",
       "      <th>no. of commited crimes '96</th>\n",
       "    </tr>\n",
       "  </thead>\n",
       "  <tbody>\n",
       "    <tr>\n",
       "      <th>68</th>\n",
       "      <td>69</td>\n",
       "      <td>Jesenik</td>\n",
       "      <td>north Moravia</td>\n",
       "      <td>42821</td>\n",
       "      <td>4</td>\n",
       "      <td>13</td>\n",
       "      <td>5</td>\n",
       "      <td>1</td>\n",
       "      <td>3</td>\n",
       "      <td>48.4</td>\n",
       "      <td>8173</td>\n",
       "      <td>5.759683</td>\n",
       "      <td>7.01</td>\n",
       "      <td>124</td>\n",
       "      <td>1321.520511</td>\n",
       "      <td>1358</td>\n",
       "    </tr>\n",
       "  </tbody>\n",
       "</table>\n",
       "</div>"
      ],
      "text/plain": [
       "    code     name         region  no. of inhabitants  \\\n",
       "68    69  Jesenik  north Moravia               42821   \n",
       "\n",
       "    no. of municipalities with inhabitants < 499  \\\n",
       "68                                             4   \n",
       "\n",
       "    no. of municipalities with inhabitants 500-1999  \\\n",
       "68                                               13   \n",
       "\n",
       "    no. of municipalities with inhabitants 2000-9999  \\\n",
       "68                                                 5   \n",
       "\n",
       "    no. of municipalities with inhabitants >10000  no. of cities  \\\n",
       "68                                              1              3   \n",
       "\n",
       "    ratio of urban inhabitants  average salary  unemploymant rate '95  \\\n",
       "68                        48.4            8173               5.759683   \n",
       "\n",
       "    unemploymant rate '96  no. of enterpreneurs per 1000 inhabitants  \\\n",
       "68                   7.01                                        124   \n",
       "\n",
       "    no. of commited crimes '95  no. of commited crimes '96  \n",
       "68                 1321.520511                        1358  "
      ]
     },
     "execution_count": 13,
     "metadata": {},
     "output_type": "execute_result"
    }
   ],
   "source": [
    "district_df[district_df[\"code\"] == 69]"
   ]
  },
  {
   "cell_type": "markdown",
   "id": "2f2c6a67-88a5-4308-9594-21b81975a45a",
   "metadata": {},
   "source": [
    "The missing values have been taken care of."
   ]
  },
  {
   "cell_type": "markdown",
   "id": "5ffa40b2-a9e6-4f81-a673-fb1bac59ef43",
   "metadata": {
    "jp-MarkdownHeadingCollapsed": true,
    "tags": []
   },
   "source": [
    "### Loan data"
   ]
  },
  {
   "cell_type": "code",
   "execution_count": 14,
   "id": "4109f580-0121-4591-b87f-30cca485757d",
   "metadata": {},
   "outputs": [
    {
     "data": {
      "text/plain": [
       "loan_id       0\n",
       "account_id    0\n",
       "date          0\n",
       "amount        0\n",
       "duration      0\n",
       "payments      0\n",
       "status        0\n",
       "dtype: int64"
      ]
     },
     "execution_count": 14,
     "metadata": {},
     "output_type": "execute_result"
    }
   ],
   "source": [
    "loan_df.isnull().sum()"
   ]
  },
  {
   "cell_type": "markdown",
   "id": "fc48614a-d79c-4242-b024-fb41afac4cae",
   "metadata": {},
   "source": [
    "There are no NULL values to fill on this dataframe."
   ]
  },
  {
   "cell_type": "code",
   "execution_count": 15,
   "id": "5823faba-e7a1-4704-bd9b-89a7d2752a7a",
   "metadata": {},
   "outputs": [
    {
     "data": {
      "text/plain": [
       "loan_id         0\n",
       "account_id      0\n",
       "date            0\n",
       "amount          0\n",
       "duration        0\n",
       "payments        0\n",
       "status        354\n",
       "dtype: int64"
      ]
     },
     "execution_count": 15,
     "metadata": {},
     "output_type": "execute_result"
    }
   ],
   "source": [
    "loan_test_df.isnull().sum()"
   ]
  },
  {
   "cell_type": "markdown",
   "id": "4f4de71d-2b3e-47a0-a5f7-c50c080cbf7f",
   "metadata": {},
   "source": [
    "These missing values (_status_) don't matter as they are the targets of our prediction model."
   ]
  },
  {
   "cell_type": "markdown",
   "id": "807ebd15-5c0d-40bd-a616-9632e8279cc3",
   "metadata": {
    "tags": []
   },
   "source": [
    "### Transaction data"
   ]
  },
  {
   "cell_type": "code",
   "execution_count": 16,
   "id": "fdf98054-aebe-4f59-85b4-d2411b77e9ed",
   "metadata": {},
   "outputs": [
    {
     "data": {
      "text/plain": [
       "trans_id           0\n",
       "account_id         0\n",
       "date               0\n",
       "type               0\n",
       "operation      70761\n",
       "amount             0\n",
       "balance            0\n",
       "k_symbol      185244\n",
       "bank          299443\n",
       "account       294456\n",
       "dtype: int64"
      ]
     },
     "execution_count": 16,
     "metadata": {},
     "output_type": "execute_result"
    }
   ],
   "source": [
    "trans_df.isnull().sum()"
   ]
  },
  {
   "cell_type": "code",
   "execution_count": 17,
   "id": "2c26ac21-f57e-4c77-b9c7-3eed0aaec29e",
   "metadata": {},
   "outputs": [
    {
     "data": {
      "text/plain": [
       "trans_id          0\n",
       "account_id        0\n",
       "date              0\n",
       "type              0\n",
       "operation      5130\n",
       "amount            0\n",
       "balance           0\n",
       "k_symbol      17419\n",
       "bank          24377\n",
       "account       21061\n",
       "dtype: int64"
      ]
     },
     "execution_count": 17,
     "metadata": {},
     "output_type": "execute_result"
    }
   ],
   "source": [
    "trans_test_df.isnull().sum()"
   ]
  },
  {
   "cell_type": "markdown",
   "id": "c40fccbe-a082-4a23-a40d-c1f0d499a02c",
   "metadata": {},
   "source": [
    "There are 4 attributes with a large quantity of null values on this dataframe that have to dealt with: _operation_, _k\\_symbol_, _bank_, and _account_."
   ]
  },
  {
   "cell_type": "code",
   "execution_count": 18,
   "id": "765003cf-8c01-4644-8a18-617b551341c7",
   "metadata": {},
   "outputs": [
    {
     "data": {
      "text/plain": [
       "withdrawal in cash              165270\n",
       "remittance to another bank       70737\n",
       "credit in cash                   62202\n",
       "collection from another bank     26505\n",
       "credit card withdrawal            1210\n",
       "Name: operation, dtype: int64"
      ]
     },
     "execution_count": 18,
     "metadata": {},
     "output_type": "execute_result"
    }
   ],
   "source": [
    "trans_df['operation'].value_counts()"
   ]
  },
  {
   "cell_type": "code",
   "execution_count": 19,
   "id": "fae4b494-50c6-454a-a9d1-9c71bfa2d03d",
   "metadata": {},
   "outputs": [
    {
     "data": {
      "text/plain": [
       "17.838083113805663"
      ]
     },
     "execution_count": 19,
     "metadata": {},
     "output_type": "execute_result"
    }
   ],
   "source": [
    "len(trans_df[trans_df['operation'].isnull()]) / len(trans_df['operation']) * 100.0"
   ]
  },
  {
   "cell_type": "markdown",
   "id": "5948044f-e9f6-4726-b530-a6c21c943670",
   "metadata": {},
   "source": [
    "The _operation_ attribute is categorical and doesn't reveal an inherited order. It can be enconded with 3 attributes using binary encoding.\n",
    "\n",
    "This attribute is problematic because it contains a significant number of NULL values ($17.8\\%$).\n",
    "\n",
    "It was decided that these rows will be filled with _unkown_."
   ]
  },
  {
   "cell_type": "code",
   "execution_count": 20,
   "id": "6b9b3418-2631-4777-a435-855d454a7258",
   "metadata": {},
   "outputs": [],
   "source": [
    "trans_df['operation'].fillna('unknown', inplace=True)\n",
    "\n",
    "trans_test_df['operation'].fillna('unknown', inplace=True)"
   ]
  },
  {
   "cell_type": "code",
   "execution_count": 21,
   "id": "7d6ebf82-8c94-420b-afe5-c9a074bce02c",
   "metadata": {},
   "outputs": [
    {
     "data": {
      "text/plain": [
       "interest credited                        70761\n",
       "payment for statement                    58377\n",
       "household                                42839\n",
       "                                         19065\n",
       "old-age pension                          13502\n",
       "insurrance payment                        6592\n",
       "sanction interest if negative balance      305\n",
       "Name: k_symbol, dtype: int64"
      ]
     },
     "execution_count": 21,
     "metadata": {},
     "output_type": "execute_result"
    }
   ],
   "source": [
    "trans_df['k_symbol'].value_counts()"
   ]
  },
  {
   "cell_type": "markdown",
   "id": "98acf1c5-c199-457b-9e7b-3882f83e6ba9",
   "metadata": {},
   "source": [
    "There is a category that is an empty string. It is likelly that the missing values were intended to be part of this category aswell. It is assumed that these rows with the _empty_ category refer to common transactions that aren't related to pensions, insurrance, etc... The missing values and the empty rows of this attribute will be renamed to _no_symbol_."
   ]
  },
  {
   "cell_type": "code",
   "execution_count": 22,
   "id": "4ff5631a-ebea-4e33-aac0-1fb5708f526b",
   "metadata": {},
   "outputs": [
    {
     "data": {
      "text/plain": [
       "no_symbol                                204309\n",
       "interest credited                         70761\n",
       "payment for statement                     58377\n",
       "household                                 42839\n",
       "old-age pension                           13502\n",
       "insurrance payment                         6592\n",
       "sanction interest if negative balance       305\n",
       "Name: k_symbol, dtype: int64"
      ]
     },
     "execution_count": 22,
     "metadata": {},
     "output_type": "execute_result"
    }
   ],
   "source": [
    "def treat_null_k_symbol(row):\n",
    "    k_symb = row['k_symbol']\n",
    "    if isinstance(k_symb, float):\n",
    "        return 'no_symbol'\n",
    "    elif k_symb == \" \":\n",
    "        return 'no_symbol'\n",
    "    else:\n",
    "        return k_symb\n",
    "    \n",
    "\n",
    "trans_df['k_symbol'] = trans_df.apply(treat_null_k_symbol, axis=1)\n",
    "trans_test_df['k_symbol'] = trans_test_df.apply(treat_null_k_symbol, axis=1)\n",
    "trans_df['k_symbol'].value_counts()"
   ]
  },
  {
   "cell_type": "markdown",
   "id": "6378f64c-251a-430c-872d-c217990fef9d",
   "metadata": {},
   "source": [
    "There many rows where we don't know which is the bank of the partner."
   ]
  },
  {
   "cell_type": "code",
   "execution_count": 23,
   "id": "0668198b-8645-4e81-96d0-95595ac63393",
   "metadata": {},
   "outputs": [
    {
     "data": {
      "text/plain": [
       "ST    8114\n",
       "GH    7886\n",
       "EF    7878\n",
       "AB    7666\n",
       "UV    7618\n",
       "OP    7595\n",
       "IJ    7536\n",
       "YZ    7471\n",
       "QR    7413\n",
       "KL    7397\n",
       "WX    7033\n",
       "CD    7009\n",
       "MN    6626\n",
       "Name: bank, dtype: int64"
      ]
     },
     "execution_count": 23,
     "metadata": {},
     "output_type": "execute_result"
    }
   ],
   "source": [
    "trans_df['bank'].value_counts()"
   ]
  },
  {
   "cell_type": "code",
   "execution_count": 24,
   "id": "fd07a96b-9880-4fd9-9cb1-d22124921b43",
   "metadata": {},
   "outputs": [
    {
     "data": {
      "text/plain": [
       "0.0           4987\n",
       "15916598.0      48\n",
       "62457513.0      48\n",
       "6149286.0       48\n",
       "42988401.0      48\n",
       "              ... \n",
       "99218499.0       1\n",
       "54261672.0       1\n",
       "28306174.0       1\n",
       "91523855.0       1\n",
       "53761804.0       1\n",
       "Name: account, Length: 4536, dtype: int64"
      ]
     },
     "execution_count": 24,
     "metadata": {},
     "output_type": "execute_result"
    }
   ],
   "source": [
    "trans_df['account'].value_counts()"
   ]
  },
  {
   "cell_type": "markdown",
   "id": "16f46b92-664c-4cbf-8a86-6895bd3af710",
   "metadata": {},
   "source": [
    "The unknown information about the partner's bank tranlates to unkown information about the partner. This is sometimes represented by a **0** on the _account_ attribute."
   ]
  },
  {
   "cell_type": "code",
   "execution_count": 25,
   "id": "6f6811ef-e7d6-45ad-82a2-55ee7be836bd",
   "metadata": {},
   "outputs": [
    {
     "name": "stdout",
     "output_type": "stream",
     "text": [
      "Number of unknown banks: 299443\n",
      "Number of unknown partners: 299443\n"
     ]
    }
   ],
   "source": [
    "print(\"Number of unknown banks:\", len(trans_df[trans_df['bank'].isnull()]))\n",
    "print(\"Number of unknown partners:\", len(trans_df[trans_df['account'].isnull()]) + len(trans_df[trans_df['account'] == 0]))"
   ]
  },
  {
   "cell_type": "markdown",
   "id": "b521bdda-89ab-487c-8079-85eccc4f17a3",
   "metadata": {},
   "source": [
    "The number of unknown banks is the same as the number of unkown partners => these 2 features are highly correlated. Even though these 2 attributes aren't likelly to contribute anything to our dataset, we can create an **'unknown' bank** and set all unkown _account_ attributes to 0."
   ]
  },
  {
   "cell_type": "code",
   "execution_count": 26,
   "id": "cd4b53e1-a93f-4f67-acd0-dd3c22a535ab",
   "metadata": {},
   "outputs": [
    {
     "data": {
      "text/html": [
       "<div>\n",
       "<style scoped>\n",
       "    .dataframe tbody tr th:only-of-type {\n",
       "        vertical-align: middle;\n",
       "    }\n",
       "\n",
       "    .dataframe tbody tr th {\n",
       "        vertical-align: top;\n",
       "    }\n",
       "\n",
       "    .dataframe thead th {\n",
       "        text-align: right;\n",
       "    }\n",
       "</style>\n",
       "<table border=\"1\" class=\"dataframe\">\n",
       "  <thead>\n",
       "    <tr style=\"text-align: right;\">\n",
       "      <th></th>\n",
       "      <th>trans_id</th>\n",
       "      <th>account_id</th>\n",
       "      <th>date</th>\n",
       "      <th>type</th>\n",
       "      <th>operation</th>\n",
       "      <th>amount</th>\n",
       "      <th>balance</th>\n",
       "      <th>k_symbol</th>\n",
       "      <th>bank</th>\n",
       "      <th>account</th>\n",
       "    </tr>\n",
       "  </thead>\n",
       "  <tbody>\n",
       "    <tr>\n",
       "      <th>0</th>\n",
       "      <td>1548749</td>\n",
       "      <td>5270</td>\n",
       "      <td>930113</td>\n",
       "      <td>credit</td>\n",
       "      <td>credit in cash</td>\n",
       "      <td>800.0</td>\n",
       "      <td>800.0</td>\n",
       "      <td>no_symbol</td>\n",
       "      <td>unknown</td>\n",
       "      <td>0.0</td>\n",
       "    </tr>\n",
       "    <tr>\n",
       "      <th>1</th>\n",
       "      <td>1548750</td>\n",
       "      <td>5270</td>\n",
       "      <td>930114</td>\n",
       "      <td>credit</td>\n",
       "      <td>collection from another bank</td>\n",
       "      <td>44749.0</td>\n",
       "      <td>45549.0</td>\n",
       "      <td>no_symbol</td>\n",
       "      <td>IJ</td>\n",
       "      <td>80269753.0</td>\n",
       "    </tr>\n",
       "    <tr>\n",
       "      <th>2</th>\n",
       "      <td>3393738</td>\n",
       "      <td>11265</td>\n",
       "      <td>930114</td>\n",
       "      <td>credit</td>\n",
       "      <td>credit in cash</td>\n",
       "      <td>1000.0</td>\n",
       "      <td>1000.0</td>\n",
       "      <td>no_symbol</td>\n",
       "      <td>unknown</td>\n",
       "      <td>0.0</td>\n",
       "    </tr>\n",
       "    <tr>\n",
       "      <th>3</th>\n",
       "      <td>3122924</td>\n",
       "      <td>10364</td>\n",
       "      <td>930117</td>\n",
       "      <td>credit</td>\n",
       "      <td>credit in cash</td>\n",
       "      <td>1100.0</td>\n",
       "      <td>1100.0</td>\n",
       "      <td>no_symbol</td>\n",
       "      <td>unknown</td>\n",
       "      <td>0.0</td>\n",
       "    </tr>\n",
       "    <tr>\n",
       "      <th>4</th>\n",
       "      <td>1121963</td>\n",
       "      <td>3834</td>\n",
       "      <td>930119</td>\n",
       "      <td>credit</td>\n",
       "      <td>credit in cash</td>\n",
       "      <td>700.0</td>\n",
       "      <td>700.0</td>\n",
       "      <td>no_symbol</td>\n",
       "      <td>unknown</td>\n",
       "      <td>0.0</td>\n",
       "    </tr>\n",
       "  </tbody>\n",
       "</table>\n",
       "</div>"
      ],
      "text/plain": [
       "   trans_id  account_id    date    type                     operation  \\\n",
       "0   1548749        5270  930113  credit                credit in cash   \n",
       "1   1548750        5270  930114  credit  collection from another bank   \n",
       "2   3393738       11265  930114  credit                credit in cash   \n",
       "3   3122924       10364  930117  credit                credit in cash   \n",
       "4   1121963        3834  930119  credit                credit in cash   \n",
       "\n",
       "    amount  balance   k_symbol     bank     account  \n",
       "0    800.0    800.0  no_symbol  unknown         0.0  \n",
       "1  44749.0  45549.0  no_symbol       IJ  80269753.0  \n",
       "2   1000.0   1000.0  no_symbol  unknown         0.0  \n",
       "3   1100.0   1100.0  no_symbol  unknown         0.0  \n",
       "4    700.0    700.0  no_symbol  unknown         0.0  "
      ]
     },
     "execution_count": 26,
     "metadata": {},
     "output_type": "execute_result"
    }
   ],
   "source": [
    "trans_df['account'].fillna(0, inplace=True)\n",
    "trans_df['bank'].fillna(\"unknown\", inplace=True)\n",
    "\n",
    "trans_test_df['account'].fillna(0, inplace=True)\n",
    "trans_test_df['bank'].fillna(\"unknown\", inplace=True)\n",
    "\n",
    "trans_df.head()"
   ]
  },
  {
   "cell_type": "markdown",
   "id": "b7da6f23",
   "metadata": {
    "tags": []
   },
   "source": [
    "## Join data"
   ]
  },
  {
   "cell_type": "markdown",
   "id": "5aa0f628-b4b6-446c-a453-020f266f7fce",
   "metadata": {},
   "source": [
    "It is needed to join all datasets into a **single one**."
   ]
  },
  {
   "cell_type": "code",
   "execution_count": 27,
   "id": "fd625c4b-4c91-4cb3-8c8f-33598728330b",
   "metadata": {},
   "outputs": [],
   "source": [
    "def join(df1, df2, key1, key2, suff, t=\"inner\"):\n",
    "    return df1.merge(df2, left_on=key1, right_on=key2, how=t, suffixes=suff)"
   ]
  },
  {
   "cell_type": "code",
   "execution_count": 28,
   "id": "8f6565a6",
   "metadata": {},
   "outputs": [
    {
     "data": {
      "text/html": [
       "<div>\n",
       "<style scoped>\n",
       "    .dataframe tbody tr th:only-of-type {\n",
       "        vertical-align: middle;\n",
       "    }\n",
       "\n",
       "    .dataframe tbody tr th {\n",
       "        vertical-align: top;\n",
       "    }\n",
       "\n",
       "    .dataframe thead th {\n",
       "        text-align: right;\n",
       "    }\n",
       "</style>\n",
       "<table border=\"1\" class=\"dataframe\">\n",
       "  <thead>\n",
       "    <tr style=\"text-align: right;\">\n",
       "      <th></th>\n",
       "      <th>loan_id</th>\n",
       "      <th>account_id</th>\n",
       "      <th>date_loan</th>\n",
       "      <th>amount</th>\n",
       "      <th>duration</th>\n",
       "      <th>payments</th>\n",
       "      <th>status</th>\n",
       "      <th>district_id</th>\n",
       "      <th>date_account</th>\n",
       "      <th>trans_id</th>\n",
       "      <th>date</th>\n",
       "      <th>amount_trans</th>\n",
       "      <th>balance</th>\n",
       "      <th>account</th>\n",
       "      <th>code</th>\n",
       "      <th>no. of inhabitants</th>\n",
       "      <th>no. of municipalities with inhabitants &lt; 499</th>\n",
       "      <th>no. of municipalities with inhabitants 500-1999</th>\n",
       "      <th>no. of municipalities with inhabitants 2000-9999</th>\n",
       "      <th>no. of municipalities with inhabitants &gt;10000</th>\n",
       "      <th>no. of cities</th>\n",
       "      <th>ratio of urban inhabitants</th>\n",
       "      <th>average salary</th>\n",
       "      <th>unemploymant rate '95</th>\n",
       "      <th>unemploymant rate '96</th>\n",
       "      <th>no. of enterpreneurs per 1000 inhabitants</th>\n",
       "      <th>no. of commited crimes '95</th>\n",
       "      <th>no. of commited crimes '96</th>\n",
       "      <th>client_id</th>\n",
       "      <th>birth_number</th>\n",
       "      <th>disp_id</th>\n",
       "    </tr>\n",
       "  </thead>\n",
       "  <tbody>\n",
       "    <tr>\n",
       "      <th>count</th>\n",
       "      <td>24167.000000</td>\n",
       "      <td>24167.000000</td>\n",
       "      <td>24167.000000</td>\n",
       "      <td>24167.000000</td>\n",
       "      <td>24167.000000</td>\n",
       "      <td>24167.000000</td>\n",
       "      <td>24167.000000</td>\n",
       "      <td>24167.000000</td>\n",
       "      <td>24167.000000</td>\n",
       "      <td>2.416700e+04</td>\n",
       "      <td>24167.000000</td>\n",
       "      <td>24167.000000</td>\n",
       "      <td>24167.00000</td>\n",
       "      <td>2.416700e+04</td>\n",
       "      <td>24167.000000</td>\n",
       "      <td>2.416700e+04</td>\n",
       "      <td>24167.000000</td>\n",
       "      <td>24167.000000</td>\n",
       "      <td>24167.000000</td>\n",
       "      <td>24167.000000</td>\n",
       "      <td>24167.000000</td>\n",
       "      <td>24167.000000</td>\n",
       "      <td>24167.000000</td>\n",
       "      <td>24167.000000</td>\n",
       "      <td>24167.000000</td>\n",
       "      <td>24167.000000</td>\n",
       "      <td>24167.000000</td>\n",
       "      <td>24167.000000</td>\n",
       "      <td>24167.000000</td>\n",
       "      <td>24167.000000</td>\n",
       "      <td>24167.000000</td>\n",
       "    </tr>\n",
       "    <tr>\n",
       "      <th>mean</th>\n",
       "      <td>6246.398684</td>\n",
       "      <td>6179.036041</td>\n",
       "      <td>952601.133405</td>\n",
       "      <td>157959.055241</td>\n",
       "      <td>38.084495</td>\n",
       "      <td>4136.305748</td>\n",
       "      <td>0.815782</td>\n",
       "      <td>39.127322</td>\n",
       "      <td>940629.162370</td>\n",
       "      <td>2.148946e+06</td>\n",
       "      <td>947391.010221</td>\n",
       "      <td>9468.013312</td>\n",
       "      <td>45330.19292</td>\n",
       "      <td>8.443553e+06</td>\n",
       "      <td>39.127322</td>\n",
       "      <td>2.730370e+05</td>\n",
       "      <td>41.855878</td>\n",
       "      <td>22.146646</td>\n",
       "      <td>5.358671</td>\n",
       "      <td>1.654488</td>\n",
       "      <td>5.393098</td>\n",
       "      <td>68.439471</td>\n",
       "      <td>9517.575040</td>\n",
       "      <td>2.869322</td>\n",
       "      <td>3.508543</td>\n",
       "      <td>122.505152</td>\n",
       "      <td>13.758227</td>\n",
       "      <td>16446.537799</td>\n",
       "      <td>7563.640998</td>\n",
       "      <td>595405.843795</td>\n",
       "      <td>7426.355609</td>\n",
       "    </tr>\n",
       "    <tr>\n",
       "      <th>std</th>\n",
       "      <td>645.605910</td>\n",
       "      <td>3108.645735</td>\n",
       "      <td>8426.748891</td>\n",
       "      <td>115679.329737</td>\n",
       "      <td>16.838867</td>\n",
       "      <td>2225.278904</td>\n",
       "      <td>0.578372</td>\n",
       "      <td>24.334024</td>\n",
       "      <td>9098.183829</td>\n",
       "      <td>1.082591e+06</td>\n",
       "      <td>9559.615474</td>\n",
       "      <td>12618.451605</td>\n",
       "      <td>24341.79961</td>\n",
       "      <td>2.201811e+07</td>\n",
       "      <td>24.334024</td>\n",
       "      <td>3.587144e+05</td>\n",
       "      <td>36.981466</td>\n",
       "      <td>16.344460</td>\n",
       "      <td>4.272455</td>\n",
       "      <td>1.008795</td>\n",
       "      <td>3.027103</td>\n",
       "      <td>19.984475</td>\n",
       "      <td>1307.794064</td>\n",
       "      <td>1.880633</td>\n",
       "      <td>2.145231</td>\n",
       "      <td>22.897035</td>\n",
       "      <td>119.480958</td>\n",
       "      <td>31356.794092</td>\n",
       "      <td>3851.243207</td>\n",
       "      <td>133694.209865</td>\n",
       "      <td>3720.772001</td>\n",
       "    </tr>\n",
       "    <tr>\n",
       "      <th>min</th>\n",
       "      <td>4959.000000</td>\n",
       "      <td>2.000000</td>\n",
       "      <td>930705.000000</td>\n",
       "      <td>4980.000000</td>\n",
       "      <td>12.000000</td>\n",
       "      <td>319.000000</td>\n",
       "      <td>-1.000000</td>\n",
       "      <td>1.000000</td>\n",
       "      <td>930113.000000</td>\n",
       "      <td>2.760000e+02</td>\n",
       "      <td>930113.000000</td>\n",
       "      <td>0.100000</td>\n",
       "      <td>-3424.60000</td>\n",
       "      <td>0.000000e+00</td>\n",
       "      <td>1.000000</td>\n",
       "      <td>4.282100e+04</td>\n",
       "      <td>0.000000</td>\n",
       "      <td>0.000000</td>\n",
       "      <td>0.000000</td>\n",
       "      <td>0.000000</td>\n",
       "      <td>1.000000</td>\n",
       "      <td>33.900000</td>\n",
       "      <td>8110.000000</td>\n",
       "      <td>0.290000</td>\n",
       "      <td>0.430000</td>\n",
       "      <td>81.000000</td>\n",
       "      <td>0.290000</td>\n",
       "      <td>888.000000</td>\n",
       "      <td>2.000000</td>\n",
       "      <td>346119.000000</td>\n",
       "      <td>2.000000</td>\n",
       "    </tr>\n",
       "    <tr>\n",
       "      <th>25%</th>\n",
       "      <td>5713.000000</td>\n",
       "      <td>3629.000000</td>\n",
       "      <td>950111.000000</td>\n",
       "      <td>71460.000000</td>\n",
       "      <td>24.000000</td>\n",
       "      <td>2307.000000</td>\n",
       "      <td>1.000000</td>\n",
       "      <td>16.000000</td>\n",
       "      <td>930905.000000</td>\n",
       "      <td>1.191710e+06</td>\n",
       "      <td>940531.000000</td>\n",
       "      <td>227.400000</td>\n",
       "      <td>27929.35000</td>\n",
       "      <td>0.000000e+00</td>\n",
       "      <td>16.000000</td>\n",
       "      <td>8.888400e+04</td>\n",
       "      <td>8.000000</td>\n",
       "      <td>10.000000</td>\n",
       "      <td>2.000000</td>\n",
       "      <td>1.000000</td>\n",
       "      <td>4.000000</td>\n",
       "      <td>53.500000</td>\n",
       "      <td>8547.000000</td>\n",
       "      <td>1.600000</td>\n",
       "      <td>1.960000</td>\n",
       "      <td>107.000000</td>\n",
       "      <td>1.600000</td>\n",
       "      <td>2123.000000</td>\n",
       "      <td>4377.000000</td>\n",
       "      <td>480508.000000</td>\n",
       "      <td>4377.000000</td>\n",
       "    </tr>\n",
       "    <tr>\n",
       "      <th>50%</th>\n",
       "      <td>6296.000000</td>\n",
       "      <td>6358.000000</td>\n",
       "      <td>951122.000000</td>\n",
       "      <td>129408.000000</td>\n",
       "      <td>36.000000</td>\n",
       "      <td>3874.000000</td>\n",
       "      <td>1.000000</td>\n",
       "      <td>40.000000</td>\n",
       "      <td>940709.000000</td>\n",
       "      <td>2.350086e+06</td>\n",
       "      <td>950331.000000</td>\n",
       "      <td>4200.000000</td>\n",
       "      <td>40255.40000</td>\n",
       "      <td>0.000000e+00</td>\n",
       "      <td>40.000000</td>\n",
       "      <td>1.258320e+05</td>\n",
       "      <td>34.000000</td>\n",
       "      <td>23.000000</td>\n",
       "      <td>5.000000</td>\n",
       "      <td>1.000000</td>\n",
       "      <td>5.000000</td>\n",
       "      <td>61.900000</td>\n",
       "      <td>8994.000000</td>\n",
       "      <td>2.640000</td>\n",
       "      <td>3.490000</td>\n",
       "      <td>116.000000</td>\n",
       "      <td>2.640000</td>\n",
       "      <td>3868.000000</td>\n",
       "      <td>7678.000000</td>\n",
       "      <td>595227.000000</td>\n",
       "      <td>7678.000000</td>\n",
       "    </tr>\n",
       "    <tr>\n",
       "      <th>75%</th>\n",
       "      <td>6738.000000</td>\n",
       "      <td>8566.000000</td>\n",
       "      <td>960714.000000</td>\n",
       "      <td>224604.000000</td>\n",
       "      <td>60.000000</td>\n",
       "      <td>6148.000000</td>\n",
       "      <td>1.000000</td>\n",
       "      <td>62.000000</td>\n",
       "      <td>950208.000000</td>\n",
       "      <td>3.104282e+06</td>\n",
       "      <td>951206.000000</td>\n",
       "      <td>13711.000000</td>\n",
       "      <td>57992.10000</td>\n",
       "      <td>0.000000e+00</td>\n",
       "      <td>62.000000</td>\n",
       "      <td>2.261220e+05</td>\n",
       "      <td>65.000000</td>\n",
       "      <td>35.000000</td>\n",
       "      <td>8.000000</td>\n",
       "      <td>2.000000</td>\n",
       "      <td>8.000000</td>\n",
       "      <td>85.500000</td>\n",
       "      <td>9897.000000</td>\n",
       "      <td>3.850000</td>\n",
       "      <td>4.790000</td>\n",
       "      <td>140.000000</td>\n",
       "      <td>3.850000</td>\n",
       "      <td>6872.000000</td>\n",
       "      <td>10566.000000</td>\n",
       "      <td>710803.000000</td>\n",
       "      <td>10258.000000</td>\n",
       "    </tr>\n",
       "    <tr>\n",
       "      <th>max</th>\n",
       "      <td>7308.000000</td>\n",
       "      <td>11362.000000</td>\n",
       "      <td>961227.000000</td>\n",
       "      <td>538500.000000</td>\n",
       "      <td>60.000000</td>\n",
       "      <td>9689.000000</td>\n",
       "      <td>1.000000</td>\n",
       "      <td>77.000000</td>\n",
       "      <td>960625.000000</td>\n",
       "      <td>3.682934e+06</td>\n",
       "      <td>961218.000000</td>\n",
       "      <td>74522.000000</td>\n",
       "      <td>193909.90000</td>\n",
       "      <td>9.987616e+07</td>\n",
       "      <td>77.000000</td>\n",
       "      <td>1.204953e+06</td>\n",
       "      <td>151.000000</td>\n",
       "      <td>70.000000</td>\n",
       "      <td>18.000000</td>\n",
       "      <td>5.000000</td>\n",
       "      <td>11.000000</td>\n",
       "      <td>100.000000</td>\n",
       "      <td>12541.000000</td>\n",
       "      <td>7.340000</td>\n",
       "      <td>9.400000</td>\n",
       "      <td>167.000000</td>\n",
       "      <td>1321.520511</td>\n",
       "      <td>99107.000000</td>\n",
       "      <td>13971.000000</td>\n",
       "      <td>851019.000000</td>\n",
       "      <td>13663.000000</td>\n",
       "    </tr>\n",
       "  </tbody>\n",
       "</table>\n",
       "</div>"
      ],
      "text/plain": [
       "            loan_id    account_id      date_loan         amount      duration  \\\n",
       "count  24167.000000  24167.000000   24167.000000   24167.000000  24167.000000   \n",
       "mean    6246.398684   6179.036041  952601.133405  157959.055241     38.084495   \n",
       "std      645.605910   3108.645735    8426.748891  115679.329737     16.838867   \n",
       "min     4959.000000      2.000000  930705.000000    4980.000000     12.000000   \n",
       "25%     5713.000000   3629.000000  950111.000000   71460.000000     24.000000   \n",
       "50%     6296.000000   6358.000000  951122.000000  129408.000000     36.000000   \n",
       "75%     6738.000000   8566.000000  960714.000000  224604.000000     60.000000   \n",
       "max     7308.000000  11362.000000  961227.000000  538500.000000     60.000000   \n",
       "\n",
       "           payments        status   district_id   date_account      trans_id  \\\n",
       "count  24167.000000  24167.000000  24167.000000   24167.000000  2.416700e+04   \n",
       "mean    4136.305748      0.815782     39.127322  940629.162370  2.148946e+06   \n",
       "std     2225.278904      0.578372     24.334024    9098.183829  1.082591e+06   \n",
       "min      319.000000     -1.000000      1.000000  930113.000000  2.760000e+02   \n",
       "25%     2307.000000      1.000000     16.000000  930905.000000  1.191710e+06   \n",
       "50%     3874.000000      1.000000     40.000000  940709.000000  2.350086e+06   \n",
       "75%     6148.000000      1.000000     62.000000  950208.000000  3.104282e+06   \n",
       "max     9689.000000      1.000000     77.000000  960625.000000  3.682934e+06   \n",
       "\n",
       "                date  amount_trans       balance       account          code  \\\n",
       "count   24167.000000  24167.000000   24167.00000  2.416700e+04  24167.000000   \n",
       "mean   947391.010221   9468.013312   45330.19292  8.443553e+06     39.127322   \n",
       "std      9559.615474  12618.451605   24341.79961  2.201811e+07     24.334024   \n",
       "min    930113.000000      0.100000   -3424.60000  0.000000e+00      1.000000   \n",
       "25%    940531.000000    227.400000   27929.35000  0.000000e+00     16.000000   \n",
       "50%    950331.000000   4200.000000   40255.40000  0.000000e+00     40.000000   \n",
       "75%    951206.000000  13711.000000   57992.10000  0.000000e+00     62.000000   \n",
       "max    961218.000000  74522.000000  193909.90000  9.987616e+07     77.000000   \n",
       "\n",
       "       no. of inhabitants  no. of municipalities with inhabitants < 499  \\\n",
       "count        2.416700e+04                                  24167.000000   \n",
       "mean         2.730370e+05                                     41.855878   \n",
       "std          3.587144e+05                                     36.981466   \n",
       "min          4.282100e+04                                      0.000000   \n",
       "25%          8.888400e+04                                      8.000000   \n",
       "50%          1.258320e+05                                     34.000000   \n",
       "75%          2.261220e+05                                     65.000000   \n",
       "max          1.204953e+06                                    151.000000   \n",
       "\n",
       "       no. of municipalities with inhabitants 500-1999  \\\n",
       "count                                     24167.000000   \n",
       "mean                                         22.146646   \n",
       "std                                          16.344460   \n",
       "min                                           0.000000   \n",
       "25%                                          10.000000   \n",
       "50%                                          23.000000   \n",
       "75%                                          35.000000   \n",
       "max                                          70.000000   \n",
       "\n",
       "       no. of municipalities with inhabitants 2000-9999  \\\n",
       "count                                      24167.000000   \n",
       "mean                                           5.358671   \n",
       "std                                            4.272455   \n",
       "min                                            0.000000   \n",
       "25%                                            2.000000   \n",
       "50%                                            5.000000   \n",
       "75%                                            8.000000   \n",
       "max                                           18.000000   \n",
       "\n",
       "       no. of municipalities with inhabitants >10000  no. of cities  \\\n",
       "count                                   24167.000000   24167.000000   \n",
       "mean                                        1.654488       5.393098   \n",
       "std                                         1.008795       3.027103   \n",
       "min                                         0.000000       1.000000   \n",
       "25%                                         1.000000       4.000000   \n",
       "50%                                         1.000000       5.000000   \n",
       "75%                                         2.000000       8.000000   \n",
       "max                                         5.000000      11.000000   \n",
       "\n",
       "       ratio of urban inhabitants  average salary  unemploymant rate '95  \\\n",
       "count                24167.000000    24167.000000           24167.000000   \n",
       "mean                    68.439471     9517.575040               2.869322   \n",
       "std                     19.984475     1307.794064               1.880633   \n",
       "min                     33.900000     8110.000000               0.290000   \n",
       "25%                     53.500000     8547.000000               1.600000   \n",
       "50%                     61.900000     8994.000000               2.640000   \n",
       "75%                     85.500000     9897.000000               3.850000   \n",
       "max                    100.000000    12541.000000               7.340000   \n",
       "\n",
       "       unemploymant rate '96  no. of enterpreneurs per 1000 inhabitants  \\\n",
       "count           24167.000000                               24167.000000   \n",
       "mean                3.508543                                 122.505152   \n",
       "std                 2.145231                                  22.897035   \n",
       "min                 0.430000                                  81.000000   \n",
       "25%                 1.960000                                 107.000000   \n",
       "50%                 3.490000                                 116.000000   \n",
       "75%                 4.790000                                 140.000000   \n",
       "max                 9.400000                                 167.000000   \n",
       "\n",
       "       no. of commited crimes '95  no. of commited crimes '96     client_id  \\\n",
       "count                24167.000000                24167.000000  24167.000000   \n",
       "mean                    13.758227                16446.537799   7563.640998   \n",
       "std                    119.480958                31356.794092   3851.243207   \n",
       "min                      0.290000                  888.000000      2.000000   \n",
       "25%                      1.600000                 2123.000000   4377.000000   \n",
       "50%                      2.640000                 3868.000000   7678.000000   \n",
       "75%                      3.850000                 6872.000000  10566.000000   \n",
       "max                   1321.520511                99107.000000  13971.000000   \n",
       "\n",
       "        birth_number       disp_id  \n",
       "count   24167.000000  24167.000000  \n",
       "mean   595405.843795   7426.355609  \n",
       "std    133694.209865   3720.772001  \n",
       "min    346119.000000      2.000000  \n",
       "25%    480508.000000   4377.000000  \n",
       "50%    595227.000000   7678.000000  \n",
       "75%    710803.000000  10258.000000  \n",
       "max    851019.000000  13663.000000  "
      ]
     },
     "execution_count": 28,
     "metadata": {},
     "output_type": "execute_result"
    }
   ],
   "source": [
    "join_df = join(loan_df, account_df, 'account_id', 'account_id', ['_loan', '_account'], t=\"left\")\n",
    "\n",
    "join_df = join(join_df, trans_df, 'account_id', 'account_id', ['', '_trans'])\n",
    "join_df = join(join_df, district_df, 'district_id', 'code', ['', '_district'])\n",
    "join_df = join(join_df, client_df, 'district_id', 'district_id', ['', '_client'])\n",
    "join_df = join(join_df, disp_df, ['account_id', 'client_id'], ['account_id', 'client_id'], ['', '_disp'])\n",
    "#join_df = join(join_df, card_df, 'disp_id', 'disp_id', ['', '_card'], t=\"left\")\n",
    "\n",
    "\n",
    "df = join_df\n",
    "df.describe()"
   ]
  },
  {
   "cell_type": "markdown",
   "id": "79ffbe30-f335-403b-adcf-df4cc92503d2",
   "metadata": {},
   "source": [
    "This leaves our dataset with a considerable ammount of _trash_. Drop the **IDs** remaining from the dataset joins."
   ]
  },
  {
   "cell_type": "code",
   "execution_count": 29,
   "id": "33994202-23ab-46ce-a2b8-a7dbfa919765",
   "metadata": {},
   "outputs": [],
   "source": [
    "df.drop(['loan_id',\n",
    "              'account_id',\n",
    "              'district_id',\n",
    "              'client_id',\n",
    "              'trans_id',\n",
    "              'client_id',\n",
    "              'disp_id'], axis=1, inplace=True)"
   ]
  },
  {
   "cell_type": "code",
   "execution_count": 30,
   "id": "3cabf308-3b56-4e10-95bf-eec27874e22e",
   "metadata": {},
   "outputs": [
    {
     "data": {
      "text/plain": [
       "date_loan                                           0\n",
       "amount                                              0\n",
       "duration                                            0\n",
       "payments                                            0\n",
       "status                                              0\n",
       "frequency                                           0\n",
       "date_account                                        0\n",
       "date                                                0\n",
       "type                                                0\n",
       "operation                                           0\n",
       "amount_trans                                        0\n",
       "balance                                             0\n",
       "k_symbol                                            0\n",
       "bank                                                0\n",
       "account                                             0\n",
       "code                                                0\n",
       "name                                                0\n",
       "region                                              0\n",
       "no. of inhabitants                                  0\n",
       "no. of municipalities with inhabitants < 499        0\n",
       "no. of municipalities with inhabitants 500-1999     0\n",
       "no. of municipalities with inhabitants 2000-9999    0\n",
       "no. of municipalities with inhabitants >10000       0\n",
       "no. of cities                                       0\n",
       "ratio of urban inhabitants                          0\n",
       "average salary                                      0\n",
       "unemploymant rate '95                               0\n",
       "unemploymant rate '96                               0\n",
       "no. of enterpreneurs per 1000 inhabitants           0\n",
       "no. of commited crimes '95                          0\n",
       "no. of commited crimes '96                          0\n",
       "birth_number                                        0\n",
       "type_disp                                           0\n",
       "dtype: int64"
      ]
     },
     "execution_count": 30,
     "metadata": {},
     "output_type": "execute_result"
    }
   ],
   "source": [
    "df.isnull().sum()"
   ]
  },
  {
   "cell_type": "markdown",
   "id": "72b1af34-960e-4b43-9a1f-05a92dcd721c",
   "metadata": {},
   "source": [
    "### Save clean data"
   ]
  },
  {
   "cell_type": "code",
   "execution_count": 31,
   "id": "20a0417f-4971-4bbc-b2f9-b98a82a05a40",
   "metadata": {},
   "outputs": [],
   "source": [
    "train_data_clean='cool_data/train-data-clean.csv'\n",
    "df.to_csv(train_data_clean, index=False)"
   ]
  },
  {
   "cell_type": "markdown",
   "id": "50be6869",
   "metadata": {
    "tags": []
   },
   "source": [
    "## Tyding data"
   ]
  },
  {
   "cell_type": "markdown",
   "id": "48827c39-4e06-4fe8-b145-704e8ceb85d2",
   "metadata": {},
   "source": [
    "### Derive clients' gender"
   ]
  },
  {
   "cell_type": "code",
   "execution_count": 32,
   "id": "8f64587c-87be-4649-9c69-80afb786c052",
   "metadata": {},
   "outputs": [],
   "source": [
    "def identify_gender(row):\n",
    "    birth = row['birth_number']\n",
    "    month = (birth // 100) % 100\n",
    "    return False if month > 12 else True \n",
    "\n",
    "# create a new gender column\n",
    "# it is derived from the clients' birth_number\n",
    "client_df['is_male'] = client_df.apply(identify_gender, axis=1)"
   ]
  },
  {
   "cell_type": "markdown",
   "id": "6259b56c-2d19-41a2-8241-6108b66cfd37",
   "metadata": {},
   "source": [
    "### Simplify dates"
   ]
  },
  {
   "cell_type": "code",
   "execution_count": 33,
   "id": "df2516d4",
   "metadata": {},
   "outputs": [],
   "source": [
    "from datetime import datetime, date\n",
    "\n",
    "def identify_year(old_tup, select_date):\n",
    "    birth = old_tup[select_date]\n",
    "    today = date.today()\n",
    "\n",
    "    year = birth // 10000\n",
    "    year = year + 1900\n",
    "    month = (birth // 100) % 100\n",
    "    # For cases when subject is female, month is +50\n",
    "    month = month - 50 if month > 12 else month\n",
    "    day = birth % 100\n",
    "\n",
    "    return datetime(year, month, day)\n",
    "\n",
    "# create new birth date attribute for client\n",
    "client_df['birth_date'] = client_df.apply(lambda x: identify_year(x, \"birth_number\"), axis=1)\n",
    "# birth_numer is not needed anymore => drop it\n",
    "client_df.drop(['birth_number'], axis=1, inplace=True)\n",
    "\n",
    "# transform the transaction date into a timestamp\n",
    "trans_df['date'] = trans_df.apply(lambda x: identify_year(x, \"date\").timestamp(), axis=1)"
   ]
  },
  {
   "cell_type": "markdown",
   "id": "69c53274-566d-4231-94ff-e07aa69ff878",
   "metadata": {},
   "source": [
    "### Discretize client ages"
   ]
  },
  {
   "cell_type": "code",
   "execution_count": 34,
   "id": "af696cfd-0b1a-475e-95b3-ec1583f53eef",
   "metadata": {},
   "outputs": [
    {
     "data": {
      "text/plain": [
       "0         50-65\n",
       "1       retired\n",
       "2       retired\n",
       "3         50-65\n",
       "4         50-65\n",
       "         ...   \n",
       "5364    retired\n",
       "5365    retired\n",
       "5366      50-65\n",
       "5367      50-65\n",
       "5368    retired\n",
       "Name: age, Length: 5369, dtype: category\n",
       "Categories (5, object): ['20-29' < '30-39' < '40-49' < '50-65' < 'retired']"
      ]
     },
     "execution_count": 34,
     "metadata": {},
     "output_type": "execute_result"
    }
   ],
   "source": [
    "# returns age as years from birth date\n",
    "def identify_age(old_tup):\n",
    "    born = old_tup['birth_date']\n",
    "    today = date.today()\n",
    "    age = today.year - born.year - ((today.month, today.day) < (born.month, born.day))\n",
    "    return age\n",
    "\n",
    "# create a new age column for clients\n",
    "client_df['age'] = client_df.apply(identify_age, axis=1)\n",
    "# we don't need the birth dates anymore\n",
    "client_df.drop(['birth_date'], axis=1, inplace=True)\n",
    "\n",
    "# discretize ages\n",
    "age_bins=[20, 29, 39, 49, 66, 150]\n",
    "labels=['20-29', '30-39', '40-49', '50-65', 'retired']\n",
    "client_df['age'] = pd.cut(x=client_df['age'], bins=age_bins, labels=labels)\n",
    "client_df['age']"
   ]
  },
  {
   "cell_type": "markdown",
   "id": "bd347f10-b606-4c99-b41d-682abba5878e",
   "metadata": {
    "tags": []
   },
   "source": [
    "### Apply transaction types to the transaction amount"
   ]
  },
  {
   "cell_type": "code",
   "execution_count": null,
   "id": "8e44cc3c-9506-4ec0-b288-41837127f13e",
   "metadata": {},
   "outputs": [],
   "source": [
    "# convert ammount to negative according to transaction type\n",
    "def convert_amount(old_tup):\n",
    "    ammount = old_tup['amount']\n",
    "    t = old_tup['type']\n",
    "    return ammount if t == \"credit\" else -ammount\n",
    "\n",
    "trans_df['amount'] = trans_df.apply(convert_amount, axis=1)\n",
    "trans_df"
   ]
  },
  {
   "cell_type": "markdown",
   "id": "feaf68f8-7804-43c8-ad6b-03d3df473a1e",
   "metadata": {},
   "source": [
    "## Deal with categorical data"
   ]
  },
  {
   "cell_type": "markdown",
   "id": "a056e0cd-67a9-467e-80eb-8935e4c55970",
   "metadata": {
    "tags": []
   },
   "source": [
    "### Account data"
   ]
  },
  {
   "cell_type": "code",
   "execution_count": null,
   "id": "179a5a1f-0c6f-4d33-844f-c4dd6cf958de",
   "metadata": {},
   "outputs": [],
   "source": [
    "account_df.dtypes"
   ]
  },
  {
   "cell_type": "markdown",
   "id": "ad2627ba-fd35-474f-b315-be3edd2a8ae3",
   "metadata": {},
   "source": [
    "The frequency is possibly categorical data. Let's look at the cardinality of the attribute and whether it has an implicit order."
   ]
  },
  {
   "cell_type": "code",
   "execution_count": null,
   "id": "0d142d82-b367-4b68-add8-039b3217d04a",
   "metadata": {},
   "outputs": [],
   "source": [
    "account_df['frequency'].value_counts()"
   ]
  },
  {
   "cell_type": "markdown",
   "id": "fdd47924-e816-41eb-862d-c2ea4c3d0559",
   "metadata": {},
   "source": [
    "There are 3  possible values for the **frquency attribute**: _monthly issuance_, _weekly issuance_, _issuance_ after transation. There is an implicit order between weekly and monthly, but with _issuance after transation_ it isn't so obvious. It was decided that, since it is expected that people do more than 1 transaction per week, _issuance after transation_ also relates to the other 2 in terms of time.\n",
    "\n",
    "When considering the time intervals between transations: _issuance after transation_ < _weekly issuance_ < _monthly issuance_.\n",
    "\n",
    "There is also a magnitude difference between all of them, e.g.: monthly is around 4 times more frequent than weekly. This raises the issue of how much more frequent is _issuance after transaction_ than _weekly issuance_. Let's assume the _weekly issuance_ is 7 time less frequent."
   ]
  },
  {
   "cell_type": "markdown",
   "id": "7accee14-353c-46dc-826e-5b76f0b5693e",
   "metadata": {},
   "source": [
    "Let's replace this categorical data by ordered integers:"
   ]
  },
  {
   "cell_type": "code",
   "execution_count": null,
   "id": "5aaac785-4134-4b1a-8b26-aebc5f6d89e0",
   "metadata": {},
   "outputs": [],
   "source": [
    "account_df.replace({'frequency':\n",
    "                    {'issuance after transaction': 1, 'weekly issuance': 7, 'monthly issuance': 30}\n",
    "                   }, inplace=True)\n",
    "account_df['frequency']"
   ]
  },
  {
   "cell_type": "markdown",
   "id": "3c3d4226-2f61-45c6-bfa2-0f0abec94907",
   "metadata": {
    "tags": []
   },
   "source": [
    "### Card data"
   ]
  },
  {
   "cell_type": "code",
   "execution_count": null,
   "id": "eba55b56-67be-45b9-9190-e33fdb861cdb",
   "metadata": {},
   "outputs": [],
   "source": [
    "card_df.dtypes"
   ]
  },
  {
   "cell_type": "markdown",
   "id": "60d7d765-4f5b-4039-8e07-34211ba8af1f",
   "metadata": {},
   "source": [
    "The **type** attribute is probably categorical data."
   ]
  },
  {
   "cell_type": "code",
   "execution_count": null,
   "id": "ff19a1ee-aa52-4d98-be42-bea1230cceae",
   "metadata": {},
   "outputs": [],
   "source": [
    "card_df['type'].value_counts()"
   ]
  },
  {
   "cell_type": "markdown",
   "id": "c3ff2b51-598c-40eb-b2d5-0f6b72120adf",
   "metadata": {},
   "source": [
    "_junior_ accounts are for underarge people (lowest tier) and usually it isn't possible to withdrawl money from them, and _gold_ account are the highest tier. There is an implicit order here: _junior_ < _classic_ < _gold_."
   ]
  },
  {
   "cell_type": "code",
   "execution_count": null,
   "id": "174a03ac-70d6-4a95-b24e-387128b17ff3",
   "metadata": {},
   "outputs": [],
   "source": [
    "card_df.replace({'type':\n",
    "                    {'junior': 0, 'classic': 1, 'gold': 2}\n",
    "                   }, inplace=True)\n",
    "card_df['type']"
   ]
  },
  {
   "cell_type": "markdown",
   "id": "b84f7a77-88bf-482a-8813-d4ca94bea09e",
   "metadata": {
    "tags": []
   },
   "source": [
    "### Client data"
   ]
  },
  {
   "cell_type": "code",
   "execution_count": null,
   "id": "6ad200c5-2c74-4da2-9563-0c9bab8a0d6d",
   "metadata": {},
   "outputs": [],
   "source": [
    "client_df.dtypes"
   ]
  },
  {
   "cell_type": "markdown",
   "id": "0d1604d2-79ad-4afe-b290-f2b14a201be2",
   "metadata": {},
   "source": [
    "_age_ is a categorical value. Each category represents a range. This ranges can be divided into 2 attributes: the start and the end of the range."
   ]
  },
  {
   "cell_type": "code",
   "execution_count": null,
   "id": "316b26cb-5352-4625-9b6e-ea385af8aa3a",
   "metadata": {},
   "outputs": [],
   "source": [
    "def uncat_age_bins(row, is_begin=True):\n",
    "    age = row['age']\n",
    "    if age == 'retired':\n",
    "        return 66 if is_begin else 150\n",
    "    return age.split('-')[0 if is_begin else 1]\n",
    "    \n",
    "\n",
    "client_df['age_start'] = client_df.apply(uncat_age_bins, axis=1)\n",
    "client_df['age_end'] = client_df.apply(lambda x: uncat_age_bins(x, False), axis=1)\n",
    "\n",
    "client_df.drop(['age'], axis=1, inplace=True)\n",
    "\n",
    "client_df.head()"
   ]
  },
  {
   "cell_type": "markdown",
   "id": "4290f1ab-458f-4ec1-9e03-1a1ff19f8884",
   "metadata": {
    "tags": []
   },
   "source": [
    "### Disposition data"
   ]
  },
  {
   "cell_type": "code",
   "execution_count": null,
   "id": "98c4da86-81d9-464c-afb1-561650beb659",
   "metadata": {},
   "outputs": [],
   "source": [
    "disp_df.dtypes"
   ]
  },
  {
   "cell_type": "markdown",
   "id": "02965447-3373-4f24-aae8-3741b7e817c6",
   "metadata": {},
   "source": [
    "The **type** attribute is probably categorical data."
   ]
  },
  {
   "cell_type": "code",
   "execution_count": null,
   "id": "4dd380c4-3cb3-4fec-bfc1-5d67583f1732",
   "metadata": {},
   "outputs": [],
   "source": [
    "disp_df['type'].value_counts()"
   ]
  },
  {
   "cell_type": "markdown",
   "id": "1f0dde42-db09-48ed-a300-bcb882cb5d60",
   "metadata": {},
   "source": [
    "There are only two categories here. We can replace this by a boolean depicting where the disposition is owner or not."
   ]
  },
  {
   "cell_type": "code",
   "execution_count": null,
   "id": "eb520539-c6ae-4fd7-a2d5-60e8282c3b4b",
   "metadata": {},
   "outputs": [],
   "source": [
    "disp_df['is_owner'] = disp_df['type'].apply(lambda x: True if x == \"OWNER\" else False)\n",
    "disp_df.drop(['type'], axis=1, inplace=True)\n",
    "disp_df.head()"
   ]
  },
  {
   "cell_type": "markdown",
   "id": "fbd9d6b9-a80d-46f9-afab-6804de2fc183",
   "metadata": {
    "tags": []
   },
   "source": [
    "### District data"
   ]
  },
  {
   "cell_type": "code",
   "execution_count": null,
   "id": "d81ac080-328b-4957-a943-cd8ec347c515",
   "metadata": {},
   "outputs": [],
   "source": [
    "district_df.dtypes"
   ]
  },
  {
   "cell_type": "markdown",
   "id": "7ff2417b-ed0b-4d7e-bf5c-020ff816316d",
   "metadata": {},
   "source": [
    "Both name and region are categorical data."
   ]
  },
  {
   "cell_type": "code",
   "execution_count": null,
   "id": "91822cad-ad33-401a-b2d7-f4dec9a127c1",
   "metadata": {},
   "outputs": [],
   "source": [
    "print(\"Number of different 'code' values:\", len(district_df['code'].value_counts()))\n",
    "print(\"Number of different 'name' values:\", len(district_df['name'].value_counts()))"
   ]
  },
  {
   "cell_type": "markdown",
   "id": "ade7439a-a8f4-45ce-ac5f-81fb976317b8",
   "metadata": {},
   "source": [
    "We can see that there is a direct association between the **code** and **name** attributes. This means they are redundant and we don't have to deal with the **name** attribute.\n",
    "\n",
    "There is a problem with this. The **code** attributes are integers which indirectly imply an order, even though the names of the regions are nominal features, but it encoding it would generate too many attributes, so it was decided that it would be dropped."
   ]
  },
  {
   "cell_type": "code",
   "execution_count": null,
   "id": "974d8647-90b5-489c-aa74-8fdf2663d552",
   "metadata": {},
   "outputs": [],
   "source": [
    "district_df.drop(['name'], axis=1, inplace=True)"
   ]
  },
  {
   "cell_type": "markdown",
   "id": "3559b262-8e84-470f-84f3-4b835faf9a2d",
   "metadata": {},
   "source": [
    "The **region** feature is categorial and there is no order associated. This means this attribute should be encoded in order to remove it's categorical nature and still remain unordered. One-Hot encoding could be used for simplicity, but Binary enconding is be better."
   ]
  },
  {
   "cell_type": "code",
   "execution_count": null,
   "id": "fdd06ec4-5ef4-41c1-af67-a5330d8bf043",
   "metadata": {},
   "outputs": [],
   "source": [
    "district_df['region'].value_counts()"
   ]
  },
  {
   "cell_type": "code",
   "execution_count": null,
   "id": "9ceb1c90-69ff-4dd7-b01a-936be12d2ebc",
   "metadata": {},
   "outputs": [],
   "source": [
    "from category_encoders import BinaryEncoder\n",
    "\n",
    "encoder = BinaryEncoder(cols=['region'])\n",
    "district_df = encoder.fit_transform(district_df)\n",
    "district_df.head()"
   ]
  },
  {
   "cell_type": "markdown",
   "id": "e55c2634-b936-448e-b395-fed6d07c962a",
   "metadata": {
    "tags": []
   },
   "source": [
    "### Loan data"
   ]
  },
  {
   "cell_type": "code",
   "execution_count": null,
   "id": "eff03808-9942-4846-96c3-041ae362721c",
   "metadata": {},
   "outputs": [],
   "source": [
    "loan_df.dtypes"
   ]
  },
  {
   "cell_type": "markdown",
   "id": "fc41a4da-021c-48a2-97b7-2d139b43968a",
   "metadata": {},
   "source": [
    "There is no categorical data to deal with on this dataframe."
   ]
  },
  {
   "cell_type": "markdown",
   "id": "aef82b05-7624-49e7-8462-cfaac4f22f61",
   "metadata": {},
   "source": [
    "### Transaction data"
   ]
  },
  {
   "cell_type": "code",
   "execution_count": null,
   "id": "25c69556-7e24-4dbe-930c-41f84301fa49",
   "metadata": {},
   "outputs": [],
   "source": [
    "trans_df.dtypes"
   ]
  },
  {
   "cell_type": "markdown",
   "id": "8601c0da-0c02-4738-9197-671759cb5d99",
   "metadata": {},
   "source": [
    "There are also 4 categorical attributes in this dataframe: _type_, _operation_, _k\\_symbol_, and _bank_."
   ]
  },
  {
   "cell_type": "code",
   "execution_count": null,
   "id": "c68e8cec-eb51-4253-9d89-510c8ac3c264",
   "metadata": {},
   "outputs": [],
   "source": [
    "trans_df['type'].value_counts()"
   ]
  },
  {
   "cell_type": "markdown",
   "id": "6bfb737d-3daa-4011-95cd-8aeea0ba192a",
   "metadata": {},
   "source": [
    "The _type_ attribute has 3 categories with no distinct order between them."
   ]
  },
  {
   "cell_type": "code",
   "execution_count": null,
   "id": "b5e392ed-8892-458e-8080-03bca2831f4a",
   "metadata": {
    "tags": []
   },
   "outputs": [],
   "source": [
    "from category_encoders import BinaryEncoder\n",
    "\n",
    "encoder = BinaryEncoder(cols=['type'])\n",
    "trans_df = encoder.fit_transform(trans_df)\n",
    "trans_df.head()"
   ]
  },
  {
   "cell_type": "markdown",
   "id": "69a40422-9dbf-4026-b871-d8aae4d62e73",
   "metadata": {},
   "source": [
    "This data could have been encoded with One-Hot encoding, which is simpler. Binary encoding is used in order to use 1 less attribute."
   ]
  },
  {
   "cell_type": "code",
   "execution_count": null,
   "id": "4f896b8e-4417-46cf-bf7d-4a71f656825f",
   "metadata": {},
   "outputs": [],
   "source": [
    "trans_df.drop(['operation', 'k_symbol', 'bank'], axis=1, inplace=True)"
   ]
  },
  {
   "cell_type": "markdown",
   "id": "4311e9dc-e6a3-4016-9024-b7b53025fc7f",
   "metadata": {
    "tags": []
   },
   "source": [
    "## Classification"
   ]
  },
  {
   "cell_type": "code",
   "execution_count": null,
   "id": "812a49ce-8efc-47aa-ab77-e9e1ae583c9f",
   "metadata": {},
   "outputs": [],
   "source": [
    "def getXy(df):\n",
    "    # inputs\n",
    "    X = df.drop([\"status\"], axis=1)\n",
    "    # target\n",
    "    y = df[\"status\"]\n",
    "    return (X, y)\n",
    "\n",
    "X_train, y_train = getXy(df)\n",
    "# // TODO scale data?"
   ]
  },
  {
   "cell_type": "markdown",
   "id": "790b39ec-a944-4966-a77f-19443a309d4f",
   "metadata": {},
   "source": [
    "Note that we scaled our data. We did this because we need it to obtain better results on distance-based models: K-NN and SVC. This doesn't affect tree-based algorithms so we do it here."
   ]
  },
  {
   "cell_type": "code",
   "execution_count": null,
   "id": "84dce9d6-36a9-45f3-86c0-751e8ac3e726",
   "metadata": {},
   "outputs": [],
   "source": [
    "from sklearn.model_selection import StratifiedKFold\n",
    "\n",
    "k = 10\n",
    "kf = StratifiedKFold(n_splits=k)"
   ]
  },
  {
   "cell_type": "markdown",
   "id": "6ad9b629-e408-4b89-8520-5d61b7ed0f9c",
   "metadata": {},
   "source": [
    "We will be using **Stratified K-Fold with 10 folds** for our cross-validations."
   ]
  },
  {
   "cell_type": "markdown",
   "id": "68d0bd14-926f-4169-b3cb-6597a76fcfe3",
   "metadata": {},
   "source": [
    "### Establishing a baseline"
   ]
  },
  {
   "cell_type": "markdown",
   "id": "781ce53c-05ef-45a2-944c-69b15e201090",
   "metadata": {},
   "source": [
    "Let's establish a baseline for our classifiers."
   ]
  },
  {
   "cell_type": "code",
   "execution_count": null,
   "id": "d3df4fbf-c452-4e64-81da-ac5302f14915",
   "metadata": {},
   "outputs": [],
   "source": [
    "from sklearn.model_selection import cross_validate\n",
    "from sklearn.tree import DecisionTreeClassifier\n",
    "from sklearn.neighbors import KNeighborsClassifier\n",
    "from sklearn.naive_bayes import GaussianNB\n",
    "\n",
    "baseline_clfs = [\n",
    "    {\"name\": \"Decision tree\", \"clf\": DecisionTreeClassifier()},\n",
    "    #{\"name\": \"K-Nearest neighbors\", \"clf\": KNeighborsClassifier()},\n",
    "    {\"name\": \"Naive Bayes\", \"clf\": GaussianNB()},\n",
    "]\n",
    "\n",
    "scoring = {\"accuracy\": \"accuracy\",\n",
    "           \"precision\": \"precision_weighted\",\n",
    "           \"recall\": \"recall_weighted\",\n",
    "           \"f1\": \"f1_weighted\"}\n",
    "\n",
    "# save classifier information in DataFrame: name, score, fit_time, score_time\n",
    "baseline_df = pd.DataFrame()\n",
    "for clf_entry in baseline_clfs:\n",
    "    scores = cross_validate(clf_entry[\"clf\"], X_train, y_train, scoring=scoring, cv=kf, n_jobs=configNJobs)\n",
    "    info = scores | {\"classifier\": [clf_entry[\"name\"]] * k}\n",
    "    baseline_df = baseline_df.append(pd.DataFrame(info))\n",
    "\n",
    "baseline_df"
   ]
  },
  {
   "cell_type": "code",
   "execution_count": null,
   "id": "eaef682f-8424-4241-a485-1fae7ae7a48e",
   "metadata": {},
   "outputs": [],
   "source": []
  }
 ],
 "metadata": {
  "kernelspec": {
   "display_name": "Python 3 (ipykernel)",
   "language": "python",
   "name": "python3"
  },
  "language_info": {
   "codemirror_mode": {
    "name": "ipython",
    "version": 3
   },
   "file_extension": ".py",
   "mimetype": "text/x-python",
   "name": "python",
   "nbconvert_exporter": "python",
   "pygments_lexer": "ipython3",
   "version": "3.9.7"
  }
 },
 "nbformat": 4,
 "nbformat_minor": 5
}
