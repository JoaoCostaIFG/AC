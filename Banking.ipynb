{
 "cells": [
  {
   "cell_type": "markdown",
   "id": "02387a7c-7f8d-4039-8725-20e75cc8b201",
   "metadata": {},
   "source": [
    "# AC FEUP 21/22"
   ]
  },
  {
   "cell_type": "markdown",
   "id": "7ff4a512-1545-4a35-b92d-7fbc222c81ed",
   "metadata": {
    "tags": []
   },
   "source": [
    "## Main dependencies"
   ]
  },
  {
   "cell_type": "code",
   "execution_count": 1,
   "id": "f950da41-94f9-4c71-a1e2-4cb358a2f6b1",
   "metadata": {},
   "outputs": [],
   "source": [
    "import pandas as pd\n",
    "import matplotlib.pyplot as plt\n",
    "%matplotlib inline\n",
    "import seaborn as sb\n",
    "import numpy as np\n",
    "import sklearn\n",
    "\n",
    "# use to not cut columns\n",
    "pd.set_option('max_columns', None)\n",
    "\n",
    "# njobs to use in sklearn models\n",
    "configNJobs = -1"
   ]
  },
  {
   "cell_type": "markdown",
   "id": "7d89a623",
   "metadata": {
    "tags": []
   },
   "source": [
    "## Import data"
   ]
  },
  {
   "cell_type": "markdown",
   "id": "4aae85b6-9c9e-4f18-88d7-f9e351691cb6",
   "metadata": {},
   "source": [
    "### Training data"
   ]
  },
  {
   "cell_type": "code",
   "execution_count": 2,
   "id": "c45d1acc",
   "metadata": {},
   "outputs": [
    {
     "data": {
      "text/html": [
       "<div>\n",
       "<style scoped>\n",
       "    .dataframe tbody tr th:only-of-type {\n",
       "        vertical-align: middle;\n",
       "    }\n",
       "\n",
       "    .dataframe tbody tr th {\n",
       "        vertical-align: top;\n",
       "    }\n",
       "\n",
       "    .dataframe thead th {\n",
       "        text-align: right;\n",
       "    }\n",
       "</style>\n",
       "<table border=\"1\" class=\"dataframe\">\n",
       "  <thead>\n",
       "    <tr style=\"text-align: right;\">\n",
       "      <th></th>\n",
       "      <th>trans_id</th>\n",
       "      <th>account_id</th>\n",
       "      <th>date</th>\n",
       "      <th>type</th>\n",
       "      <th>operation</th>\n",
       "      <th>amount</th>\n",
       "      <th>balance</th>\n",
       "      <th>k_symbol</th>\n",
       "      <th>bank</th>\n",
       "      <th>account</th>\n",
       "    </tr>\n",
       "  </thead>\n",
       "  <tbody>\n",
       "    <tr>\n",
       "      <th>0</th>\n",
       "      <td>1548749</td>\n",
       "      <td>5270</td>\n",
       "      <td>930113</td>\n",
       "      <td>credit</td>\n",
       "      <td>credit in cash</td>\n",
       "      <td>800.0</td>\n",
       "      <td>800.0</td>\n",
       "      <td>NaN</td>\n",
       "      <td>NaN</td>\n",
       "      <td>NaN</td>\n",
       "    </tr>\n",
       "    <tr>\n",
       "      <th>1</th>\n",
       "      <td>1548750</td>\n",
       "      <td>5270</td>\n",
       "      <td>930114</td>\n",
       "      <td>credit</td>\n",
       "      <td>collection from another bank</td>\n",
       "      <td>44749.0</td>\n",
       "      <td>45549.0</td>\n",
       "      <td>NaN</td>\n",
       "      <td>IJ</td>\n",
       "      <td>80269753.0</td>\n",
       "    </tr>\n",
       "    <tr>\n",
       "      <th>2</th>\n",
       "      <td>3393738</td>\n",
       "      <td>11265</td>\n",
       "      <td>930114</td>\n",
       "      <td>credit</td>\n",
       "      <td>credit in cash</td>\n",
       "      <td>1000.0</td>\n",
       "      <td>1000.0</td>\n",
       "      <td>NaN</td>\n",
       "      <td>NaN</td>\n",
       "      <td>NaN</td>\n",
       "    </tr>\n",
       "    <tr>\n",
       "      <th>3</th>\n",
       "      <td>3122924</td>\n",
       "      <td>10364</td>\n",
       "      <td>930117</td>\n",
       "      <td>credit</td>\n",
       "      <td>credit in cash</td>\n",
       "      <td>1100.0</td>\n",
       "      <td>1100.0</td>\n",
       "      <td>NaN</td>\n",
       "      <td>NaN</td>\n",
       "      <td>NaN</td>\n",
       "    </tr>\n",
       "    <tr>\n",
       "      <th>4</th>\n",
       "      <td>1121963</td>\n",
       "      <td>3834</td>\n",
       "      <td>930119</td>\n",
       "      <td>credit</td>\n",
       "      <td>credit in cash</td>\n",
       "      <td>700.0</td>\n",
       "      <td>700.0</td>\n",
       "      <td>NaN</td>\n",
       "      <td>NaN</td>\n",
       "      <td>NaN</td>\n",
       "    </tr>\n",
       "  </tbody>\n",
       "</table>\n",
       "</div>"
      ],
      "text/plain": [
       "   trans_id  account_id    date    type                     operation  \\\n",
       "0   1548749        5270  930113  credit                credit in cash   \n",
       "1   1548750        5270  930114  credit  collection from another bank   \n",
       "2   3393738       11265  930114  credit                credit in cash   \n",
       "3   3122924       10364  930117  credit                credit in cash   \n",
       "4   1121963        3834  930119  credit                credit in cash   \n",
       "\n",
       "    amount  balance k_symbol bank     account  \n",
       "0    800.0    800.0      NaN  NaN         NaN  \n",
       "1  44749.0  45549.0      NaN   IJ  80269753.0  \n",
       "2   1000.0   1000.0      NaN  NaN         NaN  \n",
       "3   1100.0   1100.0      NaN  NaN         NaN  \n",
       "4    700.0    700.0      NaN  NaN         NaN  "
      ]
     },
     "execution_count": 2,
     "metadata": {},
     "output_type": "execute_result"
    }
   ],
   "source": [
    "# import data\n",
    "def read_csv(file, dtype={}, na_values=None):\n",
    "    return pd.read_csv(\"data/\" + file, sep=\";\", dtype=dtype, na_values=na_values)\n",
    "\n",
    "account_df = read_csv(\"account.csv\")\n",
    "card_df = read_csv(\"card_train.csv\")\n",
    "client_df = read_csv(\"client.csv\")\n",
    "disp_df = read_csv(\"disp.csv\")\n",
    "district_df = read_csv(\"district.csv\", na_values=\"?\")\n",
    "loan_df = read_csv(\"loan_train.csv\")\n",
    "trans_df = read_csv(\"trans_train.csv\", {'bank': 'str'})\n",
    "\n",
    "# clean column names (Some columns come with an extra whitespace)\n",
    "district_df = district_df.rename(columns=lambda x: x.strip())\n",
    "\n",
    "trans_df.head()"
   ]
  },
  {
   "cell_type": "markdown",
   "id": "fb17d78d-d05b-44c2-813d-172f7bc124ae",
   "metadata": {},
   "source": [
    "### Test data"
   ]
  },
  {
   "cell_type": "code",
   "execution_count": 3,
   "id": "c036f4b8-65a6-4cea-8e5f-5c659a261da0",
   "metadata": {},
   "outputs": [],
   "source": [
    "card_test_df = read_csv(\"card_test.csv\")\n",
    "loan_test_df = read_csv(\"loan_test.csv\")\n",
    "trans_test_df = read_csv(\"trans_test.csv\", {'bank': 'str'})"
   ]
  },
  {
   "cell_type": "markdown",
   "id": "f691facc-f513-4c3e-bd1d-5dad260f7576",
   "metadata": {},
   "source": [
    "## Tyding missing values and categorical data"
   ]
  },
  {
   "cell_type": "markdown",
   "id": "4ae136ad-2d8e-4253-b5e9-dcee815bd40d",
   "metadata": {},
   "source": [
    "### Account data"
   ]
  },
  {
   "cell_type": "code",
   "execution_count": 4,
   "id": "179a5a1f-0c6f-4d33-844f-c4dd6cf958de",
   "metadata": {},
   "outputs": [
    {
     "data": {
      "text/plain": [
       "account_id      int64\n",
       "district_id     int64\n",
       "frequency      object\n",
       "date            int64\n",
       "dtype: object"
      ]
     },
     "execution_count": 4,
     "metadata": {},
     "output_type": "execute_result"
    }
   ],
   "source": [
    "account_df.dtypes"
   ]
  },
  {
   "cell_type": "markdown",
   "id": "ad2627ba-fd35-474f-b315-be3edd2a8ae3",
   "metadata": {},
   "source": [
    "The frequency is possibly categorical data. Let's look at the cardinality of the attribute and whether it has an implicit order."
   ]
  },
  {
   "cell_type": "code",
   "execution_count": 5,
   "id": "0d142d82-b367-4b68-add8-039b3217d04a",
   "metadata": {},
   "outputs": [
    {
     "data": {
      "text/plain": [
       "monthly issuance              4167\n",
       "weekly issuance                240\n",
       "issuance after transaction      93\n",
       "Name: frequency, dtype: int64"
      ]
     },
     "execution_count": 5,
     "metadata": {},
     "output_type": "execute_result"
    }
   ],
   "source": [
    "account_df['frequency'].value_counts()"
   ]
  },
  {
   "cell_type": "markdown",
   "id": "fdd47924-e816-41eb-862d-c2ea4c3d0559",
   "metadata": {},
   "source": [
    "There are 3  possible values for the **frquency attribute**: _monthly issuance_, _weekly issuance_, _issuance_ after transation. There is an implicit order between weekly and monthly, but with _issuance after transation_ it isn't so obvious. It was decided that, since it is expected that people do more than 1 transaction per week, _issuance after transation_ also relates to the other 2 in terms of time.\n",
    "\n",
    "When considering the time intervals between transations: _issuance after transation_ < _weekly issuance_ < _monthly issuance_.\n",
    "\n",
    "There is also a magnitude difference between all of them, e.g.: monthly is around 4 times more frequent than weekly. This raises the issue of how much more frequent is _issuance after transaction_ than _weekly issuance_. Let's assume the _weekly issuance_ is 7 time less frequent."
   ]
  },
  {
   "cell_type": "markdown",
   "id": "7accee14-353c-46dc-826e-5b76f0b5693e",
   "metadata": {},
   "source": [
    "Let's replace this categorical data by ordered integers:"
   ]
  },
  {
   "cell_type": "code",
   "execution_count": 6,
   "id": "5aaac785-4134-4b1a-8b26-aebc5f6d89e0",
   "metadata": {},
   "outputs": [
    {
     "data": {
      "text/plain": [
       "0       30\n",
       "1       30\n",
       "2       30\n",
       "3       30\n",
       "4       30\n",
       "        ..\n",
       "4495    30\n",
       "4496    30\n",
       "4497    30\n",
       "4498    30\n",
       "4499    30\n",
       "Name: frequency, Length: 4500, dtype: object"
      ]
     },
     "execution_count": 6,
     "metadata": {},
     "output_type": "execute_result"
    }
   ],
   "source": [
    "account_df.replace({'frequency':\n",
    "                    {'issuance after transation': 1, 'weekly issuance': 7, 'monthly issuance': 30}\n",
    "                   }, inplace=True)\n",
    "account_df['frequency']"
   ]
  },
  {
   "cell_type": "code",
   "execution_count": 7,
   "id": "95721635-ab03-4268-a832-fdcfa9e9d130",
   "metadata": {},
   "outputs": [
    {
     "data": {
      "text/plain": [
       "account_id     0\n",
       "district_id    0\n",
       "frequency      0\n",
       "date           0\n",
       "dtype: int64"
      ]
     },
     "execution_count": 7,
     "metadata": {},
     "output_type": "execute_result"
    }
   ],
   "source": [
    "account_df.isnull().sum()"
   ]
  },
  {
   "cell_type": "markdown",
   "id": "2fac2fe4-526a-42e0-9724-1f356427cbcc",
   "metadata": {},
   "source": [
    "No NULL data to deal with on this dataframe."
   ]
  },
  {
   "cell_type": "markdown",
   "id": "5e13c446-98c0-417f-af91-3987dfb6c28a",
   "metadata": {},
   "source": [
    "### Card data"
   ]
  },
  {
   "cell_type": "code",
   "execution_count": 8,
   "id": "eba55b56-67be-45b9-9190-e33fdb861cdb",
   "metadata": {},
   "outputs": [
    {
     "data": {
      "text/plain": [
       "card_id     int64\n",
       "disp_id     int64\n",
       "type       object\n",
       "issued      int64\n",
       "dtype: object"
      ]
     },
     "execution_count": 8,
     "metadata": {},
     "output_type": "execute_result"
    }
   ],
   "source": [
    "card_df.dtypes"
   ]
  },
  {
   "cell_type": "markdown",
   "id": "60d7d765-4f5b-4039-8e07-34211ba8af1f",
   "metadata": {},
   "source": [
    "The **type** attribute is probably categorical data."
   ]
  },
  {
   "cell_type": "code",
   "execution_count": 9,
   "id": "ff19a1ee-aa52-4d98-be42-bea1230cceae",
   "metadata": {},
   "outputs": [
    {
     "data": {
      "text/plain": [
       "classic    127\n",
       "junior      41\n",
       "gold         9\n",
       "Name: type, dtype: int64"
      ]
     },
     "execution_count": 9,
     "metadata": {},
     "output_type": "execute_result"
    }
   ],
   "source": [
    "card_df['type'].value_counts()"
   ]
  },
  {
   "cell_type": "markdown",
   "id": "c3ff2b51-598c-40eb-b2d5-0f6b72120adf",
   "metadata": {},
   "source": [
    "_junior_ accounts are for underarge people (lowest tier) and usually it isn't possible to withdrawl money from them, and _gold_ account are the highest tier. There is an implicit order here: _junior_ < _classic_ < _gold_."
   ]
  },
  {
   "cell_type": "code",
   "execution_count": 10,
   "id": "174a03ac-70d6-4a95-b24e-387128b17ff3",
   "metadata": {},
   "outputs": [
    {
     "data": {
      "text/plain": [
       "0      1\n",
       "1      1\n",
       "2      1\n",
       "3      1\n",
       "4      1\n",
       "      ..\n",
       "172    1\n",
       "173    0\n",
       "174    0\n",
       "175    1\n",
       "176    1\n",
       "Name: type, Length: 177, dtype: int64"
      ]
     },
     "execution_count": 10,
     "metadata": {},
     "output_type": "execute_result"
    }
   ],
   "source": [
    "card_df.replace({'type':\n",
    "                    {'junior': 0, 'classic': 1, 'gold': 2}\n",
    "                   }, inplace=True)\n",
    "card_df['type']"
   ]
  },
  {
   "cell_type": "code",
   "execution_count": 11,
   "id": "c9a9c772-cd4e-4bd3-87a6-9ac86b878e06",
   "metadata": {},
   "outputs": [
    {
     "data": {
      "text/plain": [
       "card_id    0\n",
       "disp_id    0\n",
       "type       0\n",
       "issued     0\n",
       "dtype: int64"
      ]
     },
     "execution_count": 11,
     "metadata": {},
     "output_type": "execute_result"
    }
   ],
   "source": [
    "card_df.isnull().sum()"
   ]
  },
  {
   "cell_type": "markdown",
   "id": "bbbee90d-41ca-40c3-a3c2-c976a2aac3da",
   "metadata": {},
   "source": [
    "No NULL data to deal with on this dataframe."
   ]
  },
  {
   "cell_type": "markdown",
   "id": "f153eaf3-c8dd-46fe-a5bf-7896d6f5b151",
   "metadata": {},
   "source": [
    "### Client data"
   ]
  },
  {
   "cell_type": "code",
   "execution_count": 12,
   "id": "6ad200c5-2c74-4da2-9563-0c9bab8a0d6d",
   "metadata": {},
   "outputs": [
    {
     "data": {
      "text/plain": [
       "client_id       int64\n",
       "birth_number    int64\n",
       "district_id     int64\n",
       "dtype: object"
      ]
     },
     "execution_count": 12,
     "metadata": {},
     "output_type": "execute_result"
    }
   ],
   "source": [
    "client_df.dtypes"
   ]
  },
  {
   "cell_type": "code",
   "execution_count": 13,
   "id": "bc391b1f-daae-4335-8e5a-754806056769",
   "metadata": {},
   "outputs": [
    {
     "data": {
      "text/plain": [
       "card_id    0\n",
       "disp_id    0\n",
       "type       0\n",
       "issued     0\n",
       "dtype: int64"
      ]
     },
     "execution_count": 13,
     "metadata": {},
     "output_type": "execute_result"
    }
   ],
   "source": [
    "card_df.isnull().sum()"
   ]
  },
  {
   "cell_type": "markdown",
   "id": "2be0f010-876d-47a2-b8cb-4051f4435664",
   "metadata": {},
   "source": [
    "There are no NULL values or categorical data => nothing to do."
   ]
  },
  {
   "cell_type": "markdown",
   "id": "d43e54d6-ca9c-4668-a8d3-4eb0c7cd33d0",
   "metadata": {},
   "source": [
    "### Disposition data"
   ]
  },
  {
   "cell_type": "code",
   "execution_count": 14,
   "id": "98c4da86-81d9-464c-afb1-561650beb659",
   "metadata": {},
   "outputs": [
    {
     "data": {
      "text/plain": [
       "disp_id        int64\n",
       "client_id      int64\n",
       "account_id     int64\n",
       "type          object\n",
       "dtype: object"
      ]
     },
     "execution_count": 14,
     "metadata": {},
     "output_type": "execute_result"
    }
   ],
   "source": [
    "disp_df.dtypes"
   ]
  },
  {
   "cell_type": "markdown",
   "id": "02965447-3373-4f24-aae8-3741b7e817c6",
   "metadata": {},
   "source": [
    "The **type** attribute is probably categorical data."
   ]
  },
  {
   "cell_type": "code",
   "execution_count": 15,
   "id": "4dd380c4-3cb3-4fec-bfc1-5d67583f1732",
   "metadata": {},
   "outputs": [
    {
     "data": {
      "text/plain": [
       "OWNER        4500\n",
       "DISPONENT     869\n",
       "Name: type, dtype: int64"
      ]
     },
     "execution_count": 15,
     "metadata": {},
     "output_type": "execute_result"
    }
   ],
   "source": [
    "disp_df['type'].value_counts()"
   ]
  },
  {
   "cell_type": "markdown",
   "id": "1f0dde42-db09-48ed-a300-bcb882cb5d60",
   "metadata": {},
   "source": [
    "There are only two categories here. We can replace this by a boolean depicting where the disposition is owner or not."
   ]
  },
  {
   "cell_type": "code",
   "execution_count": 16,
   "id": "eb520539-c6ae-4fd7-a2d5-60e8282c3b4b",
   "metadata": {},
   "outputs": [
    {
     "data": {
      "text/html": [
       "<div>\n",
       "<style scoped>\n",
       "    .dataframe tbody tr th:only-of-type {\n",
       "        vertical-align: middle;\n",
       "    }\n",
       "\n",
       "    .dataframe tbody tr th {\n",
       "        vertical-align: top;\n",
       "    }\n",
       "\n",
       "    .dataframe thead th {\n",
       "        text-align: right;\n",
       "    }\n",
       "</style>\n",
       "<table border=\"1\" class=\"dataframe\">\n",
       "  <thead>\n",
       "    <tr style=\"text-align: right;\">\n",
       "      <th></th>\n",
       "      <th>disp_id</th>\n",
       "      <th>client_id</th>\n",
       "      <th>account_id</th>\n",
       "      <th>is_owner</th>\n",
       "    </tr>\n",
       "  </thead>\n",
       "  <tbody>\n",
       "    <tr>\n",
       "      <th>0</th>\n",
       "      <td>1</td>\n",
       "      <td>1</td>\n",
       "      <td>1</td>\n",
       "      <td>True</td>\n",
       "    </tr>\n",
       "    <tr>\n",
       "      <th>1</th>\n",
       "      <td>2</td>\n",
       "      <td>2</td>\n",
       "      <td>2</td>\n",
       "      <td>True</td>\n",
       "    </tr>\n",
       "    <tr>\n",
       "      <th>2</th>\n",
       "      <td>3</td>\n",
       "      <td>3</td>\n",
       "      <td>2</td>\n",
       "      <td>False</td>\n",
       "    </tr>\n",
       "    <tr>\n",
       "      <th>3</th>\n",
       "      <td>4</td>\n",
       "      <td>4</td>\n",
       "      <td>3</td>\n",
       "      <td>True</td>\n",
       "    </tr>\n",
       "    <tr>\n",
       "      <th>4</th>\n",
       "      <td>5</td>\n",
       "      <td>5</td>\n",
       "      <td>3</td>\n",
       "      <td>False</td>\n",
       "    </tr>\n",
       "  </tbody>\n",
       "</table>\n",
       "</div>"
      ],
      "text/plain": [
       "   disp_id  client_id  account_id  is_owner\n",
       "0        1          1           1      True\n",
       "1        2          2           2      True\n",
       "2        3          3           2     False\n",
       "3        4          4           3      True\n",
       "4        5          5           3     False"
      ]
     },
     "execution_count": 16,
     "metadata": {},
     "output_type": "execute_result"
    }
   ],
   "source": [
    "disp_df['is_owner'] = disp_df['type'].apply(lambda x: True if x == \"OWNER\" else False)\n",
    "disp_df.drop(['type'], axis=1, inplace=True)\n",
    "disp_df.head()"
   ]
  },
  {
   "cell_type": "code",
   "execution_count": 17,
   "id": "da096fe0-84d7-437d-8482-ac2069da2f8b",
   "metadata": {},
   "outputs": [
    {
     "data": {
      "text/plain": [
       "disp_id       0\n",
       "client_id     0\n",
       "account_id    0\n",
       "is_owner      0\n",
       "dtype: int64"
      ]
     },
     "execution_count": 17,
     "metadata": {},
     "output_type": "execute_result"
    }
   ],
   "source": [
    "disp_df.isnull().sum()"
   ]
  },
  {
   "cell_type": "markdown",
   "id": "43fc2af0-77ba-4514-9e80-407a49c15956",
   "metadata": {},
   "source": [
    "No NULL data to deal with on this dataframe."
   ]
  },
  {
   "cell_type": "markdown",
   "id": "bc183391-fdfb-46e6-b7c0-464cf0721238",
   "metadata": {},
   "source": [
    "### District data"
   ]
  },
  {
   "cell_type": "code",
   "execution_count": 18,
   "id": "d81ac080-328b-4957-a943-cd8ec347c515",
   "metadata": {},
   "outputs": [
    {
     "data": {
      "text/plain": [
       "code                                                  int64\n",
       "name                                                 object\n",
       "region                                               object\n",
       "no. of inhabitants                                    int64\n",
       "no. of municipalities with inhabitants < 499          int64\n",
       "no. of municipalities with inhabitants 500-1999       int64\n",
       "no. of municipalities with inhabitants 2000-9999      int64\n",
       "no. of municipalities with inhabitants >10000         int64\n",
       "no. of cities                                         int64\n",
       "ratio of urban inhabitants                          float64\n",
       "average salary                                        int64\n",
       "unemploymant rate '95                               float64\n",
       "unemploymant rate '96                               float64\n",
       "no. of enterpreneurs per 1000 inhabitants             int64\n",
       "no. of commited crimes '95                          float64\n",
       "no. of commited crimes '96                            int64\n",
       "dtype: object"
      ]
     },
     "execution_count": 18,
     "metadata": {},
     "output_type": "execute_result"
    }
   ],
   "source": [
    "district_df.dtypes"
   ]
  },
  {
   "cell_type": "markdown",
   "id": "7ff2417b-ed0b-4d7e-bf5c-020ff816316d",
   "metadata": {},
   "source": [
    "Both name and region are categorical data."
   ]
  },
  {
   "cell_type": "code",
   "execution_count": 19,
   "id": "91822cad-ad33-401a-b2d7-f4dec9a127c1",
   "metadata": {},
   "outputs": [
    {
     "name": "stdout",
     "output_type": "stream",
     "text": [
      "Number of different 'code' values: 77\n",
      "Number of different 'name' values: 77\n"
     ]
    }
   ],
   "source": [
    "print(\"Number of different 'code' values:\", len(district_df['code'].value_counts()))\n",
    "print(\"Number of different 'name' values:\", len(district_df['name'].value_counts()))"
   ]
  },
  {
   "cell_type": "markdown",
   "id": "ade7439a-a8f4-45ce-ac5f-81fb976317b8",
   "metadata": {},
   "source": [
    "We can see that there is a direct association between the **code** and **name** attributes. This means they are redundant and we don't have to deal with the **name** attribute.\n",
    "\n",
    "There is a problem with this. The **code** attributes are integers which indirectly imply an order, even though the names of the regions are nominal features.\n",
    "\n",
    "// TODO for now it is dropped."
   ]
  },
  {
   "cell_type": "code",
   "execution_count": 20,
   "id": "974d8647-90b5-489c-aa74-8fdf2663d552",
   "metadata": {},
   "outputs": [],
   "source": [
    "district_df.drop(['name'], axis=1, inplace=True)"
   ]
  },
  {
   "cell_type": "markdown",
   "id": "3559b262-8e84-470f-84f3-4b835faf9a2d",
   "metadata": {},
   "source": [
    "The **region** feature is categorial and there is no order associated. This means this attribute should be encoded in order to remove it's categorical nature and still remain unordered. One-Hot encoding could be used for simplicity, but Binary enconding is be better."
   ]
  },
  {
   "cell_type": "code",
   "execution_count": 21,
   "id": "fdd06ec4-5ef4-41c1-af67-a5330d8bf043",
   "metadata": {},
   "outputs": [
    {
     "data": {
      "text/plain": [
       "south Moravia      14\n",
       "central Bohemia    12\n",
       "east Bohemia       11\n",
       "north Moravia      11\n",
       "west Bohemia       10\n",
       "north Bohemia      10\n",
       "south Bohemia       8\n",
       "Prague              1\n",
       "Name: region, dtype: int64"
      ]
     },
     "execution_count": 21,
     "metadata": {},
     "output_type": "execute_result"
    }
   ],
   "source": [
    "district_df['region'].value_counts()"
   ]
  },
  {
   "cell_type": "code",
   "execution_count": 22,
   "id": "9ceb1c90-69ff-4dd7-b01a-936be12d2ebc",
   "metadata": {},
   "outputs": [
    {
     "data": {
      "text/html": [
       "<div>\n",
       "<style scoped>\n",
       "    .dataframe tbody tr th:only-of-type {\n",
       "        vertical-align: middle;\n",
       "    }\n",
       "\n",
       "    .dataframe tbody tr th {\n",
       "        vertical-align: top;\n",
       "    }\n",
       "\n",
       "    .dataframe thead th {\n",
       "        text-align: right;\n",
       "    }\n",
       "</style>\n",
       "<table border=\"1\" class=\"dataframe\">\n",
       "  <thead>\n",
       "    <tr style=\"text-align: right;\">\n",
       "      <th></th>\n",
       "      <th>code</th>\n",
       "      <th>region_0</th>\n",
       "      <th>region_1</th>\n",
       "      <th>region_2</th>\n",
       "      <th>region_3</th>\n",
       "      <th>no. of inhabitants</th>\n",
       "      <th>no. of municipalities with inhabitants &lt; 499</th>\n",
       "      <th>no. of municipalities with inhabitants 500-1999</th>\n",
       "      <th>no. of municipalities with inhabitants 2000-9999</th>\n",
       "      <th>no. of municipalities with inhabitants &gt;10000</th>\n",
       "      <th>no. of cities</th>\n",
       "      <th>ratio of urban inhabitants</th>\n",
       "      <th>average salary</th>\n",
       "      <th>unemploymant rate '95</th>\n",
       "      <th>unemploymant rate '96</th>\n",
       "      <th>no. of enterpreneurs per 1000 inhabitants</th>\n",
       "      <th>no. of commited crimes '95</th>\n",
       "      <th>no. of commited crimes '96</th>\n",
       "    </tr>\n",
       "  </thead>\n",
       "  <tbody>\n",
       "    <tr>\n",
       "      <th>0</th>\n",
       "      <td>1</td>\n",
       "      <td>0</td>\n",
       "      <td>0</td>\n",
       "      <td>0</td>\n",
       "      <td>1</td>\n",
       "      <td>1204953</td>\n",
       "      <td>0</td>\n",
       "      <td>0</td>\n",
       "      <td>0</td>\n",
       "      <td>1</td>\n",
       "      <td>1</td>\n",
       "      <td>100.0</td>\n",
       "      <td>12541</td>\n",
       "      <td>0.29</td>\n",
       "      <td>0.43</td>\n",
       "      <td>167</td>\n",
       "      <td>85677.0</td>\n",
       "      <td>99107</td>\n",
       "    </tr>\n",
       "    <tr>\n",
       "      <th>1</th>\n",
       "      <td>2</td>\n",
       "      <td>0</td>\n",
       "      <td>0</td>\n",
       "      <td>1</td>\n",
       "      <td>0</td>\n",
       "      <td>88884</td>\n",
       "      <td>80</td>\n",
       "      <td>26</td>\n",
       "      <td>6</td>\n",
       "      <td>2</td>\n",
       "      <td>5</td>\n",
       "      <td>46.7</td>\n",
       "      <td>8507</td>\n",
       "      <td>1.67</td>\n",
       "      <td>1.85</td>\n",
       "      <td>132</td>\n",
       "      <td>2159.0</td>\n",
       "      <td>2674</td>\n",
       "    </tr>\n",
       "    <tr>\n",
       "      <th>2</th>\n",
       "      <td>3</td>\n",
       "      <td>0</td>\n",
       "      <td>0</td>\n",
       "      <td>1</td>\n",
       "      <td>0</td>\n",
       "      <td>75232</td>\n",
       "      <td>55</td>\n",
       "      <td>26</td>\n",
       "      <td>4</td>\n",
       "      <td>1</td>\n",
       "      <td>5</td>\n",
       "      <td>41.7</td>\n",
       "      <td>8980</td>\n",
       "      <td>1.95</td>\n",
       "      <td>2.21</td>\n",
       "      <td>111</td>\n",
       "      <td>2824.0</td>\n",
       "      <td>2813</td>\n",
       "    </tr>\n",
       "    <tr>\n",
       "      <th>3</th>\n",
       "      <td>4</td>\n",
       "      <td>0</td>\n",
       "      <td>0</td>\n",
       "      <td>1</td>\n",
       "      <td>0</td>\n",
       "      <td>149893</td>\n",
       "      <td>63</td>\n",
       "      <td>29</td>\n",
       "      <td>6</td>\n",
       "      <td>2</td>\n",
       "      <td>6</td>\n",
       "      <td>67.4</td>\n",
       "      <td>9753</td>\n",
       "      <td>4.64</td>\n",
       "      <td>5.05</td>\n",
       "      <td>109</td>\n",
       "      <td>5244.0</td>\n",
       "      <td>5892</td>\n",
       "    </tr>\n",
       "    <tr>\n",
       "      <th>4</th>\n",
       "      <td>5</td>\n",
       "      <td>0</td>\n",
       "      <td>0</td>\n",
       "      <td>1</td>\n",
       "      <td>0</td>\n",
       "      <td>95616</td>\n",
       "      <td>65</td>\n",
       "      <td>30</td>\n",
       "      <td>4</td>\n",
       "      <td>1</td>\n",
       "      <td>6</td>\n",
       "      <td>51.4</td>\n",
       "      <td>9307</td>\n",
       "      <td>3.85</td>\n",
       "      <td>4.43</td>\n",
       "      <td>118</td>\n",
       "      <td>2616.0</td>\n",
       "      <td>3040</td>\n",
       "    </tr>\n",
       "  </tbody>\n",
       "</table>\n",
       "</div>"
      ],
      "text/plain": [
       "   code  region_0  region_1  region_2  region_3  no. of inhabitants  \\\n",
       "0     1         0         0         0         1             1204953   \n",
       "1     2         0         0         1         0               88884   \n",
       "2     3         0         0         1         0               75232   \n",
       "3     4         0         0         1         0              149893   \n",
       "4     5         0         0         1         0               95616   \n",
       "\n",
       "   no. of municipalities with inhabitants < 499  \\\n",
       "0                                             0   \n",
       "1                                            80   \n",
       "2                                            55   \n",
       "3                                            63   \n",
       "4                                            65   \n",
       "\n",
       "   no. of municipalities with inhabitants 500-1999  \\\n",
       "0                                                0   \n",
       "1                                               26   \n",
       "2                                               26   \n",
       "3                                               29   \n",
       "4                                               30   \n",
       "\n",
       "   no. of municipalities with inhabitants 2000-9999  \\\n",
       "0                                                 0   \n",
       "1                                                 6   \n",
       "2                                                 4   \n",
       "3                                                 6   \n",
       "4                                                 4   \n",
       "\n",
       "   no. of municipalities with inhabitants >10000  no. of cities  \\\n",
       "0                                              1              1   \n",
       "1                                              2              5   \n",
       "2                                              1              5   \n",
       "3                                              2              6   \n",
       "4                                              1              6   \n",
       "\n",
       "   ratio of urban inhabitants  average salary  unemploymant rate '95  \\\n",
       "0                       100.0           12541                   0.29   \n",
       "1                        46.7            8507                   1.67   \n",
       "2                        41.7            8980                   1.95   \n",
       "3                        67.4            9753                   4.64   \n",
       "4                        51.4            9307                   3.85   \n",
       "\n",
       "   unemploymant rate '96  no. of enterpreneurs per 1000 inhabitants  \\\n",
       "0                   0.43                                        167   \n",
       "1                   1.85                                        132   \n",
       "2                   2.21                                        111   \n",
       "3                   5.05                                        109   \n",
       "4                   4.43                                        118   \n",
       "\n",
       "   no. of commited crimes '95  no. of commited crimes '96  \n",
       "0                     85677.0                       99107  \n",
       "1                      2159.0                        2674  \n",
       "2                      2824.0                        2813  \n",
       "3                      5244.0                        5892  \n",
       "4                      2616.0                        3040  "
      ]
     },
     "execution_count": 22,
     "metadata": {},
     "output_type": "execute_result"
    }
   ],
   "source": [
    "from category_encoders import BinaryEncoder\n",
    "\n",
    "encoder = BinaryEncoder(cols=['region'])\n",
    "district_df = encoder.fit_transform(district_df)\n",
    "district_df.head()"
   ]
  },
  {
   "cell_type": "code",
   "execution_count": 23,
   "id": "091b1b10-dca6-4941-9733-50d273637148",
   "metadata": {},
   "outputs": [
    {
     "data": {
      "text/plain": [
       "code                                                0\n",
       "region_0                                            0\n",
       "region_1                                            0\n",
       "region_2                                            0\n",
       "region_3                                            0\n",
       "no. of inhabitants                                  0\n",
       "no. of municipalities with inhabitants < 499        0\n",
       "no. of municipalities with inhabitants 500-1999     0\n",
       "no. of municipalities with inhabitants 2000-9999    0\n",
       "no. of municipalities with inhabitants >10000       0\n",
       "no. of cities                                       0\n",
       "ratio of urban inhabitants                          0\n",
       "average salary                                      0\n",
       "unemploymant rate '95                               1\n",
       "unemploymant rate '96                               0\n",
       "no. of enterpreneurs per 1000 inhabitants           0\n",
       "no. of commited crimes '95                          1\n",
       "no. of commited crimes '96                          0\n",
       "dtype: int64"
      ]
     },
     "execution_count": 23,
     "metadata": {},
     "output_type": "execute_result"
    }
   ],
   "source": [
    "district_df.isnull().sum()"
   ]
  },
  {
   "cell_type": "markdown",
   "id": "084e11df-26df-49a7-a1f4-026583d82d2d",
   "metadata": {},
   "source": [
    "There is 1 NULL value in _unemploymant rate '95_ and _no. of commited crimes '95_."
   ]
  },
  {
   "cell_type": "code",
   "execution_count": 24,
   "id": "87403005-e4f4-4d29-ae90-c0babda45d08",
   "metadata": {},
   "outputs": [
    {
     "data": {
      "text/html": [
       "<div>\n",
       "<style scoped>\n",
       "    .dataframe tbody tr th:only-of-type {\n",
       "        vertical-align: middle;\n",
       "    }\n",
       "\n",
       "    .dataframe tbody tr th {\n",
       "        vertical-align: top;\n",
       "    }\n",
       "\n",
       "    .dataframe thead th {\n",
       "        text-align: right;\n",
       "    }\n",
       "</style>\n",
       "<table border=\"1\" class=\"dataframe\">\n",
       "  <thead>\n",
       "    <tr style=\"text-align: right;\">\n",
       "      <th></th>\n",
       "      <th>code</th>\n",
       "      <th>region_0</th>\n",
       "      <th>region_1</th>\n",
       "      <th>region_2</th>\n",
       "      <th>region_3</th>\n",
       "      <th>no. of inhabitants</th>\n",
       "      <th>no. of municipalities with inhabitants &lt; 499</th>\n",
       "      <th>no. of municipalities with inhabitants 500-1999</th>\n",
       "      <th>no. of municipalities with inhabitants 2000-9999</th>\n",
       "      <th>no. of municipalities with inhabitants &gt;10000</th>\n",
       "      <th>no. of cities</th>\n",
       "      <th>ratio of urban inhabitants</th>\n",
       "      <th>average salary</th>\n",
       "      <th>unemploymant rate '95</th>\n",
       "      <th>unemploymant rate '96</th>\n",
       "      <th>no. of enterpreneurs per 1000 inhabitants</th>\n",
       "      <th>no. of commited crimes '95</th>\n",
       "      <th>no. of commited crimes '96</th>\n",
       "    </tr>\n",
       "  </thead>\n",
       "  <tbody>\n",
       "    <tr>\n",
       "      <th>68</th>\n",
       "      <td>69</td>\n",
       "      <td>1</td>\n",
       "      <td>0</td>\n",
       "      <td>0</td>\n",
       "      <td>0</td>\n",
       "      <td>42821</td>\n",
       "      <td>4</td>\n",
       "      <td>13</td>\n",
       "      <td>5</td>\n",
       "      <td>1</td>\n",
       "      <td>3</td>\n",
       "      <td>48.4</td>\n",
       "      <td>8173</td>\n",
       "      <td>NaN</td>\n",
       "      <td>7.01</td>\n",
       "      <td>124</td>\n",
       "      <td>NaN</td>\n",
       "      <td>1358</td>\n",
       "    </tr>\n",
       "  </tbody>\n",
       "</table>\n",
       "</div>"
      ],
      "text/plain": [
       "    code  region_0  region_1  region_2  region_3  no. of inhabitants  \\\n",
       "68    69         1         0         0         0               42821   \n",
       "\n",
       "    no. of municipalities with inhabitants < 499  \\\n",
       "68                                             4   \n",
       "\n",
       "    no. of municipalities with inhabitants 500-1999  \\\n",
       "68                                               13   \n",
       "\n",
       "    no. of municipalities with inhabitants 2000-9999  \\\n",
       "68                                                 5   \n",
       "\n",
       "    no. of municipalities with inhabitants >10000  no. of cities  \\\n",
       "68                                              1              3   \n",
       "\n",
       "    ratio of urban inhabitants  average salary  unemploymant rate '95  \\\n",
       "68                        48.4            8173                    NaN   \n",
       "\n",
       "    unemploymant rate '96  no. of enterpreneurs per 1000 inhabitants  \\\n",
       "68                   7.01                                        124   \n",
       "\n",
       "    no. of commited crimes '95  no. of commited crimes '96  \n",
       "68                         NaN                        1358  "
      ]
     },
     "execution_count": 24,
     "metadata": {},
     "output_type": "execute_result"
    }
   ],
   "source": [
    "district_df[district_df[\"unemploymant rate '95\"].isnull()]"
   ]
  },
  {
   "cell_type": "markdown",
   "id": "d62e7255-45c3-4f7c-b033-10c844e14de4",
   "metadata": {},
   "source": [
    "Both of these missing value are for the district of _Jesenik_. We can find the mean growth/shrinkage of the unemploymant and number of crimes commit from 1995 to 1996, and use that to fill the missing values of 1995 for this district."
   ]
  },
  {
   "cell_type": "code",
   "execution_count": 25,
   "id": "a08bf2fc-6c2c-4920-8779-647069f6b68d",
   "metadata": {},
   "outputs": [],
   "source": [
    "unem_rate_95 = district_df[district_df[\"unemploymant rate '95\"].notnull()][\"unemploymant rate '95\"]\n",
    "unem_rate_96 = district_df[district_df[\"unemploymant rate '96\"].notnull()][\"unemploymant rate '96\"]\n",
    "\n",
    "unem_growth_series = unem_rate_95 / unem_rate_96\n",
    "unem_growth = unem_growth_series.sum() / unem_growth_series.count()\n",
    "\n",
    "district_df[\"unemploymant rate '95\"] = district_df.apply(lambda x: x[\"unemploymant rate '96\"] * unem_growth if np.isnan(x[\"unemploymant rate '95\"]) else x[\"unemploymant rate '95\"], axis=1)"
   ]
  },
  {
   "cell_type": "code",
   "execution_count": 26,
   "id": "e4d38868-4502-4b93-b300-d4738d0b217e",
   "metadata": {},
   "outputs": [],
   "source": [
    "no_crime_95 = district_df[district_df[\"no. of commited crimes '95\"].notnull()][\"no. of commited crimes '95\"]\n",
    "no_crime_96 = district_df[district_df[\"no. of commited crimes '96\"].notnull()][\"no. of commited crimes '96\"]\n",
    "\n",
    "crime_growth_series = no_crime_95 / no_crime_96\n",
    "crime_growth = crime_growth_series.sum() / crime_growth_series.count()\n",
    "\n",
    "district_df[\"no. of commited crimes '95\"] = district_df.apply(lambda x: x[\"no. of commited crimes '96\"] * crime_growth if np.isnan(x[\"no. of commited crimes '95\"]) else x[\"unemploymant rate '95\"], axis=1)"
   ]
  },
  {
   "cell_type": "code",
   "execution_count": 27,
   "id": "4e31c312-9671-4c07-91a3-e61574c5d5a5",
   "metadata": {},
   "outputs": [
    {
     "data": {
      "text/html": [
       "<div>\n",
       "<style scoped>\n",
       "    .dataframe tbody tr th:only-of-type {\n",
       "        vertical-align: middle;\n",
       "    }\n",
       "\n",
       "    .dataframe tbody tr th {\n",
       "        vertical-align: top;\n",
       "    }\n",
       "\n",
       "    .dataframe thead th {\n",
       "        text-align: right;\n",
       "    }\n",
       "</style>\n",
       "<table border=\"1\" class=\"dataframe\">\n",
       "  <thead>\n",
       "    <tr style=\"text-align: right;\">\n",
       "      <th></th>\n",
       "      <th>code</th>\n",
       "      <th>region_0</th>\n",
       "      <th>region_1</th>\n",
       "      <th>region_2</th>\n",
       "      <th>region_3</th>\n",
       "      <th>no. of inhabitants</th>\n",
       "      <th>no. of municipalities with inhabitants &lt; 499</th>\n",
       "      <th>no. of municipalities with inhabitants 500-1999</th>\n",
       "      <th>no. of municipalities with inhabitants 2000-9999</th>\n",
       "      <th>no. of municipalities with inhabitants &gt;10000</th>\n",
       "      <th>no. of cities</th>\n",
       "      <th>ratio of urban inhabitants</th>\n",
       "      <th>average salary</th>\n",
       "      <th>unemploymant rate '95</th>\n",
       "      <th>unemploymant rate '96</th>\n",
       "      <th>no. of enterpreneurs per 1000 inhabitants</th>\n",
       "      <th>no. of commited crimes '95</th>\n",
       "      <th>no. of commited crimes '96</th>\n",
       "    </tr>\n",
       "  </thead>\n",
       "  <tbody>\n",
       "    <tr>\n",
       "      <th>68</th>\n",
       "      <td>69</td>\n",
       "      <td>1</td>\n",
       "      <td>0</td>\n",
       "      <td>0</td>\n",
       "      <td>0</td>\n",
       "      <td>42821</td>\n",
       "      <td>4</td>\n",
       "      <td>13</td>\n",
       "      <td>5</td>\n",
       "      <td>1</td>\n",
       "      <td>3</td>\n",
       "      <td>48.4</td>\n",
       "      <td>8173</td>\n",
       "      <td>5.759683</td>\n",
       "      <td>7.01</td>\n",
       "      <td>124</td>\n",
       "      <td>1321.520511</td>\n",
       "      <td>1358</td>\n",
       "    </tr>\n",
       "  </tbody>\n",
       "</table>\n",
       "</div>"
      ],
      "text/plain": [
       "    code  region_0  region_1  region_2  region_3  no. of inhabitants  \\\n",
       "68    69         1         0         0         0               42821   \n",
       "\n",
       "    no. of municipalities with inhabitants < 499  \\\n",
       "68                                             4   \n",
       "\n",
       "    no. of municipalities with inhabitants 500-1999  \\\n",
       "68                                               13   \n",
       "\n",
       "    no. of municipalities with inhabitants 2000-9999  \\\n",
       "68                                                 5   \n",
       "\n",
       "    no. of municipalities with inhabitants >10000  no. of cities  \\\n",
       "68                                              1              3   \n",
       "\n",
       "    ratio of urban inhabitants  average salary  unemploymant rate '95  \\\n",
       "68                        48.4            8173               5.759683   \n",
       "\n",
       "    unemploymant rate '96  no. of enterpreneurs per 1000 inhabitants  \\\n",
       "68                   7.01                                        124   \n",
       "\n",
       "    no. of commited crimes '95  no. of commited crimes '96  \n",
       "68                 1321.520511                        1358  "
      ]
     },
     "execution_count": 27,
     "metadata": {},
     "output_type": "execute_result"
    }
   ],
   "source": [
    "district_df[district_df[\"code\"] == 69]"
   ]
  },
  {
   "cell_type": "markdown",
   "id": "2f2c6a67-88a5-4308-9594-21b81975a45a",
   "metadata": {},
   "source": [
    "The missing values have been taken care of."
   ]
  },
  {
   "cell_type": "markdown",
   "id": "5ffa40b2-a9e6-4f81-a673-fb1bac59ef43",
   "metadata": {},
   "source": [
    "### Loan data"
   ]
  },
  {
   "cell_type": "code",
   "execution_count": 34,
   "id": "eff03808-9942-4846-96c3-041ae362721c",
   "metadata": {},
   "outputs": [
    {
     "data": {
      "text/plain": [
       "loan_id       int64\n",
       "account_id    int64\n",
       "date          int64\n",
       "amount        int64\n",
       "duration      int64\n",
       "payments      int64\n",
       "status        int64\n",
       "dtype: object"
      ]
     },
     "execution_count": 34,
     "metadata": {},
     "output_type": "execute_result"
    }
   ],
   "source": [
    "loan_df.dtypes"
   ]
  },
  {
   "cell_type": "markdown",
   "id": "fc41a4da-021c-48a2-97b7-2d139b43968a",
   "metadata": {},
   "source": [
    "There is no categorical data to deal with on this dataframe."
   ]
  },
  {
   "cell_type": "code",
   "execution_count": 36,
   "id": "4109f580-0121-4591-b87f-30cca485757d",
   "metadata": {},
   "outputs": [
    {
     "data": {
      "text/plain": [
       "loan_id       0\n",
       "account_id    0\n",
       "date          0\n",
       "amount        0\n",
       "duration      0\n",
       "payments      0\n",
       "status        0\n",
       "dtype: int64"
      ]
     },
     "execution_count": 36,
     "metadata": {},
     "output_type": "execute_result"
    }
   ],
   "source": [
    "loan_df.isnull().sum()"
   ]
  },
  {
   "cell_type": "markdown",
   "id": "fc48614a-d79c-4242-b024-fb41afac4cae",
   "metadata": {},
   "source": [
    "There are no NULL values to fill on this dataframe."
   ]
  },
  {
   "cell_type": "markdown",
   "id": "807ebd15-5c0d-40bd-a616-9632e8279cc3",
   "metadata": {},
   "source": [
    "### Transaction data"
   ]
  },
  {
   "cell_type": "code",
   "execution_count": 37,
   "id": "25c69556-7e24-4dbe-930c-41f84301fa49",
   "metadata": {},
   "outputs": [
    {
     "data": {
      "text/plain": [
       "trans_id        int64\n",
       "account_id      int64\n",
       "date          float64\n",
       "type           object\n",
       "operation      object\n",
       "amount        float64\n",
       "balance       float64\n",
       "k_symbol       object\n",
       "bank           object\n",
       "account       float64\n",
       "dtype: object"
      ]
     },
     "execution_count": 37,
     "metadata": {},
     "output_type": "execute_result"
    }
   ],
   "source": [
    "trans_df.dtypes"
   ]
  },
  {
   "cell_type": "markdown",
   "id": "8601c0da-0c02-4738-9197-671759cb5d99",
   "metadata": {},
   "source": [
    "There are 4 categorical attributes in this dataframe: _type_, _operation_, _k\\_symbol_, and _bank_."
   ]
  },
  {
   "cell_type": "code",
   "execution_count": 40,
   "id": "c68e8cec-eb51-4253-9d89-510c8ac3c264",
   "metadata": {},
   "outputs": [
    {
     "data": {
      "text/plain": [
       "withdrawal            232093\n",
       "credit                159468\n",
       "withdrawal in cash      5124\n",
       "Name: type, dtype: int64"
      ]
     },
     "execution_count": 40,
     "metadata": {},
     "output_type": "execute_result"
    }
   ],
   "source": [
    "trans_df['type'].value_counts()"
   ]
  },
  {
   "cell_type": "code",
   "execution_count": 41,
   "id": "765003cf-8c01-4644-8a18-617b551341c7",
   "metadata": {},
   "outputs": [
    {
     "data": {
      "text/plain": [
       "withdrawal in cash              165270\n",
       "remittance to another bank       70737\n",
       "credit in cash                   62202\n",
       "collection from another bank     26505\n",
       "credit card withdrawal            1210\n",
       "Name: operation, dtype: int64"
      ]
     },
     "execution_count": 41,
     "metadata": {},
     "output_type": "execute_result"
    }
   ],
   "source": [
    "trans_df['operation'].value_counts()"
   ]
  },
  {
   "cell_type": "code",
   "execution_count": 42,
   "id": "7d6ebf82-8c94-420b-afe5-c9a074bce02c",
   "metadata": {},
   "outputs": [
    {
     "data": {
      "text/plain": [
       "interest credited                        70761\n",
       "payment for statement                    58377\n",
       "household                                42839\n",
       "                                         19065\n",
       "old-age pension                          13502\n",
       "insurrance payment                        6592\n",
       "sanction interest if negative balance      305\n",
       "Name: k_symbol, dtype: int64"
      ]
     },
     "execution_count": 42,
     "metadata": {},
     "output_type": "execute_result"
    }
   ],
   "source": [
    "trans_df['k_symbol'].value_counts()"
   ]
  },
  {
   "cell_type": "code",
   "execution_count": 43,
   "id": "0668198b-8645-4e81-96d0-95595ac63393",
   "metadata": {},
   "outputs": [
    {
     "data": {
      "text/plain": [
       "ST    8114\n",
       "GH    7886\n",
       "EF    7878\n",
       "AB    7666\n",
       "UV    7618\n",
       "OP    7595\n",
       "IJ    7536\n",
       "YZ    7471\n",
       "QR    7413\n",
       "KL    7397\n",
       "WX    7033\n",
       "CD    7009\n",
       "MN    6626\n",
       "Name: bank, dtype: int64"
      ]
     },
     "execution_count": 43,
     "metadata": {},
     "output_type": "execute_result"
    }
   ],
   "source": [
    "trans_df['bank'].value_counts()"
   ]
  },
  {
   "cell_type": "code",
   "execution_count": 38,
   "id": "fdf98054-aebe-4f59-85b4-d2411b77e9ed",
   "metadata": {},
   "outputs": [
    {
     "data": {
      "text/plain": [
       "trans_id           0\n",
       "account_id         0\n",
       "date               0\n",
       "type               0\n",
       "operation      70761\n",
       "amount             0\n",
       "balance            0\n",
       "k_symbol      185244\n",
       "bank          299443\n",
       "account       294456\n",
       "dtype: int64"
      ]
     },
     "execution_count": 38,
     "metadata": {},
     "output_type": "execute_result"
    }
   ],
   "source": [
    "trans_df.isnull().sum()"
   ]
  },
  {
   "cell_type": "markdown",
   "id": "50be6869",
   "metadata": {
    "tags": []
   },
   "source": [
    "## Processing data"
   ]
  },
  {
   "cell_type": "markdown",
   "id": "48827c39-4e06-4fe8-b145-704e8ceb85d2",
   "metadata": {},
   "source": [
    "### Derive clients' gender"
   ]
  },
  {
   "cell_type": "code",
   "execution_count": 28,
   "id": "8f64587c-87be-4649-9c69-80afb786c052",
   "metadata": {},
   "outputs": [],
   "source": [
    "def identify_gender(old_tup):\n",
    "    birth = old_tup['birth_number']\n",
    "    month = (birth // 100) % 100\n",
    "    return False if month > 12 else True \n",
    "\n",
    "# create a new gender column\n",
    "# it is derived from the clients' birth_number\n",
    "client_df['is_male'] = client_df.apply(identify_gender, axis=1)"
   ]
  },
  {
   "cell_type": "markdown",
   "id": "6259b56c-2d19-41a2-8241-6108b66cfd37",
   "metadata": {},
   "source": [
    "### Simplify dates"
   ]
  },
  {
   "cell_type": "code",
   "execution_count": 29,
   "id": "df2516d4",
   "metadata": {},
   "outputs": [],
   "source": [
    "from datetime import datetime, date\n",
    "\n",
    "def identify_year(old_tup, select_date):\n",
    "    birth = old_tup[select_date]\n",
    "    today = date.today()\n",
    "\n",
    "    year = birth // 10000\n",
    "    year = (year + 1900) if year > (today.year % 100) else (year + 2000)\n",
    "    month = (birth // 100) % 100\n",
    "    month = month - 50 if month > 12 else month # For cases when subject is female, month is +50\n",
    "    day = birth % 100\n",
    "\n",
    "    return datetime(year, month, day)\n",
    "\n",
    "# create new birth date attribute for client\n",
    "client_df['birth_date'] = client_df.apply(lambda x: identify_year(x, \"birth_number\"), axis=1)\n",
    "# create new date for transactions\n",
    "trans_df['date'] = trans_df.apply(lambda x: identify_year(x, \"date\").timestamp(), axis=1)"
   ]
  },
  {
   "cell_type": "markdown",
   "id": "69c53274-566d-4231-94ff-e07aa69ff878",
   "metadata": {},
   "source": [
    "### Discretize client ages"
   ]
  },
  {
   "cell_type": "code",
   "execution_count": 30,
   "id": "af696cfd-0b1a-475e-95b3-ec1583f53eef",
   "metadata": {},
   "outputs": [
    {
     "data": {
      "text/html": [
       "<div>\n",
       "<style scoped>\n",
       "    .dataframe tbody tr th:only-of-type {\n",
       "        vertical-align: middle;\n",
       "    }\n",
       "\n",
       "    .dataframe tbody tr th {\n",
       "        vertical-align: top;\n",
       "    }\n",
       "\n",
       "    .dataframe thead th {\n",
       "        text-align: right;\n",
       "    }\n",
       "</style>\n",
       "<table border=\"1\" class=\"dataframe\">\n",
       "  <thead>\n",
       "    <tr style=\"text-align: right;\">\n",
       "      <th></th>\n",
       "      <th>client_id</th>\n",
       "      <th>birth_number</th>\n",
       "      <th>district_id</th>\n",
       "      <th>is_male</th>\n",
       "      <th>birth_date</th>\n",
       "      <th>age</th>\n",
       "    </tr>\n",
       "  </thead>\n",
       "  <tbody>\n",
       "    <tr>\n",
       "      <th>0</th>\n",
       "      <td>1</td>\n",
       "      <td>706213</td>\n",
       "      <td>18</td>\n",
       "      <td>False</td>\n",
       "      <td>1970-12-13</td>\n",
       "      <td>50</td>\n",
       "    </tr>\n",
       "    <tr>\n",
       "      <th>1</th>\n",
       "      <td>2</td>\n",
       "      <td>450204</td>\n",
       "      <td>1</td>\n",
       "      <td>True</td>\n",
       "      <td>1945-02-04</td>\n",
       "      <td>76</td>\n",
       "    </tr>\n",
       "    <tr>\n",
       "      <th>2</th>\n",
       "      <td>3</td>\n",
       "      <td>406009</td>\n",
       "      <td>1</td>\n",
       "      <td>False</td>\n",
       "      <td>1940-10-09</td>\n",
       "      <td>81</td>\n",
       "    </tr>\n",
       "    <tr>\n",
       "      <th>3</th>\n",
       "      <td>4</td>\n",
       "      <td>561201</td>\n",
       "      <td>5</td>\n",
       "      <td>True</td>\n",
       "      <td>1956-12-01</td>\n",
       "      <td>64</td>\n",
       "    </tr>\n",
       "    <tr>\n",
       "      <th>4</th>\n",
       "      <td>5</td>\n",
       "      <td>605703</td>\n",
       "      <td>5</td>\n",
       "      <td>False</td>\n",
       "      <td>1960-07-03</td>\n",
       "      <td>61</td>\n",
       "    </tr>\n",
       "    <tr>\n",
       "      <th>...</th>\n",
       "      <td>...</td>\n",
       "      <td>...</td>\n",
       "      <td>...</td>\n",
       "      <td>...</td>\n",
       "      <td>...</td>\n",
       "      <td>...</td>\n",
       "    </tr>\n",
       "    <tr>\n",
       "      <th>5364</th>\n",
       "      <td>13955</td>\n",
       "      <td>456030</td>\n",
       "      <td>1</td>\n",
       "      <td>False</td>\n",
       "      <td>1945-10-30</td>\n",
       "      <td>76</td>\n",
       "    </tr>\n",
       "    <tr>\n",
       "      <th>5365</th>\n",
       "      <td>13956</td>\n",
       "      <td>430406</td>\n",
       "      <td>1</td>\n",
       "      <td>True</td>\n",
       "      <td>1943-04-06</td>\n",
       "      <td>78</td>\n",
       "    </tr>\n",
       "    <tr>\n",
       "      <th>5366</th>\n",
       "      <td>13968</td>\n",
       "      <td>680413</td>\n",
       "      <td>61</td>\n",
       "      <td>True</td>\n",
       "      <td>1968-04-13</td>\n",
       "      <td>53</td>\n",
       "    </tr>\n",
       "    <tr>\n",
       "      <th>5367</th>\n",
       "      <td>13971</td>\n",
       "      <td>626019</td>\n",
       "      <td>67</td>\n",
       "      <td>False</td>\n",
       "      <td>1962-10-19</td>\n",
       "      <td>59</td>\n",
       "    </tr>\n",
       "    <tr>\n",
       "      <th>5368</th>\n",
       "      <td>13998</td>\n",
       "      <td>535812</td>\n",
       "      <td>74</td>\n",
       "      <td>False</td>\n",
       "      <td>1953-08-12</td>\n",
       "      <td>68</td>\n",
       "    </tr>\n",
       "  </tbody>\n",
       "</table>\n",
       "<p>5369 rows × 6 columns</p>\n",
       "</div>"
      ],
      "text/plain": [
       "      client_id  birth_number  district_id  is_male birth_date  age\n",
       "0             1        706213           18    False 1970-12-13   50\n",
       "1             2        450204            1     True 1945-02-04   76\n",
       "2             3        406009            1    False 1940-10-09   81\n",
       "3             4        561201            5     True 1956-12-01   64\n",
       "4             5        605703            5    False 1960-07-03   61\n",
       "...         ...           ...          ...      ...        ...  ...\n",
       "5364      13955        456030            1    False 1945-10-30   76\n",
       "5365      13956        430406            1     True 1943-04-06   78\n",
       "5366      13968        680413           61     True 1968-04-13   53\n",
       "5367      13971        626019           67    False 1962-10-19   59\n",
       "5368      13998        535812           74    False 1953-08-12   68\n",
       "\n",
       "[5369 rows x 6 columns]"
      ]
     },
     "execution_count": 30,
     "metadata": {},
     "output_type": "execute_result"
    }
   ],
   "source": [
    "# create a new age column for clients\n",
    "def identify_age(old_tup):\n",
    "    born = old_tup['birth_date']\n",
    "    today = date.today()\n",
    "    age = today.year - born.year - ((today.month, today.day) < (born.month, born.day))\n",
    "    return age\n",
    "client_df['age'] = client_df.apply(identify_age, axis=1)\n",
    "\n",
    "# discretize ages\n",
    "age_bins=[20, 29, 39, 49, 66, 150]\n",
    "labels=['20-29', '30-39', '40-49', '50-65', 'reformers']\n",
    "client_df['age_bins'] = pd.cut(x=client_df['age'], bins=age_bins, labels=labels)\n",
    "# we don't need the birth dates anymore\n",
    "client_df.drop(['age_bins'], axis=1)"
   ]
  },
  {
   "cell_type": "markdown",
   "id": "bd347f10-b606-4c99-b41d-682abba5878e",
   "metadata": {},
   "source": [
    "### Apply transaction types to the transaction amount"
   ]
  },
  {
   "cell_type": "code",
   "execution_count": 31,
   "id": "8e44cc3c-9506-4ec0-b288-41837127f13e",
   "metadata": {},
   "outputs": [
    {
     "data": {
      "text/html": [
       "<div>\n",
       "<style scoped>\n",
       "    .dataframe tbody tr th:only-of-type {\n",
       "        vertical-align: middle;\n",
       "    }\n",
       "\n",
       "    .dataframe tbody tr th {\n",
       "        vertical-align: top;\n",
       "    }\n",
       "\n",
       "    .dataframe thead th {\n",
       "        text-align: right;\n",
       "    }\n",
       "</style>\n",
       "<table border=\"1\" class=\"dataframe\">\n",
       "  <thead>\n",
       "    <tr style=\"text-align: right;\">\n",
       "      <th></th>\n",
       "      <th>trans_id</th>\n",
       "      <th>account_id</th>\n",
       "      <th>date</th>\n",
       "      <th>type</th>\n",
       "      <th>operation</th>\n",
       "      <th>amount</th>\n",
       "      <th>balance</th>\n",
       "      <th>k_symbol</th>\n",
       "      <th>bank</th>\n",
       "      <th>account</th>\n",
       "    </tr>\n",
       "  </thead>\n",
       "  <tbody>\n",
       "    <tr>\n",
       "      <th>0</th>\n",
       "      <td>1548749</td>\n",
       "      <td>5270</td>\n",
       "      <td>726879600.0</td>\n",
       "      <td>credit</td>\n",
       "      <td>credit in cash</td>\n",
       "      <td>800.0</td>\n",
       "      <td>800.0</td>\n",
       "      <td>NaN</td>\n",
       "      <td>NaN</td>\n",
       "      <td>NaN</td>\n",
       "    </tr>\n",
       "    <tr>\n",
       "      <th>1</th>\n",
       "      <td>1548750</td>\n",
       "      <td>5270</td>\n",
       "      <td>726966000.0</td>\n",
       "      <td>credit</td>\n",
       "      <td>collection from another bank</td>\n",
       "      <td>44749.0</td>\n",
       "      <td>45549.0</td>\n",
       "      <td>NaN</td>\n",
       "      <td>IJ</td>\n",
       "      <td>80269753.0</td>\n",
       "    </tr>\n",
       "    <tr>\n",
       "      <th>2</th>\n",
       "      <td>3393738</td>\n",
       "      <td>11265</td>\n",
       "      <td>726966000.0</td>\n",
       "      <td>credit</td>\n",
       "      <td>credit in cash</td>\n",
       "      <td>1000.0</td>\n",
       "      <td>1000.0</td>\n",
       "      <td>NaN</td>\n",
       "      <td>NaN</td>\n",
       "      <td>NaN</td>\n",
       "    </tr>\n",
       "    <tr>\n",
       "      <th>3</th>\n",
       "      <td>3122924</td>\n",
       "      <td>10364</td>\n",
       "      <td>727225200.0</td>\n",
       "      <td>credit</td>\n",
       "      <td>credit in cash</td>\n",
       "      <td>1100.0</td>\n",
       "      <td>1100.0</td>\n",
       "      <td>NaN</td>\n",
       "      <td>NaN</td>\n",
       "      <td>NaN</td>\n",
       "    </tr>\n",
       "    <tr>\n",
       "      <th>4</th>\n",
       "      <td>1121963</td>\n",
       "      <td>3834</td>\n",
       "      <td>727398000.0</td>\n",
       "      <td>credit</td>\n",
       "      <td>credit in cash</td>\n",
       "      <td>700.0</td>\n",
       "      <td>700.0</td>\n",
       "      <td>NaN</td>\n",
       "      <td>NaN</td>\n",
       "      <td>NaN</td>\n",
       "    </tr>\n",
       "    <tr>\n",
       "      <th>...</th>\n",
       "      <td>...</td>\n",
       "      <td>...</td>\n",
       "      <td>...</td>\n",
       "      <td>...</td>\n",
       "      <td>...</td>\n",
       "      <td>...</td>\n",
       "      <td>...</td>\n",
       "      <td>...</td>\n",
       "      <td>...</td>\n",
       "      <td>...</td>\n",
       "    </tr>\n",
       "    <tr>\n",
       "      <th>396680</th>\n",
       "      <td>515914</td>\n",
       "      <td>1763</td>\n",
       "      <td>851990400.0</td>\n",
       "      <td>withdrawal</td>\n",
       "      <td>withdrawal in cash</td>\n",
       "      <td>-14.6</td>\n",
       "      <td>67769.5</td>\n",
       "      <td>payment for statement</td>\n",
       "      <td>NaN</td>\n",
       "      <td>NaN</td>\n",
       "    </tr>\n",
       "    <tr>\n",
       "      <th>396681</th>\n",
       "      <td>516262</td>\n",
       "      <td>1765</td>\n",
       "      <td>851990400.0</td>\n",
       "      <td>withdrawal</td>\n",
       "      <td>withdrawal in cash</td>\n",
       "      <td>-14.6</td>\n",
       "      <td>19708.1</td>\n",
       "      <td>payment for statement</td>\n",
       "      <td>NaN</td>\n",
       "      <td>NaN</td>\n",
       "    </tr>\n",
       "    <tr>\n",
       "      <th>396682</th>\n",
       "      <td>520019</td>\n",
       "      <td>1775</td>\n",
       "      <td>851990400.0</td>\n",
       "      <td>withdrawal</td>\n",
       "      <td>withdrawal in cash</td>\n",
       "      <td>-14.6</td>\n",
       "      <td>15944.5</td>\n",
       "      <td>payment for statement</td>\n",
       "      <td>NaN</td>\n",
       "      <td>NaN</td>\n",
       "    </tr>\n",
       "    <tr>\n",
       "      <th>396683</th>\n",
       "      <td>517894</td>\n",
       "      <td>1769</td>\n",
       "      <td>851990400.0</td>\n",
       "      <td>withdrawal</td>\n",
       "      <td>withdrawal in cash</td>\n",
       "      <td>-14.6</td>\n",
       "      <td>34679.4</td>\n",
       "      <td>payment for statement</td>\n",
       "      <td>NaN</td>\n",
       "      <td>NaN</td>\n",
       "    </tr>\n",
       "    <tr>\n",
       "      <th>396684</th>\n",
       "      <td>518239</td>\n",
       "      <td>1770</td>\n",
       "      <td>851990400.0</td>\n",
       "      <td>withdrawal</td>\n",
       "      <td>withdrawal in cash</td>\n",
       "      <td>-14.6</td>\n",
       "      <td>68162.9</td>\n",
       "      <td>payment for statement</td>\n",
       "      <td>NaN</td>\n",
       "      <td>NaN</td>\n",
       "    </tr>\n",
       "  </tbody>\n",
       "</table>\n",
       "<p>396685 rows × 10 columns</p>\n",
       "</div>"
      ],
      "text/plain": [
       "        trans_id  account_id         date        type  \\\n",
       "0        1548749        5270  726879600.0      credit   \n",
       "1        1548750        5270  726966000.0      credit   \n",
       "2        3393738       11265  726966000.0      credit   \n",
       "3        3122924       10364  727225200.0      credit   \n",
       "4        1121963        3834  727398000.0      credit   \n",
       "...          ...         ...          ...         ...   \n",
       "396680    515914        1763  851990400.0  withdrawal   \n",
       "396681    516262        1765  851990400.0  withdrawal   \n",
       "396682    520019        1775  851990400.0  withdrawal   \n",
       "396683    517894        1769  851990400.0  withdrawal   \n",
       "396684    518239        1770  851990400.0  withdrawal   \n",
       "\n",
       "                           operation   amount  balance               k_symbol  \\\n",
       "0                     credit in cash    800.0    800.0                    NaN   \n",
       "1       collection from another bank  44749.0  45549.0                    NaN   \n",
       "2                     credit in cash   1000.0   1000.0                    NaN   \n",
       "3                     credit in cash   1100.0   1100.0                    NaN   \n",
       "4                     credit in cash    700.0    700.0                    NaN   \n",
       "...                              ...      ...      ...                    ...   \n",
       "396680            withdrawal in cash    -14.6  67769.5  payment for statement   \n",
       "396681            withdrawal in cash    -14.6  19708.1  payment for statement   \n",
       "396682            withdrawal in cash    -14.6  15944.5  payment for statement   \n",
       "396683            withdrawal in cash    -14.6  34679.4  payment for statement   \n",
       "396684            withdrawal in cash    -14.6  68162.9  payment for statement   \n",
       "\n",
       "       bank     account  \n",
       "0       NaN         NaN  \n",
       "1        IJ  80269753.0  \n",
       "2       NaN         NaN  \n",
       "3       NaN         NaN  \n",
       "4       NaN         NaN  \n",
       "...     ...         ...  \n",
       "396680  NaN         NaN  \n",
       "396681  NaN         NaN  \n",
       "396682  NaN         NaN  \n",
       "396683  NaN         NaN  \n",
       "396684  NaN         NaN  \n",
       "\n",
       "[396685 rows x 10 columns]"
      ]
     },
     "execution_count": 31,
     "metadata": {},
     "output_type": "execute_result"
    }
   ],
   "source": [
    "# convert ammount to negative according to transaction type\n",
    "def convert_amount(old_tup):\n",
    "    ammount = old_tup['amount']\n",
    "    t = old_tup['type']\n",
    "    return ammount if t == \"credit\" else -ammount\n",
    "trans_df['amount'] = trans_df.apply(convert_amount, axis=1)\n",
    "\n",
    "trans_df"
   ]
  },
  {
   "cell_type": "markdown",
   "id": "b7da6f23",
   "metadata": {},
   "source": [
    "## Join data"
   ]
  },
  {
   "cell_type": "code",
   "execution_count": 32,
   "id": "8f6565a6",
   "metadata": {},
   "outputs": [
    {
     "data": {
      "text/html": [
       "<div>\n",
       "<style scoped>\n",
       "    .dataframe tbody tr th:only-of-type {\n",
       "        vertical-align: middle;\n",
       "    }\n",
       "\n",
       "    .dataframe tbody tr th {\n",
       "        vertical-align: top;\n",
       "    }\n",
       "\n",
       "    .dataframe thead th {\n",
       "        text-align: right;\n",
       "    }\n",
       "</style>\n",
       "<table border=\"1\" class=\"dataframe\">\n",
       "  <thead>\n",
       "    <tr style=\"text-align: right;\">\n",
       "      <th></th>\n",
       "      <th>loan_id</th>\n",
       "      <th>account_id</th>\n",
       "      <th>date_loan</th>\n",
       "      <th>amount</th>\n",
       "      <th>duration</th>\n",
       "      <th>payments</th>\n",
       "      <th>status</th>\n",
       "      <th>district_id</th>\n",
       "      <th>frequency</th>\n",
       "      <th>date_account</th>\n",
       "      <th>disp_id</th>\n",
       "      <th>client_id</th>\n",
       "      <th>is_owner</th>\n",
       "      <th>card_id</th>\n",
       "      <th>type</th>\n",
       "      <th>issued</th>\n",
       "      <th>trans_id</th>\n",
       "      <th>date</th>\n",
       "      <th>type_trans</th>\n",
       "      <th>operation</th>\n",
       "      <th>amount_trans</th>\n",
       "      <th>balance</th>\n",
       "      <th>k_symbol</th>\n",
       "      <th>bank</th>\n",
       "      <th>account</th>\n",
       "      <th>birth_number</th>\n",
       "      <th>district_id_client</th>\n",
       "      <th>is_male</th>\n",
       "      <th>birth_date</th>\n",
       "      <th>age</th>\n",
       "      <th>age_bins</th>\n",
       "      <th>code</th>\n",
       "      <th>region_0</th>\n",
       "      <th>region_1</th>\n",
       "      <th>region_2</th>\n",
       "      <th>region_3</th>\n",
       "      <th>no. of inhabitants</th>\n",
       "      <th>no. of municipalities with inhabitants &lt; 499</th>\n",
       "      <th>no. of municipalities with inhabitants 500-1999</th>\n",
       "      <th>no. of municipalities with inhabitants 2000-9999</th>\n",
       "      <th>no. of municipalities with inhabitants &gt;10000</th>\n",
       "      <th>no. of cities</th>\n",
       "      <th>ratio of urban inhabitants</th>\n",
       "      <th>average salary</th>\n",
       "      <th>unemploymant rate '95</th>\n",
       "      <th>unemploymant rate '96</th>\n",
       "      <th>no. of enterpreneurs per 1000 inhabitants</th>\n",
       "      <th>no. of commited crimes '95</th>\n",
       "      <th>no. of commited crimes '96</th>\n",
       "    </tr>\n",
       "  </thead>\n",
       "  <tbody>\n",
       "    <tr>\n",
       "      <th>0</th>\n",
       "      <td>6577</td>\n",
       "      <td>7753</td>\n",
       "      <td>940311</td>\n",
       "      <td>51696</td>\n",
       "      <td>24</td>\n",
       "      <td>2154</td>\n",
       "      <td>1</td>\n",
       "      <td>74</td>\n",
       "      <td>30</td>\n",
       "      <td>930208</td>\n",
       "      <td>9285</td>\n",
       "      <td>9593</td>\n",
       "      <td>True</td>\n",
       "      <td>1005</td>\n",
       "      <td>1</td>\n",
       "      <td>931107</td>\n",
       "      <td>2349697</td>\n",
       "      <td>729126000.0</td>\n",
       "      <td>credit</td>\n",
       "      <td>credit in cash</td>\n",
       "      <td>600.0</td>\n",
       "      <td>600.0</td>\n",
       "      <td>NaN</td>\n",
       "      <td>NaN</td>\n",
       "      <td>NaN</td>\n",
       "      <td>685128</td>\n",
       "      <td>74</td>\n",
       "      <td>False</td>\n",
       "      <td>1968-01-28</td>\n",
       "      <td>53</td>\n",
       "      <td>50-65</td>\n",
       "      <td>74</td>\n",
       "      <td>1</td>\n",
       "      <td>0</td>\n",
       "      <td>0</td>\n",
       "      <td>0</td>\n",
       "      <td>323870</td>\n",
       "      <td>0</td>\n",
       "      <td>0</td>\n",
       "      <td>0</td>\n",
       "      <td>1</td>\n",
       "      <td>1</td>\n",
       "      <td>100.0</td>\n",
       "      <td>10673</td>\n",
       "      <td>4.75</td>\n",
       "      <td>5.44</td>\n",
       "      <td>100</td>\n",
       "      <td>4.75</td>\n",
       "      <td>18347</td>\n",
       "    </tr>\n",
       "    <tr>\n",
       "      <th>1</th>\n",
       "      <td>6577</td>\n",
       "      <td>7753</td>\n",
       "      <td>940311</td>\n",
       "      <td>51696</td>\n",
       "      <td>24</td>\n",
       "      <td>2154</td>\n",
       "      <td>1</td>\n",
       "      <td>74</td>\n",
       "      <td>30</td>\n",
       "      <td>930208</td>\n",
       "      <td>9285</td>\n",
       "      <td>9593</td>\n",
       "      <td>True</td>\n",
       "      <td>1005</td>\n",
       "      <td>1</td>\n",
       "      <td>931107</td>\n",
       "      <td>2349709</td>\n",
       "      <td>729471600.0</td>\n",
       "      <td>credit</td>\n",
       "      <td>credit in cash</td>\n",
       "      <td>19588.0</td>\n",
       "      <td>20188.0</td>\n",
       "      <td>NaN</td>\n",
       "      <td>NaN</td>\n",
       "      <td>NaN</td>\n",
       "      <td>685128</td>\n",
       "      <td>74</td>\n",
       "      <td>False</td>\n",
       "      <td>1968-01-28</td>\n",
       "      <td>53</td>\n",
       "      <td>50-65</td>\n",
       "      <td>74</td>\n",
       "      <td>1</td>\n",
       "      <td>0</td>\n",
       "      <td>0</td>\n",
       "      <td>0</td>\n",
       "      <td>323870</td>\n",
       "      <td>0</td>\n",
       "      <td>0</td>\n",
       "      <td>0</td>\n",
       "      <td>1</td>\n",
       "      <td>1</td>\n",
       "      <td>100.0</td>\n",
       "      <td>10673</td>\n",
       "      <td>4.75</td>\n",
       "      <td>5.44</td>\n",
       "      <td>100</td>\n",
       "      <td>4.75</td>\n",
       "      <td>18347</td>\n",
       "    </tr>\n",
       "    <tr>\n",
       "      <th>2</th>\n",
       "      <td>6577</td>\n",
       "      <td>7753</td>\n",
       "      <td>940311</td>\n",
       "      <td>51696</td>\n",
       "      <td>24</td>\n",
       "      <td>2154</td>\n",
       "      <td>1</td>\n",
       "      <td>74</td>\n",
       "      <td>30</td>\n",
       "      <td>930208</td>\n",
       "      <td>9285</td>\n",
       "      <td>9593</td>\n",
       "      <td>True</td>\n",
       "      <td>1005</td>\n",
       "      <td>1</td>\n",
       "      <td>931107</td>\n",
       "      <td>2349705</td>\n",
       "      <td>729471600.0</td>\n",
       "      <td>credit</td>\n",
       "      <td>credit in cash</td>\n",
       "      <td>27078.0</td>\n",
       "      <td>47266.0</td>\n",
       "      <td>NaN</td>\n",
       "      <td>NaN</td>\n",
       "      <td>NaN</td>\n",
       "      <td>685128</td>\n",
       "      <td>74</td>\n",
       "      <td>False</td>\n",
       "      <td>1968-01-28</td>\n",
       "      <td>53</td>\n",
       "      <td>50-65</td>\n",
       "      <td>74</td>\n",
       "      <td>1</td>\n",
       "      <td>0</td>\n",
       "      <td>0</td>\n",
       "      <td>0</td>\n",
       "      <td>323870</td>\n",
       "      <td>0</td>\n",
       "      <td>0</td>\n",
       "      <td>0</td>\n",
       "      <td>1</td>\n",
       "      <td>1</td>\n",
       "      <td>100.0</td>\n",
       "      <td>10673</td>\n",
       "      <td>4.75</td>\n",
       "      <td>5.44</td>\n",
       "      <td>100</td>\n",
       "      <td>4.75</td>\n",
       "      <td>18347</td>\n",
       "    </tr>\n",
       "    <tr>\n",
       "      <th>3</th>\n",
       "      <td>6577</td>\n",
       "      <td>7753</td>\n",
       "      <td>940311</td>\n",
       "      <td>51696</td>\n",
       "      <td>24</td>\n",
       "      <td>2154</td>\n",
       "      <td>1</td>\n",
       "      <td>74</td>\n",
       "      <td>30</td>\n",
       "      <td>930208</td>\n",
       "      <td>9285</td>\n",
       "      <td>9593</td>\n",
       "      <td>True</td>\n",
       "      <td>1005</td>\n",
       "      <td>1</td>\n",
       "      <td>931107</td>\n",
       "      <td>3492040</td>\n",
       "      <td>730854000.0</td>\n",
       "      <td>credit</td>\n",
       "      <td>NaN</td>\n",
       "      <td>119.6</td>\n",
       "      <td>47385.6</td>\n",
       "      <td>interest credited</td>\n",
       "      <td>NaN</td>\n",
       "      <td>NaN</td>\n",
       "      <td>685128</td>\n",
       "      <td>74</td>\n",
       "      <td>False</td>\n",
       "      <td>1968-01-28</td>\n",
       "      <td>53</td>\n",
       "      <td>50-65</td>\n",
       "      <td>74</td>\n",
       "      <td>1</td>\n",
       "      <td>0</td>\n",
       "      <td>0</td>\n",
       "      <td>0</td>\n",
       "      <td>323870</td>\n",
       "      <td>0</td>\n",
       "      <td>0</td>\n",
       "      <td>0</td>\n",
       "      <td>1</td>\n",
       "      <td>1</td>\n",
       "      <td>100.0</td>\n",
       "      <td>10673</td>\n",
       "      <td>4.75</td>\n",
       "      <td>5.44</td>\n",
       "      <td>100</td>\n",
       "      <td>4.75</td>\n",
       "      <td>18347</td>\n",
       "    </tr>\n",
       "    <tr>\n",
       "      <th>4</th>\n",
       "      <td>6577</td>\n",
       "      <td>7753</td>\n",
       "      <td>940311</td>\n",
       "      <td>51696</td>\n",
       "      <td>24</td>\n",
       "      <td>2154</td>\n",
       "      <td>1</td>\n",
       "      <td>74</td>\n",
       "      <td>30</td>\n",
       "      <td>930208</td>\n",
       "      <td>9285</td>\n",
       "      <td>9593</td>\n",
       "      <td>True</td>\n",
       "      <td>1005</td>\n",
       "      <td>1</td>\n",
       "      <td>931107</td>\n",
       "      <td>2350078</td>\n",
       "      <td>731718000.0</td>\n",
       "      <td>withdrawal</td>\n",
       "      <td>withdrawal in cash</td>\n",
       "      <td>-12000.0</td>\n",
       "      <td>35385.6</td>\n",
       "      <td>NaN</td>\n",
       "      <td>NaN</td>\n",
       "      <td>NaN</td>\n",
       "      <td>685128</td>\n",
       "      <td>74</td>\n",
       "      <td>False</td>\n",
       "      <td>1968-01-28</td>\n",
       "      <td>53</td>\n",
       "      <td>50-65</td>\n",
       "      <td>74</td>\n",
       "      <td>1</td>\n",
       "      <td>0</td>\n",
       "      <td>0</td>\n",
       "      <td>0</td>\n",
       "      <td>323870</td>\n",
       "      <td>0</td>\n",
       "      <td>0</td>\n",
       "      <td>0</td>\n",
       "      <td>1</td>\n",
       "      <td>1</td>\n",
       "      <td>100.0</td>\n",
       "      <td>10673</td>\n",
       "      <td>4.75</td>\n",
       "      <td>5.44</td>\n",
       "      <td>100</td>\n",
       "      <td>4.75</td>\n",
       "      <td>18347</td>\n",
       "    </tr>\n",
       "  </tbody>\n",
       "</table>\n",
       "</div>"
      ],
      "text/plain": [
       "   loan_id  account_id  date_loan  amount  duration  payments  status  \\\n",
       "0     6577        7753     940311   51696        24      2154       1   \n",
       "1     6577        7753     940311   51696        24      2154       1   \n",
       "2     6577        7753     940311   51696        24      2154       1   \n",
       "3     6577        7753     940311   51696        24      2154       1   \n",
       "4     6577        7753     940311   51696        24      2154       1   \n",
       "\n",
       "   district_id frequency  date_account  disp_id  client_id  is_owner  card_id  \\\n",
       "0           74        30        930208     9285       9593      True     1005   \n",
       "1           74        30        930208     9285       9593      True     1005   \n",
       "2           74        30        930208     9285       9593      True     1005   \n",
       "3           74        30        930208     9285       9593      True     1005   \n",
       "4           74        30        930208     9285       9593      True     1005   \n",
       "\n",
       "   type  issued  trans_id         date  type_trans           operation  \\\n",
       "0     1  931107   2349697  729126000.0      credit      credit in cash   \n",
       "1     1  931107   2349709  729471600.0      credit      credit in cash   \n",
       "2     1  931107   2349705  729471600.0      credit      credit in cash   \n",
       "3     1  931107   3492040  730854000.0      credit                 NaN   \n",
       "4     1  931107   2350078  731718000.0  withdrawal  withdrawal in cash   \n",
       "\n",
       "   amount_trans  balance           k_symbol bank  account  birth_number  \\\n",
       "0         600.0    600.0                NaN  NaN      NaN        685128   \n",
       "1       19588.0  20188.0                NaN  NaN      NaN        685128   \n",
       "2       27078.0  47266.0                NaN  NaN      NaN        685128   \n",
       "3         119.6  47385.6  interest credited  NaN      NaN        685128   \n",
       "4      -12000.0  35385.6                NaN  NaN      NaN        685128   \n",
       "\n",
       "   district_id_client  is_male birth_date  age age_bins  code  region_0  \\\n",
       "0                  74    False 1968-01-28   53    50-65    74         1   \n",
       "1                  74    False 1968-01-28   53    50-65    74         1   \n",
       "2                  74    False 1968-01-28   53    50-65    74         1   \n",
       "3                  74    False 1968-01-28   53    50-65    74         1   \n",
       "4                  74    False 1968-01-28   53    50-65    74         1   \n",
       "\n",
       "   region_1  region_2  region_3  no. of inhabitants  \\\n",
       "0         0         0         0              323870   \n",
       "1         0         0         0              323870   \n",
       "2         0         0         0              323870   \n",
       "3         0         0         0              323870   \n",
       "4         0         0         0              323870   \n",
       "\n",
       "   no. of municipalities with inhabitants < 499  \\\n",
       "0                                             0   \n",
       "1                                             0   \n",
       "2                                             0   \n",
       "3                                             0   \n",
       "4                                             0   \n",
       "\n",
       "   no. of municipalities with inhabitants 500-1999  \\\n",
       "0                                                0   \n",
       "1                                                0   \n",
       "2                                                0   \n",
       "3                                                0   \n",
       "4                                                0   \n",
       "\n",
       "   no. of municipalities with inhabitants 2000-9999  \\\n",
       "0                                                 0   \n",
       "1                                                 0   \n",
       "2                                                 0   \n",
       "3                                                 0   \n",
       "4                                                 0   \n",
       "\n",
       "   no. of municipalities with inhabitants >10000  no. of cities  \\\n",
       "0                                              1              1   \n",
       "1                                              1              1   \n",
       "2                                              1              1   \n",
       "3                                              1              1   \n",
       "4                                              1              1   \n",
       "\n",
       "   ratio of urban inhabitants  average salary  unemploymant rate '95  \\\n",
       "0                       100.0           10673                   4.75   \n",
       "1                       100.0           10673                   4.75   \n",
       "2                       100.0           10673                   4.75   \n",
       "3                       100.0           10673                   4.75   \n",
       "4                       100.0           10673                   4.75   \n",
       "\n",
       "   unemploymant rate '96  no. of enterpreneurs per 1000 inhabitants  \\\n",
       "0                   5.44                                        100   \n",
       "1                   5.44                                        100   \n",
       "2                   5.44                                        100   \n",
       "3                   5.44                                        100   \n",
       "4                   5.44                                        100   \n",
       "\n",
       "   no. of commited crimes '95  no. of commited crimes '96  \n",
       "0                        4.75                       18347  \n",
       "1                        4.75                       18347  \n",
       "2                        4.75                       18347  \n",
       "3                        4.75                       18347  \n",
       "4                        4.75                       18347  "
      ]
     },
     "execution_count": 32,
     "metadata": {},
     "output_type": "execute_result"
    }
   ],
   "source": [
    "def join(df1, df2, key1, key2, suff, t=\"inner\"):\n",
    "    return df1.merge(df2, left_on=key1, right_on=key2, how=t, suffixes=suff)\n",
    "\n",
    "# join all data into a single table\n",
    "join_df = join(loan_df, account_df, 'account_id', 'account_id', ['_loan', '_account'])\n",
    "join_df = join(join_df, disp_df, 'account_id', 'account_id', ['', '_disp'])\n",
    "join_df = join(join_df, card_df, 'disp_id', 'disp_id', ['', '_card'])\n",
    "join_df = join(join_df, trans_df, 'account_id', 'account_id', ['', '_trans'])\n",
    "join_df = join(join_df, client_df, 'client_id', 'client_id', ['', '_client'])\n",
    "join_df = join(join_df, district_df, 'district_id', 'code', ['', '_district'])\n",
    "\n",
    "df = join_df\n",
    "join_df.head()"
   ]
  },
  {
   "cell_type": "markdown",
   "id": "72b1af34-960e-4b43-9a1f-05a92dcd721c",
   "metadata": {},
   "source": [
    "### Save clean data"
   ]
  },
  {
   "cell_type": "code",
   "execution_count": 33,
   "id": "20a0417f-4971-4bbc-b2f9-b98a82a05a40",
   "metadata": {},
   "outputs": [
    {
     "ename": "FileNotFoundError",
     "evalue": "[Errno 2] No such file or directory: 'cool_data/train-data-clean.csv'",
     "output_type": "error",
     "traceback": [
      "\u001b[0;31m---------------------------------------------------------------------------\u001b[0m",
      "\u001b[0;31mFileNotFoundError\u001b[0m                         Traceback (most recent call last)",
      "\u001b[0;32m/tmp/ipykernel_20139/2637756900.py\u001b[0m in \u001b[0;36m<module>\u001b[0;34m\u001b[0m\n\u001b[1;32m      1\u001b[0m \u001b[0mtrain_data_clean\u001b[0m\u001b[0;34m=\u001b[0m\u001b[0;34m'cool_data/train-data-clean.csv'\u001b[0m\u001b[0;34m\u001b[0m\u001b[0;34m\u001b[0m\u001b[0m\n\u001b[0;32m----> 2\u001b[0;31m \u001b[0mdf\u001b[0m\u001b[0;34m.\u001b[0m\u001b[0mto_csv\u001b[0m\u001b[0;34m(\u001b[0m\u001b[0mtrain_data_clean\u001b[0m\u001b[0;34m,\u001b[0m \u001b[0mindex\u001b[0m\u001b[0;34m=\u001b[0m\u001b[0;32mFalse\u001b[0m\u001b[0;34m)\u001b[0m\u001b[0;34m\u001b[0m\u001b[0;34m\u001b[0m\u001b[0m\n\u001b[0m",
      "\u001b[0;32m/usr/lib/python3.9/site-packages/pandas/core/generic.py\u001b[0m in \u001b[0;36mto_csv\u001b[0;34m(self, path_or_buf, sep, na_rep, float_format, columns, header, index, index_label, mode, encoding, compression, quoting, quotechar, line_terminator, chunksize, date_format, doublequote, escapechar, decimal, errors, storage_options)\u001b[0m\n\u001b[1;32m   3464\u001b[0m         )\n\u001b[1;32m   3465\u001b[0m \u001b[0;34m\u001b[0m\u001b[0m\n\u001b[0;32m-> 3466\u001b[0;31m         return DataFrameRenderer(formatter).to_csv(\n\u001b[0m\u001b[1;32m   3467\u001b[0m             \u001b[0mpath_or_buf\u001b[0m\u001b[0;34m,\u001b[0m\u001b[0;34m\u001b[0m\u001b[0;34m\u001b[0m\u001b[0m\n\u001b[1;32m   3468\u001b[0m             \u001b[0mline_terminator\u001b[0m\u001b[0;34m=\u001b[0m\u001b[0mline_terminator\u001b[0m\u001b[0;34m,\u001b[0m\u001b[0;34m\u001b[0m\u001b[0;34m\u001b[0m\u001b[0m\n",
      "\u001b[0;32m/usr/lib/python3.9/site-packages/pandas/io/formats/format.py\u001b[0m in \u001b[0;36mto_csv\u001b[0;34m(self, path_or_buf, encoding, sep, columns, index_label, mode, compression, quoting, quotechar, line_terminator, chunksize, date_format, doublequote, escapechar, errors, storage_options)\u001b[0m\n\u001b[1;32m   1103\u001b[0m             \u001b[0mformatter\u001b[0m\u001b[0;34m=\u001b[0m\u001b[0mself\u001b[0m\u001b[0;34m.\u001b[0m\u001b[0mfmt\u001b[0m\u001b[0;34m,\u001b[0m\u001b[0;34m\u001b[0m\u001b[0;34m\u001b[0m\u001b[0m\n\u001b[1;32m   1104\u001b[0m         )\n\u001b[0;32m-> 1105\u001b[0;31m         \u001b[0mcsv_formatter\u001b[0m\u001b[0;34m.\u001b[0m\u001b[0msave\u001b[0m\u001b[0;34m(\u001b[0m\u001b[0;34m)\u001b[0m\u001b[0;34m\u001b[0m\u001b[0;34m\u001b[0m\u001b[0m\n\u001b[0m\u001b[1;32m   1106\u001b[0m \u001b[0;34m\u001b[0m\u001b[0m\n\u001b[1;32m   1107\u001b[0m         \u001b[0;32mif\u001b[0m \u001b[0mcreated_buffer\u001b[0m\u001b[0;34m:\u001b[0m\u001b[0;34m\u001b[0m\u001b[0;34m\u001b[0m\u001b[0m\n",
      "\u001b[0;32m/usr/lib/python3.9/site-packages/pandas/io/formats/csvs.py\u001b[0m in \u001b[0;36msave\u001b[0;34m(self)\u001b[0m\n\u001b[1;32m    235\u001b[0m         \"\"\"\n\u001b[1;32m    236\u001b[0m         \u001b[0;31m# apply compression and byte/text conversion\u001b[0m\u001b[0;34m\u001b[0m\u001b[0;34m\u001b[0m\u001b[0m\n\u001b[0;32m--> 237\u001b[0;31m         with get_handle(\n\u001b[0m\u001b[1;32m    238\u001b[0m             \u001b[0mself\u001b[0m\u001b[0;34m.\u001b[0m\u001b[0mfilepath_or_buffer\u001b[0m\u001b[0;34m,\u001b[0m\u001b[0;34m\u001b[0m\u001b[0;34m\u001b[0m\u001b[0m\n\u001b[1;32m    239\u001b[0m             \u001b[0mself\u001b[0m\u001b[0;34m.\u001b[0m\u001b[0mmode\u001b[0m\u001b[0;34m,\u001b[0m\u001b[0;34m\u001b[0m\u001b[0;34m\u001b[0m\u001b[0m\n",
      "\u001b[0;32m/usr/lib/python3.9/site-packages/pandas/io/common.py\u001b[0m in \u001b[0;36mget_handle\u001b[0;34m(path_or_buf, mode, encoding, compression, memory_map, is_text, errors, storage_options)\u001b[0m\n\u001b[1;32m    700\u001b[0m         \u001b[0;32mif\u001b[0m \u001b[0mioargs\u001b[0m\u001b[0;34m.\u001b[0m\u001b[0mencoding\u001b[0m \u001b[0;32mand\u001b[0m \u001b[0;34m\"b\"\u001b[0m \u001b[0;32mnot\u001b[0m \u001b[0;32min\u001b[0m \u001b[0mioargs\u001b[0m\u001b[0;34m.\u001b[0m\u001b[0mmode\u001b[0m\u001b[0;34m:\u001b[0m\u001b[0;34m\u001b[0m\u001b[0;34m\u001b[0m\u001b[0m\n\u001b[1;32m    701\u001b[0m             \u001b[0;31m# Encoding\u001b[0m\u001b[0;34m\u001b[0m\u001b[0;34m\u001b[0m\u001b[0m\n\u001b[0;32m--> 702\u001b[0;31m             handle = open(\n\u001b[0m\u001b[1;32m    703\u001b[0m                 \u001b[0mhandle\u001b[0m\u001b[0;34m,\u001b[0m\u001b[0;34m\u001b[0m\u001b[0;34m\u001b[0m\u001b[0m\n\u001b[1;32m    704\u001b[0m                 \u001b[0mioargs\u001b[0m\u001b[0;34m.\u001b[0m\u001b[0mmode\u001b[0m\u001b[0;34m,\u001b[0m\u001b[0;34m\u001b[0m\u001b[0;34m\u001b[0m\u001b[0m\n",
      "\u001b[0;31mFileNotFoundError\u001b[0m: [Errno 2] No such file or directory: 'cool_data/train-data-clean.csv'"
     ]
    }
   ],
   "source": [
    "train_data_clean='cool_data/train-data-clean.csv'\n",
    "df.to_csv(train_data_clean, index=False)"
   ]
  },
  {
   "cell_type": "markdown",
   "id": "4311e9dc-e6a3-4016-9024-b7b53025fc7f",
   "metadata": {},
   "source": [
    "## Classification"
   ]
  },
  {
   "cell_type": "code",
   "execution_count": null,
   "id": "812a49ce-8efc-47aa-ab77-e9e1ae583c9f",
   "metadata": {},
   "outputs": [],
   "source": [
    "def getXy(df):\n",
    "    # inputs\n",
    "    X = df.drop([\"status\"], axis=1)\n",
    "    # target\n",
    "    y = df[\"status\"]\n",
    "    return (X, y)"
   ]
  },
  {
   "cell_type": "markdown",
   "id": "790b39ec-a944-4966-a77f-19443a309d4f",
   "metadata": {},
   "source": [
    "Note that we scaled our data. We did this because we need it to obtain better results on distance-based models: K-NN and SVC. This doesn't affect tree-based algorithms so we do it here."
   ]
  },
  {
   "cell_type": "code",
   "execution_count": null,
   "id": "84dce9d6-36a9-45f3-86c0-751e8ac3e726",
   "metadata": {},
   "outputs": [],
   "source": [
    "from sklearn.model_selection import StratifiedKFold\n",
    "\n",
    "k = 10\n",
    "kf = StratifiedKFold(n_splits=k)"
   ]
  },
  {
   "cell_type": "markdown",
   "id": "6ad9b629-e408-4b89-8520-5d61b7ed0f9c",
   "metadata": {},
   "source": [
    "We will be using **Stratified K-Fold with 10 folds** for our cross-validations."
   ]
  },
  {
   "cell_type": "markdown",
   "id": "68d0bd14-926f-4169-b3cb-6597a76fcfe3",
   "metadata": {},
   "source": [
    "### Establishing a baseline"
   ]
  },
  {
   "cell_type": "markdown",
   "id": "781ce53c-05ef-45a2-944c-69b15e201090",
   "metadata": {},
   "source": [
    "Let's establish a baseline for our classifiers."
   ]
  },
  {
   "cell_type": "code",
   "execution_count": null,
   "id": "d3df4fbf-c452-4e64-81da-ac5302f14915",
   "metadata": {},
   "outputs": [],
   "source": [
    "from sklearn.model_selection import cross_validate\n",
    "from sklearn.tree import DecisionTreeClassifier\n",
    "from sklearn.naive_bayes import GaussianNB\n",
    "\n",
    "baseline_clfs = [\n",
    "    {\"name\": \"Decision tree\", \"clf\": DecisionTreeClassifier()},\n",
    "    {\"name\": \"Naive Bayes\", \"clf\": GaussianNB()},\n",
    "]\n",
    "\n",
    "scoring = {\"accuracy\": \"accuracy\",\n",
    "           \"precision\": \"precision_weighted\",\n",
    "           \"recall\": \"recall_weighted\",\n",
    "           \"f1\": \"f1_weighted\"}\n",
    "\n",
    "# save classifier information in DataFrame: name, score, fit_time, score_time\n",
    "baseline_df = pd.DataFrame()\n",
    "for clf_entry in baseline_clfs:\n",
    "    scores = cross_validate(clf_entry[\"clf\"], X_train, y_train, scoring=scoring, cv=kf, n_jobs=configNJobs)\n",
    "    info = scores | {\"classifier\": [clf_entry[\"name\"]] * k}\n",
    "    baseline_df = baseline_df.append(pd.DataFrame(info))\n",
    "\n",
    "baseline_df.head()"
   ]
  },
  {
   "cell_type": "code",
   "execution_count": null,
   "id": "eaef682f-8424-4241-a485-1fae7ae7a48e",
   "metadata": {},
   "outputs": [],
   "source": []
  }
 ],
 "metadata": {
  "kernelspec": {
   "display_name": "Python 3 (ipykernel)",
   "language": "python",
   "name": "python3"
  },
  "language_info": {
   "codemirror_mode": {
    "name": "ipython",
    "version": 3
   },
   "file_extension": ".py",
   "mimetype": "text/x-python",
   "name": "python",
   "nbconvert_exporter": "python",
   "pygments_lexer": "ipython3",
   "version": "3.9.7"
  }
 },
 "nbformat": 4,
 "nbformat_minor": 5
}
