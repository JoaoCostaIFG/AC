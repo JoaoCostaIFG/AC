{
 "cells": [
  {
   "cell_type": "markdown",
   "id": "02387a7c-7f8d-4039-8725-20e75cc8b201",
   "metadata": {},
   "source": [
    "# AC FEUP 21/22"
   ]
  },
  {
   "cell_type": "markdown",
   "id": "7ff4a512-1545-4a35-b92d-7fbc222c81ed",
   "metadata": {
    "tags": []
   },
   "source": [
    "## Main dependencies"
   ]
  },
  {
   "cell_type": "code",
   "execution_count": 1,
   "id": "f950da41-94f9-4c71-a1e2-4cb358a2f6b1",
   "metadata": {},
   "outputs": [],
   "source": [
    "import pandas as pd\n",
    "import matplotlib.pyplot as plt\n",
    "%matplotlib inline\n",
    "import seaborn as sb\n",
    "import numpy as np\n",
    "import sklearn\n",
    "\n",
    "# use to not cut columns\n",
    "pd.set_option('max_columns', None)\n",
    "\n",
    "# njobs to use in sklearn models\n",
    "configNJobs = -1"
   ]
  },
  {
   "cell_type": "markdown",
   "id": "7d89a623",
   "metadata": {
    "tags": []
   },
   "source": [
    "## Import data"
   ]
  },
  {
   "cell_type": "markdown",
   "id": "4aae85b6-9c9e-4f18-88d7-f9e351691cb6",
   "metadata": {
    "tags": []
   },
   "source": [
    "### Training data"
   ]
  },
  {
   "cell_type": "code",
   "execution_count": 2,
   "id": "c45d1acc",
   "metadata": {},
   "outputs": [
    {
     "data": {
      "text/html": [
       "<div>\n",
       "<style scoped>\n",
       "    .dataframe tbody tr th:only-of-type {\n",
       "        vertical-align: middle;\n",
       "    }\n",
       "\n",
       "    .dataframe tbody tr th {\n",
       "        vertical-align: top;\n",
       "    }\n",
       "\n",
       "    .dataframe thead th {\n",
       "        text-align: right;\n",
       "    }\n",
       "</style>\n",
       "<table border=\"1\" class=\"dataframe\">\n",
       "  <thead>\n",
       "    <tr style=\"text-align: right;\">\n",
       "      <th></th>\n",
       "      <th>trans_id</th>\n",
       "      <th>account_id</th>\n",
       "      <th>date</th>\n",
       "      <th>type</th>\n",
       "      <th>operation</th>\n",
       "      <th>amount</th>\n",
       "      <th>balance</th>\n",
       "      <th>k_symbol</th>\n",
       "      <th>bank</th>\n",
       "      <th>account</th>\n",
       "    </tr>\n",
       "  </thead>\n",
       "  <tbody>\n",
       "    <tr>\n",
       "      <th>0</th>\n",
       "      <td>1548749</td>\n",
       "      <td>5270</td>\n",
       "      <td>930113</td>\n",
       "      <td>credit</td>\n",
       "      <td>credit in cash</td>\n",
       "      <td>800.0</td>\n",
       "      <td>800.0</td>\n",
       "      <td>NaN</td>\n",
       "      <td>NaN</td>\n",
       "      <td>NaN</td>\n",
       "    </tr>\n",
       "    <tr>\n",
       "      <th>1</th>\n",
       "      <td>1548750</td>\n",
       "      <td>5270</td>\n",
       "      <td>930114</td>\n",
       "      <td>credit</td>\n",
       "      <td>collection from another bank</td>\n",
       "      <td>44749.0</td>\n",
       "      <td>45549.0</td>\n",
       "      <td>NaN</td>\n",
       "      <td>IJ</td>\n",
       "      <td>80269753.0</td>\n",
       "    </tr>\n",
       "    <tr>\n",
       "      <th>2</th>\n",
       "      <td>3393738</td>\n",
       "      <td>11265</td>\n",
       "      <td>930114</td>\n",
       "      <td>credit</td>\n",
       "      <td>credit in cash</td>\n",
       "      <td>1000.0</td>\n",
       "      <td>1000.0</td>\n",
       "      <td>NaN</td>\n",
       "      <td>NaN</td>\n",
       "      <td>NaN</td>\n",
       "    </tr>\n",
       "    <tr>\n",
       "      <th>3</th>\n",
       "      <td>3122924</td>\n",
       "      <td>10364</td>\n",
       "      <td>930117</td>\n",
       "      <td>credit</td>\n",
       "      <td>credit in cash</td>\n",
       "      <td>1100.0</td>\n",
       "      <td>1100.0</td>\n",
       "      <td>NaN</td>\n",
       "      <td>NaN</td>\n",
       "      <td>NaN</td>\n",
       "    </tr>\n",
       "    <tr>\n",
       "      <th>4</th>\n",
       "      <td>1121963</td>\n",
       "      <td>3834</td>\n",
       "      <td>930119</td>\n",
       "      <td>credit</td>\n",
       "      <td>credit in cash</td>\n",
       "      <td>700.0</td>\n",
       "      <td>700.0</td>\n",
       "      <td>NaN</td>\n",
       "      <td>NaN</td>\n",
       "      <td>NaN</td>\n",
       "    </tr>\n",
       "  </tbody>\n",
       "</table>\n",
       "</div>"
      ],
      "text/plain": [
       "   trans_id  account_id    date    type                     operation  \\\n",
       "0   1548749        5270  930113  credit                credit in cash   \n",
       "1   1548750        5270  930114  credit  collection from another bank   \n",
       "2   3393738       11265  930114  credit                credit in cash   \n",
       "3   3122924       10364  930117  credit                credit in cash   \n",
       "4   1121963        3834  930119  credit                credit in cash   \n",
       "\n",
       "    amount  balance k_symbol bank     account  \n",
       "0    800.0    800.0      NaN  NaN         NaN  \n",
       "1  44749.0  45549.0      NaN   IJ  80269753.0  \n",
       "2   1000.0   1000.0      NaN  NaN         NaN  \n",
       "3   1100.0   1100.0      NaN  NaN         NaN  \n",
       "4    700.0    700.0      NaN  NaN         NaN  "
      ]
     },
     "execution_count": 2,
     "metadata": {},
     "output_type": "execute_result"
    }
   ],
   "source": [
    "# import data\n",
    "def read_csv(file, dtype={}, na_values=None):\n",
    "    return pd.read_csv(\"data/\" + file, sep=\";\", dtype=dtype, na_values=na_values)\n",
    "\n",
    "account_df = read_csv(\"account.csv\")\n",
    "card_df = read_csv(\"card_train.csv\")\n",
    "client_df = read_csv(\"client.csv\")\n",
    "disp_df = read_csv(\"disp.csv\")\n",
    "district_df = read_csv(\"district.csv\", na_values=\"?\")\n",
    "loan_df = read_csv(\"loan_train.csv\")\n",
    "trans_df = read_csv(\"trans_train.csv\", dtype={'bank': 'str'})\n",
    "\n",
    "trans_df.head()"
   ]
  },
  {
   "cell_type": "code",
   "execution_count": 3,
   "id": "638af51a-ab2a-4c7f-9f3a-ee2fba1c0266",
   "metadata": {},
   "outputs": [
    {
     "data": {
      "text/html": [
       "<div>\n",
       "<style scoped>\n",
       "    .dataframe tbody tr th:only-of-type {\n",
       "        vertical-align: middle;\n",
       "    }\n",
       "\n",
       "    .dataframe tbody tr th {\n",
       "        vertical-align: top;\n",
       "    }\n",
       "\n",
       "    .dataframe thead th {\n",
       "        text-align: right;\n",
       "    }\n",
       "</style>\n",
       "<table border=\"1\" class=\"dataframe\">\n",
       "  <thead>\n",
       "    <tr style=\"text-align: right;\">\n",
       "      <th></th>\n",
       "      <th>code</th>\n",
       "      <th>name</th>\n",
       "      <th>region</th>\n",
       "      <th>people_count</th>\n",
       "      <th>muni_499_count</th>\n",
       "      <th>muni_500-1999_count</th>\n",
       "      <th>muni_2000-9999_count</th>\n",
       "      <th>muni_10000_count</th>\n",
       "      <th>cities_count</th>\n",
       "      <th>ratio_urban_people</th>\n",
       "      <th>avg_salary</th>\n",
       "      <th>unemp_rate_95</th>\n",
       "      <th>unemp_rate_96</th>\n",
       "      <th>enterp_per1000</th>\n",
       "      <th>crime_count_95</th>\n",
       "      <th>crime_count_96</th>\n",
       "    </tr>\n",
       "  </thead>\n",
       "  <tbody>\n",
       "    <tr>\n",
       "      <th>0</th>\n",
       "      <td>1</td>\n",
       "      <td>Hl.m. Praha</td>\n",
       "      <td>Prague</td>\n",
       "      <td>1204953</td>\n",
       "      <td>0</td>\n",
       "      <td>0</td>\n",
       "      <td>0</td>\n",
       "      <td>1</td>\n",
       "      <td>1</td>\n",
       "      <td>100.0</td>\n",
       "      <td>12541</td>\n",
       "      <td>0.29</td>\n",
       "      <td>0.43</td>\n",
       "      <td>167</td>\n",
       "      <td>85677.0</td>\n",
       "      <td>99107</td>\n",
       "    </tr>\n",
       "    <tr>\n",
       "      <th>1</th>\n",
       "      <td>2</td>\n",
       "      <td>Benesov</td>\n",
       "      <td>central Bohemia</td>\n",
       "      <td>88884</td>\n",
       "      <td>80</td>\n",
       "      <td>26</td>\n",
       "      <td>6</td>\n",
       "      <td>2</td>\n",
       "      <td>5</td>\n",
       "      <td>46.7</td>\n",
       "      <td>8507</td>\n",
       "      <td>1.67</td>\n",
       "      <td>1.85</td>\n",
       "      <td>132</td>\n",
       "      <td>2159.0</td>\n",
       "      <td>2674</td>\n",
       "    </tr>\n",
       "    <tr>\n",
       "      <th>2</th>\n",
       "      <td>3</td>\n",
       "      <td>Beroun</td>\n",
       "      <td>central Bohemia</td>\n",
       "      <td>75232</td>\n",
       "      <td>55</td>\n",
       "      <td>26</td>\n",
       "      <td>4</td>\n",
       "      <td>1</td>\n",
       "      <td>5</td>\n",
       "      <td>41.7</td>\n",
       "      <td>8980</td>\n",
       "      <td>1.95</td>\n",
       "      <td>2.21</td>\n",
       "      <td>111</td>\n",
       "      <td>2824.0</td>\n",
       "      <td>2813</td>\n",
       "    </tr>\n",
       "    <tr>\n",
       "      <th>3</th>\n",
       "      <td>4</td>\n",
       "      <td>Kladno</td>\n",
       "      <td>central Bohemia</td>\n",
       "      <td>149893</td>\n",
       "      <td>63</td>\n",
       "      <td>29</td>\n",
       "      <td>6</td>\n",
       "      <td>2</td>\n",
       "      <td>6</td>\n",
       "      <td>67.4</td>\n",
       "      <td>9753</td>\n",
       "      <td>4.64</td>\n",
       "      <td>5.05</td>\n",
       "      <td>109</td>\n",
       "      <td>5244.0</td>\n",
       "      <td>5892</td>\n",
       "    </tr>\n",
       "    <tr>\n",
       "      <th>4</th>\n",
       "      <td>5</td>\n",
       "      <td>Kolin</td>\n",
       "      <td>central Bohemia</td>\n",
       "      <td>95616</td>\n",
       "      <td>65</td>\n",
       "      <td>30</td>\n",
       "      <td>4</td>\n",
       "      <td>1</td>\n",
       "      <td>6</td>\n",
       "      <td>51.4</td>\n",
       "      <td>9307</td>\n",
       "      <td>3.85</td>\n",
       "      <td>4.43</td>\n",
       "      <td>118</td>\n",
       "      <td>2616.0</td>\n",
       "      <td>3040</td>\n",
       "    </tr>\n",
       "  </tbody>\n",
       "</table>\n",
       "</div>"
      ],
      "text/plain": [
       "   code         name           region  people_count  muni_499_count  \\\n",
       "0     1  Hl.m. Praha           Prague       1204953               0   \n",
       "1     2      Benesov  central Bohemia         88884              80   \n",
       "2     3       Beroun  central Bohemia         75232              55   \n",
       "3     4       Kladno  central Bohemia        149893              63   \n",
       "4     5        Kolin  central Bohemia         95616              65   \n",
       "\n",
       "   muni_500-1999_count  muni_2000-9999_count  muni_10000_count  cities_count  \\\n",
       "0                    0                     0                 1             1   \n",
       "1                   26                     6                 2             5   \n",
       "2                   26                     4                 1             5   \n",
       "3                   29                     6                 2             6   \n",
       "4                   30                     4                 1             6   \n",
       "\n",
       "   ratio_urban_people  avg_salary  unemp_rate_95  unemp_rate_96  \\\n",
       "0               100.0       12541           0.29           0.43   \n",
       "1                46.7        8507           1.67           1.85   \n",
       "2                41.7        8980           1.95           2.21   \n",
       "3                67.4        9753           4.64           5.05   \n",
       "4                51.4        9307           3.85           4.43   \n",
       "\n",
       "   enterp_per1000  crime_count_95  crime_count_96  \n",
       "0             167         85677.0           99107  \n",
       "1             132          2159.0            2674  \n",
       "2             111          2824.0            2813  \n",
       "3             109          5244.0            5892  \n",
       "4             118          2616.0            3040  "
      ]
     },
     "execution_count": 3,
     "metadata": {},
     "output_type": "execute_result"
    }
   ],
   "source": [
    "# clean column names (some columns come with an extra whitespace)\n",
    "district_df.rename(columns=lambda x: x.strip(), inplace=True)\n",
    "\n",
    "# rename some columns for easier interaction\n",
    "district_df.rename(columns={\"no. of inhabitants\": \"people_count\",\n",
    "                            \"no. of municipalities with inhabitants < 499\": \"muni_499_count\",\n",
    "                            \"no. of municipalities with inhabitants 500-1999\": \"muni_500-1999_count\",\n",
    "                            \"no. of municipalities with inhabitants 2000-9999\": \"muni_2000-9999_count\",\n",
    "                            \"no. of municipalities with inhabitants >10000\": \"muni_10000_count\",\n",
    "                            \"no. of cities\": \"cities_count\",\n",
    "                            \"ratio of urban inhabitants\": \"ratio_urban_people\",\n",
    "                            \"average salary\": \"avg_salary\",\n",
    "                            \"unemploymant rate '95\": \"unemp_rate_95\",\n",
    "                            \"unemploymant rate '96\": \"unemp_rate_96\",\n",
    "                            \"no. of enterpreneurs per 1000 inhabitants\": \"enterp_per1000\",\n",
    "                            \"no. of commited crimes '95\": \"crime_count_95\",\n",
    "                            \"no. of commited crimes '96\": \"crime_count_96\"},\n",
    "                   inplace=True)\n",
    "district_df.head()"
   ]
  },
  {
   "cell_type": "markdown",
   "id": "fb17d78d-d05b-44c2-813d-172f7bc124ae",
   "metadata": {
    "tags": []
   },
   "source": [
    "### Test data"
   ]
  },
  {
   "cell_type": "code",
   "execution_count": 4,
   "id": "c036f4b8-65a6-4cea-8e5f-5c659a261da0",
   "metadata": {},
   "outputs": [],
   "source": [
    "card_test_df = read_csv(\"card_test.csv\")\n",
    "loan_test_df = read_csv(\"loan_test.csv\")\n",
    "trans_test_df = read_csv(\"trans_test.csv\", dtype={'bank': 'str'})"
   ]
  },
  {
   "cell_type": "markdown",
   "id": "f691facc-f513-4c3e-bd1d-5dad260f7576",
   "metadata": {
    "tags": []
   },
   "source": [
    "## Dealing with missing values"
   ]
  },
  {
   "cell_type": "markdown",
   "id": "4ae136ad-2d8e-4253-b5e9-dcee815bd40d",
   "metadata": {
    "tags": []
   },
   "source": [
    "### Account data"
   ]
  },
  {
   "cell_type": "code",
   "execution_count": 5,
   "id": "95721635-ab03-4268-a832-fdcfa9e9d130",
   "metadata": {},
   "outputs": [
    {
     "data": {
      "text/plain": [
       "account_id     0\n",
       "district_id    0\n",
       "frequency      0\n",
       "date           0\n",
       "dtype: int64"
      ]
     },
     "execution_count": 5,
     "metadata": {},
     "output_type": "execute_result"
    }
   ],
   "source": [
    "account_df.isnull().sum()"
   ]
  },
  {
   "cell_type": "markdown",
   "id": "2fac2fe4-526a-42e0-9724-1f356427cbcc",
   "metadata": {},
   "source": [
    "No NULL data to deal with on this dataframe."
   ]
  },
  {
   "cell_type": "markdown",
   "id": "5e13c446-98c0-417f-af91-3987dfb6c28a",
   "metadata": {
    "tags": []
   },
   "source": [
    "### Card data"
   ]
  },
  {
   "cell_type": "code",
   "execution_count": 6,
   "id": "c9a9c772-cd4e-4bd3-87a6-9ac86b878e06",
   "metadata": {},
   "outputs": [
    {
     "data": {
      "text/plain": [
       "card_id    0\n",
       "disp_id    0\n",
       "type       0\n",
       "issued     0\n",
       "dtype: int64"
      ]
     },
     "execution_count": 6,
     "metadata": {},
     "output_type": "execute_result"
    }
   ],
   "source": [
    "card_df.isnull().sum()"
   ]
  },
  {
   "cell_type": "markdown",
   "id": "bbbee90d-41ca-40c3-a3c2-c976a2aac3da",
   "metadata": {},
   "source": [
    "No NULL data to deal with on this dataframe."
   ]
  },
  {
   "cell_type": "code",
   "execution_count": 7,
   "id": "eaf0e228-7a22-49a1-aec4-8582fc270c7b",
   "metadata": {},
   "outputs": [
    {
     "data": {
      "text/plain": [
       "card_id    0\n",
       "disp_id    0\n",
       "type       0\n",
       "issued     0\n",
       "dtype: int64"
      ]
     },
     "execution_count": 7,
     "metadata": {},
     "output_type": "execute_result"
    }
   ],
   "source": [
    "card_test_df.isnull().sum()"
   ]
  },
  {
   "cell_type": "markdown",
   "id": "f153eaf3-c8dd-46fe-a5bf-7896d6f5b151",
   "metadata": {
    "tags": []
   },
   "source": [
    "### Client data"
   ]
  },
  {
   "cell_type": "code",
   "execution_count": 8,
   "id": "bc391b1f-daae-4335-8e5a-754806056769",
   "metadata": {},
   "outputs": [
    {
     "data": {
      "text/plain": [
       "client_id       0\n",
       "birth_number    0\n",
       "district_id     0\n",
       "dtype: int64"
      ]
     },
     "execution_count": 8,
     "metadata": {},
     "output_type": "execute_result"
    }
   ],
   "source": [
    "client_df.isnull().sum()"
   ]
  },
  {
   "cell_type": "markdown",
   "id": "2be0f010-876d-47a2-b8cb-4051f4435664",
   "metadata": {},
   "source": [
    "There are no NULL values on this dataset to deal with."
   ]
  },
  {
   "cell_type": "markdown",
   "id": "d43e54d6-ca9c-4668-a8d3-4eb0c7cd33d0",
   "metadata": {
    "tags": []
   },
   "source": [
    "### Disposition data"
   ]
  },
  {
   "cell_type": "code",
   "execution_count": 9,
   "id": "da096fe0-84d7-437d-8482-ac2069da2f8b",
   "metadata": {},
   "outputs": [
    {
     "data": {
      "text/plain": [
       "disp_id       0\n",
       "client_id     0\n",
       "account_id    0\n",
       "type          0\n",
       "dtype: int64"
      ]
     },
     "execution_count": 9,
     "metadata": {},
     "output_type": "execute_result"
    }
   ],
   "source": [
    "disp_df.isnull().sum()"
   ]
  },
  {
   "cell_type": "markdown",
   "id": "43fc2af0-77ba-4514-9e80-407a49c15956",
   "metadata": {},
   "source": [
    "No NULL data to deal with on this dataframe."
   ]
  },
  {
   "cell_type": "markdown",
   "id": "bc183391-fdfb-46e6-b7c0-464cf0721238",
   "metadata": {
    "tags": []
   },
   "source": [
    "### District data"
   ]
  },
  {
   "cell_type": "code",
   "execution_count": 10,
   "id": "091b1b10-dca6-4941-9733-50d273637148",
   "metadata": {},
   "outputs": [
    {
     "data": {
      "text/plain": [
       "code                    0\n",
       "name                    0\n",
       "region                  0\n",
       "people_count            0\n",
       "muni_499_count          0\n",
       "muni_500-1999_count     0\n",
       "muni_2000-9999_count    0\n",
       "muni_10000_count        0\n",
       "cities_count            0\n",
       "ratio_urban_people      0\n",
       "avg_salary              0\n",
       "unemp_rate_95           1\n",
       "unemp_rate_96           0\n",
       "enterp_per1000          0\n",
       "crime_count_95          1\n",
       "crime_count_96          0\n",
       "dtype: int64"
      ]
     },
     "execution_count": 10,
     "metadata": {},
     "output_type": "execute_result"
    }
   ],
   "source": [
    "district_df.isnull().sum()"
   ]
  },
  {
   "cell_type": "markdown",
   "id": "084e11df-26df-49a7-a1f4-026583d82d2d",
   "metadata": {},
   "source": [
    "There is 1 NULL value in _unemploymant rate '95_ and _no. of commited crimes '95_."
   ]
  },
  {
   "cell_type": "code",
   "execution_count": 11,
   "id": "87403005-e4f4-4d29-ae90-c0babda45d08",
   "metadata": {},
   "outputs": [
    {
     "data": {
      "text/html": [
       "<div>\n",
       "<style scoped>\n",
       "    .dataframe tbody tr th:only-of-type {\n",
       "        vertical-align: middle;\n",
       "    }\n",
       "\n",
       "    .dataframe tbody tr th {\n",
       "        vertical-align: top;\n",
       "    }\n",
       "\n",
       "    .dataframe thead th {\n",
       "        text-align: right;\n",
       "    }\n",
       "</style>\n",
       "<table border=\"1\" class=\"dataframe\">\n",
       "  <thead>\n",
       "    <tr style=\"text-align: right;\">\n",
       "      <th></th>\n",
       "      <th>code</th>\n",
       "      <th>name</th>\n",
       "      <th>region</th>\n",
       "      <th>people_count</th>\n",
       "      <th>muni_499_count</th>\n",
       "      <th>muni_500-1999_count</th>\n",
       "      <th>muni_2000-9999_count</th>\n",
       "      <th>muni_10000_count</th>\n",
       "      <th>cities_count</th>\n",
       "      <th>ratio_urban_people</th>\n",
       "      <th>avg_salary</th>\n",
       "      <th>unemp_rate_95</th>\n",
       "      <th>unemp_rate_96</th>\n",
       "      <th>enterp_per1000</th>\n",
       "      <th>crime_count_95</th>\n",
       "      <th>crime_count_96</th>\n",
       "    </tr>\n",
       "  </thead>\n",
       "  <tbody>\n",
       "    <tr>\n",
       "      <th>68</th>\n",
       "      <td>69</td>\n",
       "      <td>Jesenik</td>\n",
       "      <td>north Moravia</td>\n",
       "      <td>42821</td>\n",
       "      <td>4</td>\n",
       "      <td>13</td>\n",
       "      <td>5</td>\n",
       "      <td>1</td>\n",
       "      <td>3</td>\n",
       "      <td>48.4</td>\n",
       "      <td>8173</td>\n",
       "      <td>NaN</td>\n",
       "      <td>7.01</td>\n",
       "      <td>124</td>\n",
       "      <td>NaN</td>\n",
       "      <td>1358</td>\n",
       "    </tr>\n",
       "  </tbody>\n",
       "</table>\n",
       "</div>"
      ],
      "text/plain": [
       "    code     name         region  people_count  muni_499_count  \\\n",
       "68    69  Jesenik  north Moravia         42821               4   \n",
       "\n",
       "    muni_500-1999_count  muni_2000-9999_count  muni_10000_count  cities_count  \\\n",
       "68                   13                     5                 1             3   \n",
       "\n",
       "    ratio_urban_people  avg_salary  unemp_rate_95  unemp_rate_96  \\\n",
       "68                48.4        8173            NaN           7.01   \n",
       "\n",
       "    enterp_per1000  crime_count_95  crime_count_96  \n",
       "68             124             NaN            1358  "
      ]
     },
     "execution_count": 11,
     "metadata": {},
     "output_type": "execute_result"
    }
   ],
   "source": [
    "district_df[district_df[\"unemp_rate_95\"].isnull()]"
   ]
  },
  {
   "cell_type": "markdown",
   "id": "d62e7255-45c3-4f7c-b033-10c844e14de4",
   "metadata": {},
   "source": [
    "Both of these missing value are for the district of _Jesenik_. We can find the mean growth/shrinkage of the unemploymant and number of crimes commit from 1995 to 1996, and use that to fill the missing values of 1995 for this district."
   ]
  },
  {
   "cell_type": "code",
   "execution_count": 12,
   "id": "a08bf2fc-6c2c-4920-8779-647069f6b68d",
   "metadata": {},
   "outputs": [],
   "source": [
    "unem_rate_95 = district_df[district_df[\"unemp_rate_95\"].notnull()][\"unemp_rate_95\"]\n",
    "unem_rate_96 = district_df[district_df[\"unemp_rate_96\"].notnull()][\"unemp_rate_96\"]\n",
    "\n",
    "unem_growth_series = unem_rate_95 / unem_rate_96\n",
    "unem_growth = unem_growth_series.sum() / unem_growth_series.count()\n",
    "\n",
    "district_df[\"unemp_rate_95\"] = district_df.apply(lambda x: x[\"unemp_rate_96\"] * unem_growth if np.isnan(x[\"unemp_rate_95\"]) else x[\"unemp_rate_95\"], axis=1)"
   ]
  },
  {
   "cell_type": "code",
   "execution_count": 13,
   "id": "e4d38868-4502-4b93-b300-d4738d0b217e",
   "metadata": {},
   "outputs": [],
   "source": [
    "no_crime_95 = district_df[district_df[\"crime_count_95\"].notnull()][\"crime_count_95\"]\n",
    "no_crime_96 = district_df[district_df[\"crime_count_96\"].notnull()][\"crime_count_96\"]\n",
    "\n",
    "crime_growth_series = no_crime_95 / no_crime_96\n",
    "crime_growth = crime_growth_series.sum() / crime_growth_series.count()\n",
    "\n",
    "district_df[\"crime_count_95\"] = district_df.apply(lambda x: x[\"crime_count_96\"] * crime_growth if np.isnan(x[\"crime_count_95\"]) else x[\"crime_count_95\"], axis=1)"
   ]
  },
  {
   "cell_type": "code",
   "execution_count": 14,
   "id": "4e31c312-9671-4c07-91a3-e61574c5d5a5",
   "metadata": {},
   "outputs": [
    {
     "data": {
      "text/html": [
       "<div>\n",
       "<style scoped>\n",
       "    .dataframe tbody tr th:only-of-type {\n",
       "        vertical-align: middle;\n",
       "    }\n",
       "\n",
       "    .dataframe tbody tr th {\n",
       "        vertical-align: top;\n",
       "    }\n",
       "\n",
       "    .dataframe thead th {\n",
       "        text-align: right;\n",
       "    }\n",
       "</style>\n",
       "<table border=\"1\" class=\"dataframe\">\n",
       "  <thead>\n",
       "    <tr style=\"text-align: right;\">\n",
       "      <th></th>\n",
       "      <th>code</th>\n",
       "      <th>name</th>\n",
       "      <th>region</th>\n",
       "      <th>people_count</th>\n",
       "      <th>muni_499_count</th>\n",
       "      <th>muni_500-1999_count</th>\n",
       "      <th>muni_2000-9999_count</th>\n",
       "      <th>muni_10000_count</th>\n",
       "      <th>cities_count</th>\n",
       "      <th>ratio_urban_people</th>\n",
       "      <th>avg_salary</th>\n",
       "      <th>unemp_rate_95</th>\n",
       "      <th>unemp_rate_96</th>\n",
       "      <th>enterp_per1000</th>\n",
       "      <th>crime_count_95</th>\n",
       "      <th>crime_count_96</th>\n",
       "    </tr>\n",
       "  </thead>\n",
       "  <tbody>\n",
       "    <tr>\n",
       "      <th>68</th>\n",
       "      <td>69</td>\n",
       "      <td>Jesenik</td>\n",
       "      <td>north Moravia</td>\n",
       "      <td>42821</td>\n",
       "      <td>4</td>\n",
       "      <td>13</td>\n",
       "      <td>5</td>\n",
       "      <td>1</td>\n",
       "      <td>3</td>\n",
       "      <td>48.4</td>\n",
       "      <td>8173</td>\n",
       "      <td>5.759683</td>\n",
       "      <td>7.01</td>\n",
       "      <td>124</td>\n",
       "      <td>1321.520511</td>\n",
       "      <td>1358</td>\n",
       "    </tr>\n",
       "  </tbody>\n",
       "</table>\n",
       "</div>"
      ],
      "text/plain": [
       "    code     name         region  people_count  muni_499_count  \\\n",
       "68    69  Jesenik  north Moravia         42821               4   \n",
       "\n",
       "    muni_500-1999_count  muni_2000-9999_count  muni_10000_count  cities_count  \\\n",
       "68                   13                     5                 1             3   \n",
       "\n",
       "    ratio_urban_people  avg_salary  unemp_rate_95  unemp_rate_96  \\\n",
       "68                48.4        8173       5.759683           7.01   \n",
       "\n",
       "    enterp_per1000  crime_count_95  crime_count_96  \n",
       "68             124     1321.520511            1358  "
      ]
     },
     "execution_count": 14,
     "metadata": {},
     "output_type": "execute_result"
    }
   ],
   "source": [
    "district_df[district_df[\"code\"] == 69]"
   ]
  },
  {
   "cell_type": "markdown",
   "id": "2f2c6a67-88a5-4308-9594-21b81975a45a",
   "metadata": {},
   "source": [
    "The missing values have been taken care of."
   ]
  },
  {
   "cell_type": "markdown",
   "id": "5ffa40b2-a9e6-4f81-a673-fb1bac59ef43",
   "metadata": {
    "tags": []
   },
   "source": [
    "### Loan data"
   ]
  },
  {
   "cell_type": "code",
   "execution_count": 15,
   "id": "4109f580-0121-4591-b87f-30cca485757d",
   "metadata": {},
   "outputs": [
    {
     "data": {
      "text/plain": [
       "loan_id       0\n",
       "account_id    0\n",
       "date          0\n",
       "amount        0\n",
       "duration      0\n",
       "payments      0\n",
       "status        0\n",
       "dtype: int64"
      ]
     },
     "execution_count": 15,
     "metadata": {},
     "output_type": "execute_result"
    }
   ],
   "source": [
    "loan_df.isnull().sum()"
   ]
  },
  {
   "cell_type": "markdown",
   "id": "fc48614a-d79c-4242-b024-fb41afac4cae",
   "metadata": {},
   "source": [
    "There are no NULL values to fill on this dataframe."
   ]
  },
  {
   "cell_type": "code",
   "execution_count": 16,
   "id": "5823faba-e7a1-4704-bd9b-89a7d2752a7a",
   "metadata": {},
   "outputs": [
    {
     "data": {
      "text/plain": [
       "loan_id         0\n",
       "account_id      0\n",
       "date            0\n",
       "amount          0\n",
       "duration        0\n",
       "payments        0\n",
       "status        354\n",
       "dtype: int64"
      ]
     },
     "execution_count": 16,
     "metadata": {},
     "output_type": "execute_result"
    }
   ],
   "source": [
    "loan_test_df.isnull().sum()"
   ]
  },
  {
   "cell_type": "markdown",
   "id": "4f4de71d-2b3e-47a0-a5f7-c50c080cbf7f",
   "metadata": {},
   "source": [
    "These missing values (_status_) don't matter as they are the targets of our prediction model."
   ]
  },
  {
   "cell_type": "markdown",
   "id": "807ebd15-5c0d-40bd-a616-9632e8279cc3",
   "metadata": {
    "tags": []
   },
   "source": [
    "### Transaction data"
   ]
  },
  {
   "cell_type": "code",
   "execution_count": 17,
   "id": "fdf98054-aebe-4f59-85b4-d2411b77e9ed",
   "metadata": {},
   "outputs": [
    {
     "data": {
      "text/plain": [
       "trans_id           0\n",
       "account_id         0\n",
       "date               0\n",
       "type               0\n",
       "operation      70761\n",
       "amount             0\n",
       "balance            0\n",
       "k_symbol      185244\n",
       "bank          299443\n",
       "account       294456\n",
       "dtype: int64"
      ]
     },
     "execution_count": 17,
     "metadata": {},
     "output_type": "execute_result"
    }
   ],
   "source": [
    "trans_df.isnull().sum()"
   ]
  },
  {
   "cell_type": "code",
   "execution_count": 18,
   "id": "2c26ac21-f57e-4c77-b9c7-3eed0aaec29e",
   "metadata": {},
   "outputs": [
    {
     "data": {
      "text/plain": [
       "trans_id          0\n",
       "account_id        0\n",
       "date              0\n",
       "type              0\n",
       "operation      5130\n",
       "amount            0\n",
       "balance           0\n",
       "k_symbol      17419\n",
       "bank          24377\n",
       "account       21061\n",
       "dtype: int64"
      ]
     },
     "execution_count": 18,
     "metadata": {},
     "output_type": "execute_result"
    }
   ],
   "source": [
    "trans_test_df.isnull().sum()"
   ]
  },
  {
   "cell_type": "markdown",
   "id": "c40fccbe-a082-4a23-a40d-c1f0d499a02c",
   "metadata": {},
   "source": [
    "There are 4 attributes with a large quantity of null values on this dataframe that have to dealt with: _operation_, _k\\_symbol_, _bank_, and _account_."
   ]
  },
  {
   "cell_type": "code",
   "execution_count": 19,
   "id": "765003cf-8c01-4644-8a18-617b551341c7",
   "metadata": {},
   "outputs": [
    {
     "data": {
      "text/plain": [
       "withdrawal in cash              165270\n",
       "remittance to another bank       70737\n",
       "credit in cash                   62202\n",
       "collection from another bank     26505\n",
       "credit card withdrawal            1210\n",
       "Name: operation, dtype: int64"
      ]
     },
     "execution_count": 19,
     "metadata": {},
     "output_type": "execute_result"
    }
   ],
   "source": [
    "trans_df['operation'].value_counts()"
   ]
  },
  {
   "cell_type": "code",
   "execution_count": 20,
   "id": "fae4b494-50c6-454a-a9d1-9c71bfa2d03d",
   "metadata": {},
   "outputs": [
    {
     "data": {
      "text/plain": [
       "17.838083113805663"
      ]
     },
     "execution_count": 20,
     "metadata": {},
     "output_type": "execute_result"
    }
   ],
   "source": [
    "len(trans_df[trans_df['operation'].isnull()]) / len(trans_df['operation']) * 100.0"
   ]
  },
  {
   "cell_type": "markdown",
   "id": "5948044f-e9f6-4726-b530-a6c21c943670",
   "metadata": {},
   "source": [
    "The _operation_ attribute is categorical and doesn't reveal an inherited order. It can be enconded with 3 attributes using binary encoding.\n",
    "\n",
    "This attribute is problematic because it contains a significant number of NULL values ($17.8\\%$).\n",
    "\n",
    "It was decided that these rows will be filled with _unkown_."
   ]
  },
  {
   "cell_type": "code",
   "execution_count": 21,
   "id": "6b9b3418-2631-4777-a435-855d454a7258",
   "metadata": {},
   "outputs": [],
   "source": [
    "trans_df['operation'].fillna('unknown', inplace=True)\n",
    "\n",
    "trans_test_df['operation'].fillna('unknown', inplace=True)"
   ]
  },
  {
   "cell_type": "code",
   "execution_count": 22,
   "id": "7d6ebf82-8c94-420b-afe5-c9a074bce02c",
   "metadata": {},
   "outputs": [
    {
     "data": {
      "text/plain": [
       "interest credited                        70761\n",
       "payment for statement                    58377\n",
       "household                                42839\n",
       "                                         19065\n",
       "old-age pension                          13502\n",
       "insurrance payment                        6592\n",
       "sanction interest if negative balance      305\n",
       "Name: k_symbol, dtype: int64"
      ]
     },
     "execution_count": 22,
     "metadata": {},
     "output_type": "execute_result"
    }
   ],
   "source": [
    "trans_df['k_symbol'].value_counts()"
   ]
  },
  {
   "cell_type": "markdown",
   "id": "98acf1c5-c199-457b-9e7b-3882f83e6ba9",
   "metadata": {},
   "source": [
    "There is a category that is an empty string. It is likelly that the missing values were intended to be part of this category aswell. It is assumed that these rows with the _empty_ category refer to common transactions that aren't related to pensions, insurrance, etc... The missing values and the empty rows of this attribute will be renamed to _no_symbol_."
   ]
  },
  {
   "cell_type": "code",
   "execution_count": 23,
   "id": "4ff5631a-ebea-4e33-aac0-1fb5708f526b",
   "metadata": {},
   "outputs": [
    {
     "data": {
      "text/plain": [
       "no_symbol                                204309\n",
       "interest credited                         70761\n",
       "payment for statement                     58377\n",
       "household                                 42839\n",
       "old-age pension                           13502\n",
       "insurrance payment                         6592\n",
       "sanction interest if negative balance       305\n",
       "Name: k_symbol, dtype: int64"
      ]
     },
     "execution_count": 23,
     "metadata": {},
     "output_type": "execute_result"
    }
   ],
   "source": [
    "def treat_null_k_symbol(row):\n",
    "    k_symb = row['k_symbol']\n",
    "    if isinstance(k_symb, float):\n",
    "        return 'no_symbol'\n",
    "    elif k_symb == \" \":\n",
    "        return 'no_symbol'\n",
    "    else:\n",
    "        return k_symb\n",
    "    \n",
    "\n",
    "trans_df['k_symbol'] = trans_df.apply(treat_null_k_symbol, axis=1)\n",
    "trans_test_df['k_symbol'] = trans_test_df.apply(treat_null_k_symbol, axis=1)\n",
    "\n",
    "trans_df['k_symbol'].value_counts()"
   ]
  },
  {
   "cell_type": "markdown",
   "id": "6378f64c-251a-430c-872d-c217990fef9d",
   "metadata": {},
   "source": [
    "There many rows where we don't know which is the bank of the partner."
   ]
  },
  {
   "cell_type": "code",
   "execution_count": 24,
   "id": "0668198b-8645-4e81-96d0-95595ac63393",
   "metadata": {},
   "outputs": [
    {
     "data": {
      "text/plain": [
       "ST    8114\n",
       "GH    7886\n",
       "EF    7878\n",
       "AB    7666\n",
       "UV    7618\n",
       "OP    7595\n",
       "IJ    7536\n",
       "YZ    7471\n",
       "QR    7413\n",
       "KL    7397\n",
       "WX    7033\n",
       "CD    7009\n",
       "MN    6626\n",
       "Name: bank, dtype: int64"
      ]
     },
     "execution_count": 24,
     "metadata": {},
     "output_type": "execute_result"
    }
   ],
   "source": [
    "trans_df['bank'].value_counts()"
   ]
  },
  {
   "cell_type": "code",
   "execution_count": 25,
   "id": "fd07a96b-9880-4fd9-9cb1-d22124921b43",
   "metadata": {},
   "outputs": [
    {
     "data": {
      "text/plain": [
       "0.0           4987\n",
       "15916598.0      48\n",
       "62457513.0      48\n",
       "6149286.0       48\n",
       "42988401.0      48\n",
       "              ... \n",
       "99218499.0       1\n",
       "54261672.0       1\n",
       "28306174.0       1\n",
       "91523855.0       1\n",
       "53761804.0       1\n",
       "Name: account, Length: 4536, dtype: int64"
      ]
     },
     "execution_count": 25,
     "metadata": {},
     "output_type": "execute_result"
    }
   ],
   "source": [
    "trans_df['account'].value_counts()"
   ]
  },
  {
   "cell_type": "markdown",
   "id": "16f46b92-664c-4cbf-8a86-6895bd3af710",
   "metadata": {},
   "source": [
    "The unknown information about the partner's bank tranlates to unkown information about the partner. This is sometimes represented by a **0** on the _account_ attribute."
   ]
  },
  {
   "cell_type": "code",
   "execution_count": 26,
   "id": "6f6811ef-e7d6-45ad-82a2-55ee7be836bd",
   "metadata": {},
   "outputs": [
    {
     "name": "stdout",
     "output_type": "stream",
     "text": [
      "Number of unknown banks: 299443\n",
      "Number of unknown partners: 299443\n"
     ]
    }
   ],
   "source": [
    "print(\"Number of unknown banks:\", len(trans_df[trans_df['bank'].isnull()]))\n",
    "print(\"Number of unknown partners:\", len(trans_df[trans_df['account'].isnull()]) + len(trans_df[trans_df['account'] == 0]))"
   ]
  },
  {
   "cell_type": "markdown",
   "id": "b521bdda-89ab-487c-8079-85eccc4f17a3",
   "metadata": {},
   "source": [
    "The number of unknown banks is the same as the number of unkown partners => these 2 features are highly correlated. Even though these 2 attributes aren't likelly to contribute anything to our dataset, we can create an **'unknown' bank** and set all unkown _account_ attributes to 0."
   ]
  },
  {
   "cell_type": "code",
   "execution_count": 27,
   "id": "cd4b53e1-a93f-4f67-acd0-dd3c22a535ab",
   "metadata": {},
   "outputs": [
    {
     "data": {
      "text/html": [
       "<div>\n",
       "<style scoped>\n",
       "    .dataframe tbody tr th:only-of-type {\n",
       "        vertical-align: middle;\n",
       "    }\n",
       "\n",
       "    .dataframe tbody tr th {\n",
       "        vertical-align: top;\n",
       "    }\n",
       "\n",
       "    .dataframe thead th {\n",
       "        text-align: right;\n",
       "    }\n",
       "</style>\n",
       "<table border=\"1\" class=\"dataframe\">\n",
       "  <thead>\n",
       "    <tr style=\"text-align: right;\">\n",
       "      <th></th>\n",
       "      <th>trans_id</th>\n",
       "      <th>account_id</th>\n",
       "      <th>date</th>\n",
       "      <th>type</th>\n",
       "      <th>operation</th>\n",
       "      <th>amount</th>\n",
       "      <th>balance</th>\n",
       "      <th>k_symbol</th>\n",
       "      <th>bank</th>\n",
       "      <th>account</th>\n",
       "    </tr>\n",
       "  </thead>\n",
       "  <tbody>\n",
       "    <tr>\n",
       "      <th>0</th>\n",
       "      <td>1548749</td>\n",
       "      <td>5270</td>\n",
       "      <td>930113</td>\n",
       "      <td>credit</td>\n",
       "      <td>credit in cash</td>\n",
       "      <td>800.0</td>\n",
       "      <td>800.0</td>\n",
       "      <td>no_symbol</td>\n",
       "      <td>unknown</td>\n",
       "      <td>0.0</td>\n",
       "    </tr>\n",
       "    <tr>\n",
       "      <th>1</th>\n",
       "      <td>1548750</td>\n",
       "      <td>5270</td>\n",
       "      <td>930114</td>\n",
       "      <td>credit</td>\n",
       "      <td>collection from another bank</td>\n",
       "      <td>44749.0</td>\n",
       "      <td>45549.0</td>\n",
       "      <td>no_symbol</td>\n",
       "      <td>IJ</td>\n",
       "      <td>80269753.0</td>\n",
       "    </tr>\n",
       "    <tr>\n",
       "      <th>2</th>\n",
       "      <td>3393738</td>\n",
       "      <td>11265</td>\n",
       "      <td>930114</td>\n",
       "      <td>credit</td>\n",
       "      <td>credit in cash</td>\n",
       "      <td>1000.0</td>\n",
       "      <td>1000.0</td>\n",
       "      <td>no_symbol</td>\n",
       "      <td>unknown</td>\n",
       "      <td>0.0</td>\n",
       "    </tr>\n",
       "    <tr>\n",
       "      <th>3</th>\n",
       "      <td>3122924</td>\n",
       "      <td>10364</td>\n",
       "      <td>930117</td>\n",
       "      <td>credit</td>\n",
       "      <td>credit in cash</td>\n",
       "      <td>1100.0</td>\n",
       "      <td>1100.0</td>\n",
       "      <td>no_symbol</td>\n",
       "      <td>unknown</td>\n",
       "      <td>0.0</td>\n",
       "    </tr>\n",
       "    <tr>\n",
       "      <th>4</th>\n",
       "      <td>1121963</td>\n",
       "      <td>3834</td>\n",
       "      <td>930119</td>\n",
       "      <td>credit</td>\n",
       "      <td>credit in cash</td>\n",
       "      <td>700.0</td>\n",
       "      <td>700.0</td>\n",
       "      <td>no_symbol</td>\n",
       "      <td>unknown</td>\n",
       "      <td>0.0</td>\n",
       "    </tr>\n",
       "  </tbody>\n",
       "</table>\n",
       "</div>"
      ],
      "text/plain": [
       "   trans_id  account_id    date    type                     operation  \\\n",
       "0   1548749        5270  930113  credit                credit in cash   \n",
       "1   1548750        5270  930114  credit  collection from another bank   \n",
       "2   3393738       11265  930114  credit                credit in cash   \n",
       "3   3122924       10364  930117  credit                credit in cash   \n",
       "4   1121963        3834  930119  credit                credit in cash   \n",
       "\n",
       "    amount  balance   k_symbol     bank     account  \n",
       "0    800.0    800.0  no_symbol  unknown         0.0  \n",
       "1  44749.0  45549.0  no_symbol       IJ  80269753.0  \n",
       "2   1000.0   1000.0  no_symbol  unknown         0.0  \n",
       "3   1100.0   1100.0  no_symbol  unknown         0.0  \n",
       "4    700.0    700.0  no_symbol  unknown         0.0  "
      ]
     },
     "execution_count": 27,
     "metadata": {},
     "output_type": "execute_result"
    }
   ],
   "source": [
    "trans_df['account'].fillna(0, inplace=True)\n",
    "trans_df['bank'].fillna(\"unknown\", inplace=True)\n",
    "\n",
    "trans_test_df['account'].fillna(0, inplace=True)\n",
    "trans_test_df['bank'].fillna(\"unknown\", inplace=True)\n",
    "\n",
    "trans_df.head()"
   ]
  },
  {
   "cell_type": "markdown",
   "id": "b2eee731-e02a-4747-9f1c-76512af0eea5",
   "metadata": {
    "tags": []
   },
   "source": [
    "## Feature selection"
   ]
  },
  {
   "cell_type": "code",
   "execution_count": 28,
   "id": "be2f76b1-1400-4866-ac5f-26fbcf8d8bfa",
   "metadata": {},
   "outputs": [],
   "source": [
    "def parseYear(x):\n",
    "    return x // 10000\n",
    "\n",
    "def parseMonth(x):\n",
    "    return x // 100 % 100\n",
    "\n",
    "def parseDay(x):\n",
    "    return x % 100"
   ]
  },
  {
   "cell_type": "markdown",
   "id": "f4d858df-90d6-44ff-b147-d15156a06caf",
   "metadata": {
    "tags": []
   },
   "source": [
    "### Client"
   ]
  },
  {
   "cell_type": "markdown",
   "id": "48827c39-4e06-4fe8-b145-704e8ceb85d2",
   "metadata": {},
   "source": [
    "#### Work with client's birth_number"
   ]
  },
  {
   "cell_type": "markdown",
   "id": "b1994c8b-9188-4054-acff-a7e10aba3529",
   "metadata": {},
   "source": [
    "From this attribute we can extract the client's date of birth and gender."
   ]
  },
  {
   "cell_type": "code",
   "execution_count": 29,
   "id": "8f64587c-87be-4649-9c69-80afb786c052",
   "metadata": {},
   "outputs": [],
   "source": [
    "def identify_gender(row):\n",
    "    birth = row['birth_number']\n",
    "    month = (birth // 100) % 100\n",
    "    return False if month > 12 else True\n",
    "\n",
    "# create a new gender column\n",
    "client_df['is_male'] = client_df.apply(identify_gender, axis=1)"
   ]
  },
  {
   "cell_type": "markdown",
   "id": "d6db0c06-c8f5-4327-8150-835587d3a083",
   "metadata": {},
   "source": [
    "From the date of birth, we can derive the client's age."
   ]
  },
  {
   "cell_type": "code",
   "execution_count": 30,
   "id": "84d23a8a-58ec-4189-9db5-70c2b6a7bd88",
   "metadata": {},
   "outputs": [],
   "source": [
    "def identify_year(row):\n",
    "    birth = row['birth_number']\n",
    "    year = birth // 10000\n",
    "    return year\n",
    "\n",
    "# create a new age column with client's age in year\n",
    "# dataset is from 99\n",
    "client_df['age'] = 99 - client_df.apply(identify_year, axis=1)"
   ]
  },
  {
   "cell_type": "code",
   "execution_count": 31,
   "id": "ae0c7af2-3e97-41bc-bdda-3937886741cd",
   "metadata": {},
   "outputs": [],
   "source": [
    "client_df.drop(['birth_number'], axis=1, inplace=True)"
   ]
  },
  {
   "cell_type": "markdown",
   "id": "69c53274-566d-4231-94ff-e07aa69ff878",
   "metadata": {
    "tags": []
   },
   "source": [
    "#### Discretize client ages"
   ]
  },
  {
   "cell_type": "code",
   "execution_count": 32,
   "id": "af696cfd-0b1a-475e-95b3-ec1583f53eef",
   "metadata": {
    "tags": []
   },
   "outputs": [
    {
     "data": {
      "text/plain": [
       "0       20-29\n",
       "1       50-65\n",
       "2       50-65\n",
       "3       40-49\n",
       "4       30-39\n",
       "        ...  \n",
       "5364    50-65\n",
       "5365    50-65\n",
       "5366    30-39\n",
       "5367    30-39\n",
       "5368    40-49\n",
       "Name: age, Length: 5369, dtype: category\n",
       "Categories (6, object): ['0-19' < '20-29' < '30-39' < '40-49' < '50-65' < 'retired']"
      ]
     },
     "execution_count": 32,
     "metadata": {},
     "output_type": "execute_result"
    }
   ],
   "source": [
    "# discretize ages\n",
    "age_bins=[0, 20, 29, 39, 49, 66, 150]\n",
    "labels=['0-19', '20-29', '30-39', '40-49', '50-65', 'retired']\n",
    "client_df['age'] = pd.cut(x=client_df['age'], bins=age_bins, labels=labels)\n",
    "\n",
    "client_df['age']"
   ]
  },
  {
   "cell_type": "markdown",
   "id": "6259b56c-2d19-41a2-8241-6108b66cfd37",
   "metadata": {},
   "source": [
    "### Loan"
   ]
  },
  {
   "cell_type": "markdown",
   "id": "14644dcf-208e-4471-addb-6086a37dc6f2",
   "metadata": {
    "tags": []
   },
   "source": [
    "#### Loan date"
   ]
  },
  {
   "cell_type": "markdown",
   "id": "988dd0f8-912a-4738-aae6-d0c7e7f6d53f",
   "metadata": {},
   "source": [
    "Separa the loan date into a month and year, so it can be explored later: maybe more loans are granted during winter or summer time."
   ]
  },
  {
   "cell_type": "code",
   "execution_count": 33,
   "id": "df2516d4",
   "metadata": {},
   "outputs": [],
   "source": [
    "# separate the loan date into loan year and loan month\n",
    "def loan_ym(loan_df):\n",
    "    loan_df['year_loan'] = loan_df['date'].apply(parseYear)\n",
    "    loan_df['month_loan'] = loan_df['date'].apply(parseMonth)\n",
    "    \n",
    "loan_ym(loan_df)\n",
    "loan_ym(loan_test_df)"
   ]
  },
  {
   "cell_type": "markdown",
   "id": "e043550b-bd36-4ac0-91d6-a53dc0d90e51",
   "metadata": {},
   "source": [
    "### Transaction"
   ]
  },
  {
   "cell_type": "markdown",
   "id": "bd347f10-b606-4c99-b41d-682abba5878e",
   "metadata": {
    "tags": []
   },
   "source": [
    "#### Apply transaction types to the transaction amount"
   ]
  },
  {
   "cell_type": "markdown",
   "id": "3c13a57d-5b42-4dc7-af8a-a953c3e2bfe3",
   "metadata": {},
   "source": [
    "Withdrawls imply a negative balance change on the account's funds."
   ]
  },
  {
   "cell_type": "code",
   "execution_count": 34,
   "id": "8e44cc3c-9506-4ec0-b288-41837127f13e",
   "metadata": {},
   "outputs": [],
   "source": [
    "def convert_amount(row):\n",
    "    ammount = abs(row['amount'])\n",
    "    # else are withdrawls\n",
    "    return ammount if row['type'] == \"credit\" else -ammount\n",
    "\n",
    "# convert ammount to negative according to transaction type\n",
    "trans_df['amount'] = trans_df.apply(convert_amount, axis=1)\n",
    "trans_test_df['amount'] = trans_test_df.apply(convert_amount, axis=1)"
   ]
  },
  {
   "cell_type": "markdown",
   "id": "0614d6f7-9fd7-42f4-8972-2d9b6516f881",
   "metadata": {
    "tags": []
   },
   "source": [
    "### District"
   ]
  },
  {
   "cell_type": "code",
   "execution_count": 35,
   "id": "24b19245-f413-43df-b286-94e13cf28852",
   "metadata": {},
   "outputs": [
    {
     "data": {
      "text/plain": [
       "<seaborn.axisgrid.PairGrid at 0x7f439d84dd00>"
      ]
     },
     "execution_count": 35,
     "metadata": {},
     "output_type": "execute_result"
    },
    {
     "data": {
      "image/png": "[encoded data removed]",
      "text/plain": [
       "<Figure size 2520x2520 with 210 Axes>"
      ]
     },
     "metadata": {
      "needs_background": "light"
     },
     "output_type": "display_data"
    }
   ],
   "source": [
    "sb.pairplot(district_df)"
   ]
  },
  {
   "cell_type": "markdown",
   "id": "2e1189c6-073d-4aa7-8864-bafcece8e358",
   "metadata": {
    "tags": []
   },
   "source": [
    "#### Unemployment rate"
   ]
  },
  {
   "cell_type": "code",
   "execution_count": 36,
   "id": "621d5208-b497-449a-a87e-1dfd979a9077",
   "metadata": {},
   "outputs": [
    {
     "data": {
      "text/plain": [
       "<AxesSubplot:xlabel='unemp_rate_95', ylabel='unemp_rate_96'>"
      ]
     },
     "execution_count": 36,
     "metadata": {},
     "output_type": "execute_result"
    },
    {
     "data": {
      "image/png": "[encoded data removed]",
      "text/plain": [
       "<Figure size 432x288 with 1 Axes>"
      ]
     },
     "metadata": {
      "needs_background": "light"
     },
     "output_type": "display_data"
    }
   ],
   "source": [
    "sb.scatterplot(x=district_df[\"unemp_rate_95\"], y=district_df[\"unemp_rate_96\"])"
   ]
  },
  {
   "cell_type": "markdown",
   "id": "297f7d1e-d739-4157-afaa-b835504b9d3c",
   "metadata": {},
   "source": [
    "The relation between the unemployment rated in 1995 and 1996 in nearlly linear (with few outliers from the trend).\n",
    "\n",
    "From these two, we could drop the most recent (1996), as it is less likely to affect the loan decisions. This is because the decisions on loans were taken considering only data relative to before the loan was conceded.\n",
    "\n",
    "We decided that this 2 attributes could be joined into a single one, _unem_growth_, representing the growth of the unemployment rate."
   ]
  },
  {
   "cell_type": "code",
   "execution_count": 37,
   "id": "0331fd68-9ce2-4701-ad6b-060456faa6f0",
   "metadata": {},
   "outputs": [
    {
     "data": {
      "image/png": "[encoded data removed]",
      "text/plain": [
       "<Figure size 432x288 with 1 Axes>"
      ]
     },
     "metadata": {
      "needs_background": "light"
     },
     "output_type": "display_data"
    }
   ],
   "source": [
    "district_df[\"unem_growth\"] = (district_df[\"unemp_rate_96\"]/district_df[\"unemp_rate_95\"]) - 1.0\n",
    "\n",
    "sb.scatterplot(x=district_df[\"unemp_rate_95\"], y=district_df[\"unem_growth\"])\n",
    "district_df.drop([\"unemp_rate_95\", \"unemp_rate_96\"], axis=1, inplace=True)"
   ]
  },
  {
   "cell_type": "code",
   "execution_count": 38,
   "id": "1c6dd556-d5e5-4744-935f-fc14e3f06358",
   "metadata": {},
   "outputs": [
    {
     "data": {
      "text/plain": [
       "<seaborn.axisgrid.FacetGrid at 0x7f43a0941f70>"
      ]
     },
     "execution_count": 38,
     "metadata": {},
     "output_type": "execute_result"
    },
    {
     "data": {
      "image/png": "[encoded data removed]",
      "text/plain": [
       "<Figure size 360x360 with 1 Axes>"
      ]
     },
     "metadata": {
      "needs_background": "light"
     },
     "output_type": "display_data"
    }
   ],
   "source": [
    "sb.displot(district_df[\"unem_growth\"])"
   ]
  },
  {
   "cell_type": "markdown",
   "id": "0037b513-4eb5-4f92-882e-5cd805a9b505",
   "metadata": {},
   "source": [
    "#### Crime count"
   ]
  },
  {
   "cell_type": "code",
   "execution_count": 39,
   "id": "720f401c-d00f-4506-9699-7deb439e9063",
   "metadata": {},
   "outputs": [
    {
     "data": {
      "text/html": [
       "<div>\n",
       "<style scoped>\n",
       "    .dataframe tbody tr th:only-of-type {\n",
       "        vertical-align: middle;\n",
       "    }\n",
       "\n",
       "    .dataframe tbody tr th {\n",
       "        vertical-align: top;\n",
       "    }\n",
       "\n",
       "    .dataframe thead th {\n",
       "        text-align: right;\n",
       "    }\n",
       "</style>\n",
       "<table border=\"1\" class=\"dataframe\">\n",
       "  <thead>\n",
       "    <tr style=\"text-align: right;\">\n",
       "      <th></th>\n",
       "      <th>code</th>\n",
       "      <th>name</th>\n",
       "      <th>region</th>\n",
       "      <th>people_count</th>\n",
       "      <th>muni_499_count</th>\n",
       "      <th>muni_500-1999_count</th>\n",
       "      <th>muni_2000-9999_count</th>\n",
       "      <th>muni_10000_count</th>\n",
       "      <th>cities_count</th>\n",
       "      <th>ratio_urban_people</th>\n",
       "      <th>avg_salary</th>\n",
       "      <th>enterp_per1000</th>\n",
       "      <th>crime_count_95</th>\n",
       "      <th>crime_count_96</th>\n",
       "      <th>unem_growth</th>\n",
       "    </tr>\n",
       "  </thead>\n",
       "  <tbody>\n",
       "    <tr>\n",
       "      <th>0</th>\n",
       "      <td>1</td>\n",
       "      <td>Hl.m. Praha</td>\n",
       "      <td>Prague</td>\n",
       "      <td>1204953</td>\n",
       "      <td>0</td>\n",
       "      <td>0</td>\n",
       "      <td>0</td>\n",
       "      <td>1</td>\n",
       "      <td>1</td>\n",
       "      <td>100.0</td>\n",
       "      <td>12541</td>\n",
       "      <td>167</td>\n",
       "      <td>85677.0</td>\n",
       "      <td>99107</td>\n",
       "      <td>0.482759</td>\n",
       "    </tr>\n",
       "    <tr>\n",
       "      <th>53</th>\n",
       "      <td>54</td>\n",
       "      <td>Brno - mesto</td>\n",
       "      <td>south Moravia</td>\n",
       "      <td>387570</td>\n",
       "      <td>0</td>\n",
       "      <td>0</td>\n",
       "      <td>0</td>\n",
       "      <td>1</td>\n",
       "      <td>1</td>\n",
       "      <td>100.0</td>\n",
       "      <td>9897</td>\n",
       "      <td>140</td>\n",
       "      <td>18721.0</td>\n",
       "      <td>18696</td>\n",
       "      <td>0.225000</td>\n",
       "    </tr>\n",
       "    <tr>\n",
       "      <th>69</th>\n",
       "      <td>70</td>\n",
       "      <td>Karvina</td>\n",
       "      <td>north Moravia</td>\n",
       "      <td>285387</td>\n",
       "      <td>0</td>\n",
       "      <td>2</td>\n",
       "      <td>8</td>\n",
       "      <td>5</td>\n",
       "      <td>7</td>\n",
       "      <td>89.9</td>\n",
       "      <td>10177</td>\n",
       "      <td>81</td>\n",
       "      <td>9878.0</td>\n",
       "      <td>10108</td>\n",
       "      <td>0.168929</td>\n",
       "    </tr>\n",
       "    <tr>\n",
       "      <th>71</th>\n",
       "      <td>72</td>\n",
       "      <td>Olomouc</td>\n",
       "      <td>north Moravia</td>\n",
       "      <td>226122</td>\n",
       "      <td>32</td>\n",
       "      <td>50</td>\n",
       "      <td>7</td>\n",
       "      <td>4</td>\n",
       "      <td>4</td>\n",
       "      <td>62.6</td>\n",
       "      <td>8994</td>\n",
       "      <td>110</td>\n",
       "      <td>9672.0</td>\n",
       "      <td>9208</td>\n",
       "      <td>0.260526</td>\n",
       "    </tr>\n",
       "    <tr>\n",
       "      <th>73</th>\n",
       "      <td>74</td>\n",
       "      <td>Ostrava - mesto</td>\n",
       "      <td>north Moravia</td>\n",
       "      <td>323870</td>\n",
       "      <td>0</td>\n",
       "      <td>0</td>\n",
       "      <td>0</td>\n",
       "      <td>1</td>\n",
       "      <td>1</td>\n",
       "      <td>100.0</td>\n",
       "      <td>10673</td>\n",
       "      <td>100</td>\n",
       "      <td>18782.0</td>\n",
       "      <td>18347</td>\n",
       "      <td>0.145263</td>\n",
       "    </tr>\n",
       "  </tbody>\n",
       "</table>\n",
       "</div>"
      ],
      "text/plain": [
       "    code             name         region  people_count  muni_499_count  \\\n",
       "0      1      Hl.m. Praha         Prague       1204953               0   \n",
       "53    54     Brno - mesto  south Moravia        387570               0   \n",
       "69    70          Karvina  north Moravia        285387               0   \n",
       "71    72          Olomouc  north Moravia        226122              32   \n",
       "73    74  Ostrava - mesto  north Moravia        323870               0   \n",
       "\n",
       "    muni_500-1999_count  muni_2000-9999_count  muni_10000_count  cities_count  \\\n",
       "0                     0                     0                 1             1   \n",
       "53                    0                     0                 1             1   \n",
       "69                    2                     8                 5             7   \n",
       "71                   50                     7                 4             4   \n",
       "73                    0                     0                 1             1   \n",
       "\n",
       "    ratio_urban_people  avg_salary  enterp_per1000  crime_count_95  \\\n",
       "0                100.0       12541             167         85677.0   \n",
       "53               100.0        9897             140         18721.0   \n",
       "69                89.9       10177              81          9878.0   \n",
       "71                62.6        8994             110          9672.0   \n",
       "73               100.0       10673             100         18782.0   \n",
       "\n",
       "    crime_count_96  unem_growth  \n",
       "0            99107     0.482759  \n",
       "53           18696     0.225000  \n",
       "69           10108     0.168929  \n",
       "71            9208     0.260526  \n",
       "73           18347     0.145263  "
      ]
     },
     "execution_count": 39,
     "metadata": {},
     "output_type": "execute_result"
    },
    {
     "data": {
      "image/png": "[encoded data removed]",
      "text/plain": [
       "<Figure size 432x288 with 1 Axes>"
      ]
     },
     "metadata": {
      "needs_background": "light"
     },
     "output_type": "display_data"
    }
   ],
   "source": [
    "plt.scatter(district_df[\"crime_count_95\"], district_df[\"crime_count_96\"])\n",
    "\n",
    "district_df[district_df[\"crime_count_95\"] > 8000]"
   ]
  },
  {
   "cell_type": "markdown",
   "id": "c8411f79-acdd-4de5-ab1b-07e9041c1844",
   "metadata": {},
   "source": [
    "Although there is a big gap increase on the total number of crimes commited after 20000 crimes, from the plot, it can be concluded that there is a approximatelly linear correlation between the number of crimes commited in 1995 and 1996.\n",
    "\n",
    "There are 3 regions with a much higher number of commited crimes: Prague, south Moravia, north Moravia. Even in the case of these regions, the relation is almost linear."
   ]
  },
  {
   "cell_type": "code",
   "execution_count": 40,
   "id": "f4613fee-a986-4a25-b799-d4e24fa9636b",
   "metadata": {},
   "outputs": [
    {
     "data": {
      "text/plain": [
       "<matplotlib.collections.PathCollection at 0x7f43a0747520>"
      ]
     },
     "execution_count": 40,
     "metadata": {},
     "output_type": "execute_result"
    },
    {
     "data": {
      "image/png": "[encoded data removed]",
      "text/plain": [
       "<Figure size 432x288 with 1 Axes>"
      ]
     },
     "metadata": {
      "needs_background": "light"
     },
     "output_type": "display_data"
    }
   ],
   "source": [
    "plt.scatter(district_df[\"people_count\"], district_df[\"crime_count_95\"])\n",
    "plt.scatter(district_df[\"people_count\"], district_df[\"crime_count_96\"])"
   ]
  },
  {
   "cell_type": "code",
   "execution_count": 41,
   "id": "b87d430e-180b-494d-be1e-9b059d47f0d5",
   "metadata": {},
   "outputs": [
    {
     "data": {
      "text/plain": [
       "<matplotlib.collections.PathCollection at 0x7f43a06f37c0>"
      ]
     },
     "execution_count": 41,
     "metadata": {},
     "output_type": "execute_result"
    },
    {
     "data": {
      "image/png": "[encoded data removed]",
      "text/plain": [
       "<Figure size 432x288 with 1 Axes>"
      ]
     },
     "metadata": {
      "needs_background": "light"
     },
     "output_type": "display_data"
    }
   ],
   "source": [
    "tmp = district_df[district_df[\"crime_count_95\"] < 8000]\n",
    "plt.scatter(tmp[\"people_count\"], tmp[\"crime_count_95\"])\n",
    "\n",
    "tmp2 = district_df[district_df[\"crime_count_96\"] < 8000]\n",
    "plt.scatter(tmp2[\"people_count\"], tmp2[\"crime_count_96\"])"
   ]
  },
  {
   "cell_type": "markdown",
   "id": "a5d7a752-006e-47d1-94d1-bc2501298119",
   "metadata": {},
   "source": [
    "As expected, the higher the population, the more crimes are commited and this remains true for both years.\n",
    "\n",
    "This means that it isn't a very useful information in this form. We can convert both crime counts to crime commited per 1000 habitants and use that to calculate the _crime growth_."
   ]
  },
  {
   "cell_type": "code",
   "execution_count": 42,
   "id": "0b0d84ba-f12e-4c29-9248-446226e9992c",
   "metadata": {},
   "outputs": [],
   "source": [
    "crime_per1000_95 = district_df[\"crime_count_95\"] / (district_df[\"people_count\"] / 1000)\n",
    "crime_per1000_96 = district_df[\"crime_count_96\"] / (district_df[\"people_count\"] / 1000)\n",
    "\n",
    "district_df[\"crime_growth\"] = (crime_per1000_96/crime_per1000_95) - 1.0\n",
    "\n",
    "district_df.drop([\"crime_count_95\", \"crime_count_96\"], axis=1, inplace=True)"
   ]
  },
  {
   "cell_type": "code",
   "execution_count": 43,
   "id": "88cc72f3-a6ef-4bc8-94d2-e0058bdf097d",
   "metadata": {},
   "outputs": [
    {
     "data": {
      "text/plain": [
       "<matplotlib.collections.PathCollection at 0x7f43a0693460>"
      ]
     },
     "execution_count": 43,
     "metadata": {},
     "output_type": "execute_result"
    },
    {
     "data": {
      "image/png": "[encoded data removed]",
      "text/plain": [
       "<Figure size 432x288 with 1 Axes>"
      ]
     },
     "metadata": {
      "needs_background": "light"
     },
     "output_type": "display_data"
    }
   ],
   "source": [
    "plt.scatter(district_df[\"people_count\"], district_df[\"crime_growth\"])"
   ]
  },
  {
   "cell_type": "markdown",
   "id": "a2428d5d-d1d3-4d19-a8b8-788288a66d08",
   "metadata": {},
   "source": [
    "This new attribute, _crime\\_growth_, isn't directly related to the population size."
   ]
  },
  {
   "cell_type": "code",
   "execution_count": 44,
   "id": "336cc068-76a0-460a-8423-074743e7bd11",
   "metadata": {},
   "outputs": [
    {
     "data": {
      "text/plain": [
       "<seaborn.axisgrid.FacetGrid at 0x7f43a06d2070>"
      ]
     },
     "execution_count": 44,
     "metadata": {},
     "output_type": "execute_result"
    },
    {
     "data": {
      "image/png": "[encoded data removed]",
      "text/plain": [
       "<Figure size 360x360 with 1 Axes>"
      ]
     },
     "metadata": {
      "needs_background": "light"
     },
     "output_type": "display_data"
    }
   ],
   "source": [
    "sb.displot(district_df[\"crime_growth\"])"
   ]
  },
  {
   "cell_type": "markdown",
   "id": "1915c9c5-d300-433e-8774-25f98cbf93cb",
   "metadata": {},
   "source": [
    "#### Skewness"
   ]
  },
  {
   "cell_type": "markdown",
   "id": "e3fc94cd-bbc6-4dd5-9fae-c129deb6d25f",
   "metadata": {},
   "source": [
    "Some attributes are heavily _skewed_. To take care of this, we apply `np.log` to the attribute."
   ]
  },
  {
   "cell_type": "code",
   "execution_count": 45,
   "id": "8720d629-cccd-41d7-b3a9-418872fcca29",
   "metadata": {},
   "outputs": [
    {
     "data": {
      "text/plain": [
       "<seaborn.axisgrid.FacetGrid at 0x7f439eddc1c0>"
      ]
     },
     "execution_count": 45,
     "metadata": {},
     "output_type": "execute_result"
    },
    {
     "data": {
      "image/png": "[encoded data removed]",
      "text/plain": [
       "<Figure size 360x360 with 1 Axes>"
      ]
     },
     "metadata": {
      "needs_background": "light"
     },
     "output_type": "display_data"
    },
    {
     "data": {
      "image/png": "[encoded data removed]",
      "text/plain": [
       "<Figure size 360x360 with 1 Axes>"
      ]
     },
     "metadata": {
      "needs_background": "light"
     },
     "output_type": "display_data"
    }
   ],
   "source": [
    "sb.displot(district_df[\"people_count\"])\n",
    "\n",
    "district_df[\"people_count\"] = np.log(district_df[\"people_count\"])\n",
    "sb.displot(district_df[\"people_count\"])"
   ]
  },
  {
   "cell_type": "code",
   "execution_count": 46,
   "id": "de7cdced-6298-4a14-a4f1-34a28a4d4869",
   "metadata": {},
   "outputs": [
    {
     "data": {
      "text/plain": [
       "<seaborn.axisgrid.FacetGrid at 0x7f43a06e26a0>"
      ]
     },
     "execution_count": 46,
     "metadata": {},
     "output_type": "execute_result"
    },
    {
     "data": {
      "image/png": "[encoded data removed]",
      "text/plain": [
       "<Figure size 360x360 with 1 Axes>"
      ]
     },
     "metadata": {
      "needs_background": "light"
     },
     "output_type": "display_data"
    },
    {
     "data": {
      "image/png": "[encoded data removed]",
      "text/plain": [
       "<Figure size 360x360 with 1 Axes>"
      ]
     },
     "metadata": {
      "needs_background": "light"
     },
     "output_type": "display_data"
    }
   ],
   "source": [
    "sb.displot(district_df[\"avg_salary\"])\n",
    "\n",
    "district_df[\"avg_salary\"] = np.log(district_df[\"avg_salary\"])\n",
    "sb.displot(district_df[\"avg_salary\"])"
   ]
  },
  {
   "cell_type": "markdown",
   "id": "b7da6f23",
   "metadata": {
    "tags": []
   },
   "source": [
    "## Join data"
   ]
  },
  {
   "cell_type": "markdown",
   "id": "5aa0f628-b4b6-446c-a453-020f266f7fce",
   "metadata": {},
   "source": [
    "It is needed to join all datasets into a **single one**."
   ]
  },
  {
   "cell_type": "code",
   "execution_count": 47,
   "id": "fd625c4b-4c91-4cb3-8c8f-33598728330b",
   "metadata": {},
   "outputs": [],
   "source": [
    "def join(df1, df2, key1, key2, suff, t=\"inner\"):\n",
    "    return df1.merge(df2, left_on=key1, right_on=key2, how=t, suffixes=suff)"
   ]
  },
  {
   "cell_type": "markdown",
   "id": "1a79b7fa-60a2-46cd-bd66-d6f1c9993313",
   "metadata": {
    "tags": []
   },
   "source": [
    "### Join account with disposition"
   ]
  },
  {
   "cell_type": "markdown",
   "id": "36da5819-9e93-4f0b-ad53-0fba41f28a0a",
   "metadata": {},
   "source": [
    "All _Accounts_ have at least one _Disposition_. There are more _Dispositions_ than _Accounts_, because some clients are **owners** of an account while others are **disponent owners**."
   ]
  },
  {
   "cell_type": "code",
   "execution_count": 48,
   "id": "994327ca-985b-48eb-879a-8cf7d823fe14",
   "metadata": {},
   "outputs": [
    {
     "data": {
      "text/plain": [
       "OWNER        4500\n",
       "DISPONENT     869\n",
       "Name: type, dtype: int64"
      ]
     },
     "execution_count": 48,
     "metadata": {},
     "output_type": "execute_result"
    }
   ],
   "source": [
    "disp_df[\"type\"].value_counts()"
   ]
  },
  {
   "cell_type": "markdown",
   "id": "2bc10405-61c6-4aa8-ae7d-443a5420720e",
   "metadata": {},
   "source": [
    "In order to join all data later, we will create an attribute on the _Account_ table that reflects whether the account is co-owned."
   ]
  },
  {
   "cell_type": "code",
   "execution_count": 49,
   "id": "7ab6bec2-833c-4ba5-8304-ec7056936201",
   "metadata": {},
   "outputs": [
    {
     "data": {
      "text/html": [
       "<div>\n",
       "<style scoped>\n",
       "    .dataframe tbody tr th:only-of-type {\n",
       "        vertical-align: middle;\n",
       "    }\n",
       "\n",
       "    .dataframe tbody tr th {\n",
       "        vertical-align: top;\n",
       "    }\n",
       "\n",
       "    .dataframe thead th {\n",
       "        text-align: right;\n",
       "    }\n",
       "</style>\n",
       "<table border=\"1\" class=\"dataframe\">\n",
       "  <thead>\n",
       "    <tr style=\"text-align: right;\">\n",
       "      <th></th>\n",
       "      <th>account_id</th>\n",
       "      <th>district_id</th>\n",
       "      <th>issuance_freq</th>\n",
       "      <th>account_creation</th>\n",
       "      <th>disp_id</th>\n",
       "      <th>client_id</th>\n",
       "      <th>account_type</th>\n",
       "    </tr>\n",
       "  </thead>\n",
       "  <tbody>\n",
       "    <tr>\n",
       "      <th>0</th>\n",
       "      <td>576</td>\n",
       "      <td>55</td>\n",
       "      <td>monthly issuance</td>\n",
       "      <td>930101</td>\n",
       "      <td>692</td>\n",
       "      <td>692</td>\n",
       "      <td>OWNER</td>\n",
       "    </tr>\n",
       "    <tr>\n",
       "      <th>1</th>\n",
       "      <td>576</td>\n",
       "      <td>55</td>\n",
       "      <td>monthly issuance</td>\n",
       "      <td>930101</td>\n",
       "      <td>693</td>\n",
       "      <td>693</td>\n",
       "      <td>DISPONENT</td>\n",
       "    </tr>\n",
       "    <tr>\n",
       "      <th>2</th>\n",
       "      <td>3818</td>\n",
       "      <td>74</td>\n",
       "      <td>monthly issuance</td>\n",
       "      <td>930101</td>\n",
       "      <td>4601</td>\n",
       "      <td>4601</td>\n",
       "      <td>OWNER</td>\n",
       "    </tr>\n",
       "    <tr>\n",
       "      <th>3</th>\n",
       "      <td>3818</td>\n",
       "      <td>74</td>\n",
       "      <td>monthly issuance</td>\n",
       "      <td>930101</td>\n",
       "      <td>4602</td>\n",
       "      <td>4602</td>\n",
       "      <td>DISPONENT</td>\n",
       "    </tr>\n",
       "    <tr>\n",
       "      <th>4</th>\n",
       "      <td>704</td>\n",
       "      <td>55</td>\n",
       "      <td>monthly issuance</td>\n",
       "      <td>930101</td>\n",
       "      <td>844</td>\n",
       "      <td>844</td>\n",
       "      <td>OWNER</td>\n",
       "    </tr>\n",
       "    <tr>\n",
       "      <th>...</th>\n",
       "      <td>...</td>\n",
       "      <td>...</td>\n",
       "      <td>...</td>\n",
       "      <td>...</td>\n",
       "      <td>...</td>\n",
       "      <td>...</td>\n",
       "      <td>...</td>\n",
       "    </tr>\n",
       "    <tr>\n",
       "      <th>5364</th>\n",
       "      <td>3958</td>\n",
       "      <td>59</td>\n",
       "      <td>monthly issuance</td>\n",
       "      <td>971228</td>\n",
       "      <td>4775</td>\n",
       "      <td>4775</td>\n",
       "      <td>DISPONENT</td>\n",
       "    </tr>\n",
       "    <tr>\n",
       "      <th>5365</th>\n",
       "      <td>777</td>\n",
       "      <td>30</td>\n",
       "      <td>monthly issuance</td>\n",
       "      <td>971228</td>\n",
       "      <td>929</td>\n",
       "      <td>929</td>\n",
       "      <td>OWNER</td>\n",
       "    </tr>\n",
       "    <tr>\n",
       "      <th>5366</th>\n",
       "      <td>1573</td>\n",
       "      <td>63</td>\n",
       "      <td>monthly issuance</td>\n",
       "      <td>971229</td>\n",
       "      <td>1906</td>\n",
       "      <td>1906</td>\n",
       "      <td>OWNER</td>\n",
       "    </tr>\n",
       "    <tr>\n",
       "      <th>5367</th>\n",
       "      <td>3276</td>\n",
       "      <td>1</td>\n",
       "      <td>monthly issuance</td>\n",
       "      <td>971229</td>\n",
       "      <td>3965</td>\n",
       "      <td>3965</td>\n",
       "      <td>OWNER</td>\n",
       "    </tr>\n",
       "    <tr>\n",
       "      <th>5368</th>\n",
       "      <td>3276</td>\n",
       "      <td>1</td>\n",
       "      <td>monthly issuance</td>\n",
       "      <td>971229</td>\n",
       "      <td>3966</td>\n",
       "      <td>3966</td>\n",
       "      <td>DISPONENT</td>\n",
       "    </tr>\n",
       "  </tbody>\n",
       "</table>\n",
       "<p>5369 rows × 7 columns</p>\n",
       "</div>"
      ],
      "text/plain": [
       "      account_id  district_id     issuance_freq  account_creation  disp_id  \\\n",
       "0            576           55  monthly issuance            930101      692   \n",
       "1            576           55  monthly issuance            930101      693   \n",
       "2           3818           74  monthly issuance            930101     4601   \n",
       "3           3818           74  monthly issuance            930101     4602   \n",
       "4            704           55  monthly issuance            930101      844   \n",
       "...          ...          ...               ...               ...      ...   \n",
       "5364        3958           59  monthly issuance            971228     4775   \n",
       "5365         777           30  monthly issuance            971228      929   \n",
       "5366        1573           63  monthly issuance            971229     1906   \n",
       "5367        3276            1  monthly issuance            971229     3965   \n",
       "5368        3276            1  monthly issuance            971229     3966   \n",
       "\n",
       "      client_id account_type  \n",
       "0           692        OWNER  \n",
       "1           693    DISPONENT  \n",
       "2          4601        OWNER  \n",
       "3          4602    DISPONENT  \n",
       "4           844        OWNER  \n",
       "...         ...          ...  \n",
       "5364       4775    DISPONENT  \n",
       "5365        929        OWNER  \n",
       "5366       1906        OWNER  \n",
       "5367       3965        OWNER  \n",
       "5368       3966    DISPONENT  \n",
       "\n",
       "[5369 rows x 7 columns]"
      ]
     },
     "execution_count": 49,
     "metadata": {},
     "output_type": "execute_result"
    }
   ],
   "source": [
    "acc_disp = join(account_df, disp_df, \"account_id\", \"account_id\", ['', '_disp'])\n",
    "acc_disp.rename(columns={\"type\": \"account_type\",\n",
    "                         \"date\": \"account_creation\",\n",
    "                         \"frequency\": \"issuance_freq\"}, inplace=True)\n",
    "acc_disp"
   ]
  },
  {
   "cell_type": "code",
   "execution_count": 50,
   "id": "4d1e99f1-9125-4c51-8ff6-3d31b84e98e3",
   "metadata": {},
   "outputs": [
    {
     "data": {
      "text/html": [
       "<div>\n",
       "<style scoped>\n",
       "    .dataframe tbody tr th:only-of-type {\n",
       "        vertical-align: middle;\n",
       "    }\n",
       "\n",
       "    .dataframe tbody tr th {\n",
       "        vertical-align: top;\n",
       "    }\n",
       "\n",
       "    .dataframe thead th {\n",
       "        text-align: right;\n",
       "    }\n",
       "</style>\n",
       "<table border=\"1\" class=\"dataframe\">\n",
       "  <thead>\n",
       "    <tr style=\"text-align: right;\">\n",
       "      <th></th>\n",
       "      <th>account_id</th>\n",
       "      <th>district_id</th>\n",
       "      <th>issuance_freq</th>\n",
       "      <th>account_creation</th>\n",
       "      <th>disp_id</th>\n",
       "      <th>client_id</th>\n",
       "      <th>account_type</th>\n",
       "      <th>is_coowned</th>\n",
       "    </tr>\n",
       "  </thead>\n",
       "  <tbody>\n",
       "    <tr>\n",
       "      <th>1</th>\n",
       "      <td>576</td>\n",
       "      <td>55</td>\n",
       "      <td>monthly issuance</td>\n",
       "      <td>930101</td>\n",
       "      <td>693</td>\n",
       "      <td>693</td>\n",
       "      <td>DISPONENT</td>\n",
       "      <td>True</td>\n",
       "    </tr>\n",
       "    <tr>\n",
       "      <th>3</th>\n",
       "      <td>3818</td>\n",
       "      <td>74</td>\n",
       "      <td>monthly issuance</td>\n",
       "      <td>930101</td>\n",
       "      <td>4602</td>\n",
       "      <td>4602</td>\n",
       "      <td>DISPONENT</td>\n",
       "      <td>True</td>\n",
       "    </tr>\n",
       "    <tr>\n",
       "      <th>5</th>\n",
       "      <td>704</td>\n",
       "      <td>55</td>\n",
       "      <td>monthly issuance</td>\n",
       "      <td>930101</td>\n",
       "      <td>845</td>\n",
       "      <td>845</td>\n",
       "      <td>DISPONENT</td>\n",
       "      <td>True</td>\n",
       "    </tr>\n",
       "    <tr>\n",
       "      <th>11</th>\n",
       "      <td>793</td>\n",
       "      <td>47</td>\n",
       "      <td>monthly issuance</td>\n",
       "      <td>930103</td>\n",
       "      <td>951</td>\n",
       "      <td>951</td>\n",
       "      <td>DISPONENT</td>\n",
       "      <td>True</td>\n",
       "    </tr>\n",
       "    <tr>\n",
       "      <th>15</th>\n",
       "      <td>1726</td>\n",
       "      <td>48</td>\n",
       "      <td>monthly issuance</td>\n",
       "      <td>930103</td>\n",
       "      <td>2094</td>\n",
       "      <td>2094</td>\n",
       "      <td>DISPONENT</td>\n",
       "      <td>True</td>\n",
       "    </tr>\n",
       "    <tr>\n",
       "      <th>...</th>\n",
       "      <td>...</td>\n",
       "      <td>...</td>\n",
       "      <td>...</td>\n",
       "      <td>...</td>\n",
       "      <td>...</td>\n",
       "      <td>...</td>\n",
       "      <td>...</td>\n",
       "      <td>...</td>\n",
       "    </tr>\n",
       "    <tr>\n",
       "      <th>5339</th>\n",
       "      <td>2791</td>\n",
       "      <td>25</td>\n",
       "      <td>monthly issuance</td>\n",
       "      <td>971219</td>\n",
       "      <td>3371</td>\n",
       "      <td>3371</td>\n",
       "      <td>DISPONENT</td>\n",
       "      <td>True</td>\n",
       "    </tr>\n",
       "    <tr>\n",
       "      <th>5345</th>\n",
       "      <td>246</td>\n",
       "      <td>65</td>\n",
       "      <td>monthly issuance</td>\n",
       "      <td>971220</td>\n",
       "      <td>298</td>\n",
       "      <td>298</td>\n",
       "      <td>DISPONENT</td>\n",
       "      <td>True</td>\n",
       "    </tr>\n",
       "    <tr>\n",
       "      <th>5347</th>\n",
       "      <td>1171</td>\n",
       "      <td>18</td>\n",
       "      <td>monthly issuance</td>\n",
       "      <td>971220</td>\n",
       "      <td>1411</td>\n",
       "      <td>1411</td>\n",
       "      <td>DISPONENT</td>\n",
       "      <td>True</td>\n",
       "    </tr>\n",
       "    <tr>\n",
       "      <th>5364</th>\n",
       "      <td>3958</td>\n",
       "      <td>59</td>\n",
       "      <td>monthly issuance</td>\n",
       "      <td>971228</td>\n",
       "      <td>4775</td>\n",
       "      <td>4775</td>\n",
       "      <td>DISPONENT</td>\n",
       "      <td>True</td>\n",
       "    </tr>\n",
       "    <tr>\n",
       "      <th>5368</th>\n",
       "      <td>3276</td>\n",
       "      <td>1</td>\n",
       "      <td>monthly issuance</td>\n",
       "      <td>971229</td>\n",
       "      <td>3966</td>\n",
       "      <td>3966</td>\n",
       "      <td>DISPONENT</td>\n",
       "      <td>True</td>\n",
       "    </tr>\n",
       "  </tbody>\n",
       "</table>\n",
       "<p>869 rows × 8 columns</p>\n",
       "</div>"
      ],
      "text/plain": [
       "      account_id  district_id     issuance_freq  account_creation  disp_id  \\\n",
       "1            576           55  monthly issuance            930101      693   \n",
       "3           3818           74  monthly issuance            930101     4602   \n",
       "5            704           55  monthly issuance            930101      845   \n",
       "11           793           47  monthly issuance            930103      951   \n",
       "15          1726           48  monthly issuance            930103     2094   \n",
       "...          ...          ...               ...               ...      ...   \n",
       "5339        2791           25  monthly issuance            971219     3371   \n",
       "5345         246           65  monthly issuance            971220      298   \n",
       "5347        1171           18  monthly issuance            971220     1411   \n",
       "5364        3958           59  monthly issuance            971228     4775   \n",
       "5368        3276            1  monthly issuance            971229     3966   \n",
       "\n",
       "      client_id account_type  is_coowned  \n",
       "1           693    DISPONENT        True  \n",
       "3          4602    DISPONENT        True  \n",
       "5           845    DISPONENT        True  \n",
       "11          951    DISPONENT        True  \n",
       "15         2094    DISPONENT        True  \n",
       "...         ...          ...         ...  \n",
       "5339       3371    DISPONENT        True  \n",
       "5345        298    DISPONENT        True  \n",
       "5347       1411    DISPONENT        True  \n",
       "5364       4775    DISPONENT        True  \n",
       "5368       3966    DISPONENT        True  \n",
       "\n",
       "[869 rows x 8 columns]"
      ]
     },
     "execution_count": 50,
     "metadata": {},
     "output_type": "execute_result"
    }
   ],
   "source": [
    "owner_count = acc_disp[\"account_id\"].value_counts()\n",
    "acc_disp[\"is_coowned\"] = acc_disp.apply(lambda row: True if owner_count[row[\"account_id\"]] > 1 else False, axis=1)\n",
    "\n",
    "acc_disp[(acc_disp[\"account_type\"] == \"DISPONENT\") & (acc_disp[\"is_coowned\"] == True)]"
   ]
  },
  {
   "cell_type": "markdown",
   "id": "9553562b-6dc1-419f-a04b-26b092d8baf1",
   "metadata": {},
   "source": [
    "Now the _DISPONENTs_ can be dropped from the joined table. The type attribute can also be dropped as all dispositions are _OWNER_."
   ]
  },
  {
   "cell_type": "code",
   "execution_count": 51,
   "id": "1e7329b6-8a0e-4e87-b931-c741aed27cf3",
   "metadata": {},
   "outputs": [
    {
     "data": {
      "text/html": [
       "<div>\n",
       "<style scoped>\n",
       "    .dataframe tbody tr th:only-of-type {\n",
       "        vertical-align: middle;\n",
       "    }\n",
       "\n",
       "    .dataframe tbody tr th {\n",
       "        vertical-align: top;\n",
       "    }\n",
       "\n",
       "    .dataframe thead th {\n",
       "        text-align: right;\n",
       "    }\n",
       "</style>\n",
       "<table border=\"1\" class=\"dataframe\">\n",
       "  <thead>\n",
       "    <tr style=\"text-align: right;\">\n",
       "      <th></th>\n",
       "      <th>account_id</th>\n",
       "      <th>district_id</th>\n",
       "      <th>issuance_freq</th>\n",
       "      <th>account_creation</th>\n",
       "      <th>disp_id</th>\n",
       "      <th>client_id</th>\n",
       "      <th>is_coowned</th>\n",
       "    </tr>\n",
       "  </thead>\n",
       "  <tbody>\n",
       "    <tr>\n",
       "      <th>0</th>\n",
       "      <td>576</td>\n",
       "      <td>55</td>\n",
       "      <td>monthly issuance</td>\n",
       "      <td>930101</td>\n",
       "      <td>692</td>\n",
       "      <td>692</td>\n",
       "      <td>True</td>\n",
       "    </tr>\n",
       "    <tr>\n",
       "      <th>2</th>\n",
       "      <td>3818</td>\n",
       "      <td>74</td>\n",
       "      <td>monthly issuance</td>\n",
       "      <td>930101</td>\n",
       "      <td>4601</td>\n",
       "      <td>4601</td>\n",
       "      <td>True</td>\n",
       "    </tr>\n",
       "    <tr>\n",
       "      <th>4</th>\n",
       "      <td>704</td>\n",
       "      <td>55</td>\n",
       "      <td>monthly issuance</td>\n",
       "      <td>930101</td>\n",
       "      <td>844</td>\n",
       "      <td>844</td>\n",
       "      <td>True</td>\n",
       "    </tr>\n",
       "    <tr>\n",
       "      <th>6</th>\n",
       "      <td>2378</td>\n",
       "      <td>16</td>\n",
       "      <td>monthly issuance</td>\n",
       "      <td>930101</td>\n",
       "      <td>2873</td>\n",
       "      <td>2873</td>\n",
       "      <td>False</td>\n",
       "    </tr>\n",
       "    <tr>\n",
       "      <th>7</th>\n",
       "      <td>2632</td>\n",
       "      <td>24</td>\n",
       "      <td>monthly issuance</td>\n",
       "      <td>930102</td>\n",
       "      <td>3177</td>\n",
       "      <td>3177</td>\n",
       "      <td>False</td>\n",
       "    </tr>\n",
       "    <tr>\n",
       "      <th>...</th>\n",
       "      <td>...</td>\n",
       "      <td>...</td>\n",
       "      <td>...</td>\n",
       "      <td>...</td>\n",
       "      <td>...</td>\n",
       "      <td>...</td>\n",
       "      <td>...</td>\n",
       "    </tr>\n",
       "    <tr>\n",
       "      <th>5362</th>\n",
       "      <td>124</td>\n",
       "      <td>55</td>\n",
       "      <td>monthly issuance</td>\n",
       "      <td>971228</td>\n",
       "      <td>149</td>\n",
       "      <td>149</td>\n",
       "      <td>False</td>\n",
       "    </tr>\n",
       "    <tr>\n",
       "      <th>5363</th>\n",
       "      <td>3958</td>\n",
       "      <td>59</td>\n",
       "      <td>monthly issuance</td>\n",
       "      <td>971228</td>\n",
       "      <td>4774</td>\n",
       "      <td>4774</td>\n",
       "      <td>True</td>\n",
       "    </tr>\n",
       "    <tr>\n",
       "      <th>5365</th>\n",
       "      <td>777</td>\n",
       "      <td>30</td>\n",
       "      <td>monthly issuance</td>\n",
       "      <td>971228</td>\n",
       "      <td>929</td>\n",
       "      <td>929</td>\n",
       "      <td>False</td>\n",
       "    </tr>\n",
       "    <tr>\n",
       "      <th>5366</th>\n",
       "      <td>1573</td>\n",
       "      <td>63</td>\n",
       "      <td>monthly issuance</td>\n",
       "      <td>971229</td>\n",
       "      <td>1906</td>\n",
       "      <td>1906</td>\n",
       "      <td>False</td>\n",
       "    </tr>\n",
       "    <tr>\n",
       "      <th>5367</th>\n",
       "      <td>3276</td>\n",
       "      <td>1</td>\n",
       "      <td>monthly issuance</td>\n",
       "      <td>971229</td>\n",
       "      <td>3965</td>\n",
       "      <td>3965</td>\n",
       "      <td>True</td>\n",
       "    </tr>\n",
       "  </tbody>\n",
       "</table>\n",
       "<p>4500 rows × 7 columns</p>\n",
       "</div>"
      ],
      "text/plain": [
       "      account_id  district_id     issuance_freq  account_creation  disp_id  \\\n",
       "0            576           55  monthly issuance            930101      692   \n",
       "2           3818           74  monthly issuance            930101     4601   \n",
       "4            704           55  monthly issuance            930101      844   \n",
       "6           2378           16  monthly issuance            930101     2873   \n",
       "7           2632           24  monthly issuance            930102     3177   \n",
       "...          ...          ...               ...               ...      ...   \n",
       "5362         124           55  monthly issuance            971228      149   \n",
       "5363        3958           59  monthly issuance            971228     4774   \n",
       "5365         777           30  monthly issuance            971228      929   \n",
       "5366        1573           63  monthly issuance            971229     1906   \n",
       "5367        3276            1  monthly issuance            971229     3965   \n",
       "\n",
       "      client_id  is_coowned  \n",
       "0           692        True  \n",
       "2          4601        True  \n",
       "4           844        True  \n",
       "6          2873       False  \n",
       "7          3177       False  \n",
       "...         ...         ...  \n",
       "5362        149       False  \n",
       "5363       4774        True  \n",
       "5365        929       False  \n",
       "5366       1906       False  \n",
       "5367       3965        True  \n",
       "\n",
       "[4500 rows x 7 columns]"
      ]
     },
     "execution_count": 51,
     "metadata": {},
     "output_type": "execute_result"
    }
   ],
   "source": [
    "acc_disp.drop(acc_disp[acc_disp[\"account_type\"] == \"DISPONENT\"].index, inplace=True)\n",
    "acc_disp.drop([\"account_type\"], axis=1, inplace=True)\n",
    "\n",
    "df=acc_disp\n",
    "df"
   ]
  },
  {
   "cell_type": "markdown",
   "id": "d7882944-2acd-4305-bcbc-1a9d2ad8a5be",
   "metadata": {
    "tags": []
   },
   "source": [
    "### Join clients"
   ]
  },
  {
   "cell_type": "markdown",
   "id": "165a2381-6657-4c76-99b5-c8e4b7407119",
   "metadata": {},
   "source": [
    "Nothing special needs to be done to join the _Client_ table. We can drop the some attributes (foreign keys)."
   ]
  },
  {
   "cell_type": "code",
   "execution_count": 52,
   "id": "b8c82615-e871-4119-90db-74e932ed6411",
   "metadata": {},
   "outputs": [
    {
     "data": {
      "text/html": [
       "<div>\n",
       "<style scoped>\n",
       "    .dataframe tbody tr th:only-of-type {\n",
       "        vertical-align: middle;\n",
       "    }\n",
       "\n",
       "    .dataframe tbody tr th {\n",
       "        vertical-align: top;\n",
       "    }\n",
       "\n",
       "    .dataframe thead th {\n",
       "        text-align: right;\n",
       "    }\n",
       "</style>\n",
       "<table border=\"1\" class=\"dataframe\">\n",
       "  <thead>\n",
       "    <tr style=\"text-align: right;\">\n",
       "      <th></th>\n",
       "      <th>account_id</th>\n",
       "      <th>district_id</th>\n",
       "      <th>issuance_freq</th>\n",
       "      <th>account_creation</th>\n",
       "      <th>disp_id</th>\n",
       "      <th>is_coowned</th>\n",
       "      <th>district_id_client</th>\n",
       "      <th>is_male</th>\n",
       "      <th>client_age</th>\n",
       "    </tr>\n",
       "  </thead>\n",
       "  <tbody>\n",
       "    <tr>\n",
       "      <th>0</th>\n",
       "      <td>576</td>\n",
       "      <td>55</td>\n",
       "      <td>monthly issuance</td>\n",
       "      <td>930101</td>\n",
       "      <td>692</td>\n",
       "      <td>True</td>\n",
       "      <td>74</td>\n",
       "      <td>False</td>\n",
       "      <td>50-65</td>\n",
       "    </tr>\n",
       "    <tr>\n",
       "      <th>1</th>\n",
       "      <td>3818</td>\n",
       "      <td>74</td>\n",
       "      <td>monthly issuance</td>\n",
       "      <td>930101</td>\n",
       "      <td>4601</td>\n",
       "      <td>True</td>\n",
       "      <td>1</td>\n",
       "      <td>True</td>\n",
       "      <td>50-65</td>\n",
       "    </tr>\n",
       "    <tr>\n",
       "      <th>2</th>\n",
       "      <td>704</td>\n",
       "      <td>55</td>\n",
       "      <td>monthly issuance</td>\n",
       "      <td>930101</td>\n",
       "      <td>844</td>\n",
       "      <td>True</td>\n",
       "      <td>22</td>\n",
       "      <td>True</td>\n",
       "      <td>50-65</td>\n",
       "    </tr>\n",
       "    <tr>\n",
       "      <th>3</th>\n",
       "      <td>2378</td>\n",
       "      <td>16</td>\n",
       "      <td>monthly issuance</td>\n",
       "      <td>930101</td>\n",
       "      <td>2873</td>\n",
       "      <td>False</td>\n",
       "      <td>16</td>\n",
       "      <td>False</td>\n",
       "      <td>20-29</td>\n",
       "    </tr>\n",
       "    <tr>\n",
       "      <th>4</th>\n",
       "      <td>2632</td>\n",
       "      <td>24</td>\n",
       "      <td>monthly issuance</td>\n",
       "      <td>930102</td>\n",
       "      <td>3177</td>\n",
       "      <td>False</td>\n",
       "      <td>24</td>\n",
       "      <td>True</td>\n",
       "      <td>50-65</td>\n",
       "    </tr>\n",
       "    <tr>\n",
       "      <th>...</th>\n",
       "      <td>...</td>\n",
       "      <td>...</td>\n",
       "      <td>...</td>\n",
       "      <td>...</td>\n",
       "      <td>...</td>\n",
       "      <td>...</td>\n",
       "      <td>...</td>\n",
       "      <td>...</td>\n",
       "      <td>...</td>\n",
       "    </tr>\n",
       "    <tr>\n",
       "      <th>4495</th>\n",
       "      <td>124</td>\n",
       "      <td>55</td>\n",
       "      <td>monthly issuance</td>\n",
       "      <td>971228</td>\n",
       "      <td>149</td>\n",
       "      <td>False</td>\n",
       "      <td>55</td>\n",
       "      <td>True</td>\n",
       "      <td>50-65</td>\n",
       "    </tr>\n",
       "    <tr>\n",
       "      <th>4496</th>\n",
       "      <td>3958</td>\n",
       "      <td>59</td>\n",
       "      <td>monthly issuance</td>\n",
       "      <td>971228</td>\n",
       "      <td>4774</td>\n",
       "      <td>True</td>\n",
       "      <td>59</td>\n",
       "      <td>True</td>\n",
       "      <td>40-49</td>\n",
       "    </tr>\n",
       "    <tr>\n",
       "      <th>4497</th>\n",
       "      <td>777</td>\n",
       "      <td>30</td>\n",
       "      <td>monthly issuance</td>\n",
       "      <td>971228</td>\n",
       "      <td>929</td>\n",
       "      <td>False</td>\n",
       "      <td>30</td>\n",
       "      <td>True</td>\n",
       "      <td>50-65</td>\n",
       "    </tr>\n",
       "    <tr>\n",
       "      <th>4498</th>\n",
       "      <td>1573</td>\n",
       "      <td>63</td>\n",
       "      <td>monthly issuance</td>\n",
       "      <td>971229</td>\n",
       "      <td>1906</td>\n",
       "      <td>False</td>\n",
       "      <td>63</td>\n",
       "      <td>True</td>\n",
       "      <td>retired</td>\n",
       "    </tr>\n",
       "    <tr>\n",
       "      <th>4499</th>\n",
       "      <td>3276</td>\n",
       "      <td>1</td>\n",
       "      <td>monthly issuance</td>\n",
       "      <td>971229</td>\n",
       "      <td>3965</td>\n",
       "      <td>True</td>\n",
       "      <td>1</td>\n",
       "      <td>True</td>\n",
       "      <td>30-39</td>\n",
       "    </tr>\n",
       "  </tbody>\n",
       "</table>\n",
       "<p>4500 rows × 9 columns</p>\n",
       "</div>"
      ],
      "text/plain": [
       "      account_id  district_id     issuance_freq  account_creation  disp_id  \\\n",
       "0            576           55  monthly issuance            930101      692   \n",
       "1           3818           74  monthly issuance            930101     4601   \n",
       "2            704           55  monthly issuance            930101      844   \n",
       "3           2378           16  monthly issuance            930101     2873   \n",
       "4           2632           24  monthly issuance            930102     3177   \n",
       "...          ...          ...               ...               ...      ...   \n",
       "4495         124           55  monthly issuance            971228      149   \n",
       "4496        3958           59  monthly issuance            971228     4774   \n",
       "4497         777           30  monthly issuance            971228      929   \n",
       "4498        1573           63  monthly issuance            971229     1906   \n",
       "4499        3276            1  monthly issuance            971229     3965   \n",
       "\n",
       "      is_coowned  district_id_client  is_male client_age  \n",
       "0           True                  74    False      50-65  \n",
       "1           True                   1     True      50-65  \n",
       "2           True                  22     True      50-65  \n",
       "3          False                  16    False      20-29  \n",
       "4          False                  24     True      50-65  \n",
       "...          ...                 ...      ...        ...  \n",
       "4495       False                  55     True      50-65  \n",
       "4496        True                  59     True      40-49  \n",
       "4497       False                  30     True      50-65  \n",
       "4498       False                  63     True    retired  \n",
       "4499        True                   1     True      30-39  \n",
       "\n",
       "[4500 rows x 9 columns]"
      ]
     },
     "execution_count": 52,
     "metadata": {},
     "output_type": "execute_result"
    }
   ],
   "source": [
    "df = join(df, client_df, 'client_id', 'client_id', ['', '_client'], t=\"left\")\n",
    "df.rename(columns={\"age\": \"client_age\"}, inplace=True)\n",
    "df.drop(['client_id'], axis=1, inplace=True)\n",
    "df"
   ]
  },
  {
   "cell_type": "markdown",
   "id": "3b90226f-74ea-488b-94f9-6733638794ba",
   "metadata": {},
   "source": [
    "### Join district"
   ]
  },
  {
   "cell_type": "markdown",
   "id": "3cd9d8c2-c4f1-4a29-b08b-61f5985c3b60",
   "metadata": {},
   "source": [
    "Both the _Account_ and the _Client_ table have a foreign key to the _District_ table.\n",
    "\n",
    "Only the _Client_ key will be joined with the _District_ table, because we only care about the account owner's residence and now the place where the account was registered."
   ]
  },
  {
   "cell_type": "code",
   "execution_count": 53,
   "id": "58700c2a-42e5-45ba-8c0c-1c1c26231672",
   "metadata": {},
   "outputs": [
    {
     "data": {
      "text/html": [
       "<div>\n",
       "<style scoped>\n",
       "    .dataframe tbody tr th:only-of-type {\n",
       "        vertical-align: middle;\n",
       "    }\n",
       "\n",
       "    .dataframe tbody tr th {\n",
       "        vertical-align: top;\n",
       "    }\n",
       "\n",
       "    .dataframe thead th {\n",
       "        text-align: right;\n",
       "    }\n",
       "</style>\n",
       "<table border=\"1\" class=\"dataframe\">\n",
       "  <thead>\n",
       "    <tr style=\"text-align: right;\">\n",
       "      <th></th>\n",
       "      <th>account_id</th>\n",
       "      <th>issuance_freq</th>\n",
       "      <th>account_creation</th>\n",
       "      <th>disp_id</th>\n",
       "      <th>is_coowned</th>\n",
       "      <th>is_male</th>\n",
       "      <th>client_age</th>\n",
       "      <th>district_code</th>\n",
       "      <th>district_name</th>\n",
       "      <th>region</th>\n",
       "      <th>people_count</th>\n",
       "      <th>muni_499_count</th>\n",
       "      <th>muni_500-1999_count</th>\n",
       "      <th>muni_2000-9999_count</th>\n",
       "      <th>muni_10000_count</th>\n",
       "      <th>cities_count</th>\n",
       "      <th>ratio_urban_people</th>\n",
       "      <th>avg_salary</th>\n",
       "      <th>enterp_per1000</th>\n",
       "      <th>unem_growth</th>\n",
       "      <th>crime_growth</th>\n",
       "    </tr>\n",
       "  </thead>\n",
       "  <tbody>\n",
       "    <tr>\n",
       "      <th>0</th>\n",
       "      <td>576</td>\n",
       "      <td>monthly issuance</td>\n",
       "      <td>930101</td>\n",
       "      <td>692</td>\n",
       "      <td>True</td>\n",
       "      <td>False</td>\n",
       "      <td>50-65</td>\n",
       "      <td>74</td>\n",
       "      <td>Ostrava - mesto</td>\n",
       "      <td>north Moravia</td>\n",
       "      <td>12.688097</td>\n",
       "      <td>0</td>\n",
       "      <td>0</td>\n",
       "      <td>0</td>\n",
       "      <td>1</td>\n",
       "      <td>1</td>\n",
       "      <td>100.0</td>\n",
       "      <td>9.275472</td>\n",
       "      <td>100</td>\n",
       "      <td>0.145263</td>\n",
       "      <td>-0.023160</td>\n",
       "    </tr>\n",
       "    <tr>\n",
       "      <th>1</th>\n",
       "      <td>2484</td>\n",
       "      <td>monthly issuance</td>\n",
       "      <td>930103</td>\n",
       "      <td>2999</td>\n",
       "      <td>False</td>\n",
       "      <td>False</td>\n",
       "      <td>0-19</td>\n",
       "      <td>74</td>\n",
       "      <td>Ostrava - mesto</td>\n",
       "      <td>north Moravia</td>\n",
       "      <td>12.688097</td>\n",
       "      <td>0</td>\n",
       "      <td>0</td>\n",
       "      <td>0</td>\n",
       "      <td>1</td>\n",
       "      <td>1</td>\n",
       "      <td>100.0</td>\n",
       "      <td>9.275472</td>\n",
       "      <td>100</td>\n",
       "      <td>0.145263</td>\n",
       "      <td>-0.023160</td>\n",
       "    </tr>\n",
       "    <tr>\n",
       "      <th>2</th>\n",
       "      <td>1338</td>\n",
       "      <td>monthly issuance</td>\n",
       "      <td>930111</td>\n",
       "      <td>1619</td>\n",
       "      <td>True</td>\n",
       "      <td>False</td>\n",
       "      <td>50-65</td>\n",
       "      <td>74</td>\n",
       "      <td>Ostrava - mesto</td>\n",
       "      <td>north Moravia</td>\n",
       "      <td>12.688097</td>\n",
       "      <td>0</td>\n",
       "      <td>0</td>\n",
       "      <td>0</td>\n",
       "      <td>1</td>\n",
       "      <td>1</td>\n",
       "      <td>100.0</td>\n",
       "      <td>9.275472</td>\n",
       "      <td>100</td>\n",
       "      <td>0.145263</td>\n",
       "      <td>-0.023160</td>\n",
       "    </tr>\n",
       "    <tr>\n",
       "      <th>3</th>\n",
       "      <td>1179</td>\n",
       "      <td>monthly issuance</td>\n",
       "      <td>930123</td>\n",
       "      <td>1419</td>\n",
       "      <td>True</td>\n",
       "      <td>False</td>\n",
       "      <td>retired</td>\n",
       "      <td>74</td>\n",
       "      <td>Ostrava - mesto</td>\n",
       "      <td>north Moravia</td>\n",
       "      <td>12.688097</td>\n",
       "      <td>0</td>\n",
       "      <td>0</td>\n",
       "      <td>0</td>\n",
       "      <td>1</td>\n",
       "      <td>1</td>\n",
       "      <td>100.0</td>\n",
       "      <td>9.275472</td>\n",
       "      <td>100</td>\n",
       "      <td>0.145263</td>\n",
       "      <td>-0.023160</td>\n",
       "    </tr>\n",
       "    <tr>\n",
       "      <th>4</th>\n",
       "      <td>1649</td>\n",
       "      <td>monthly issuance</td>\n",
       "      <td>930126</td>\n",
       "      <td>1999</td>\n",
       "      <td>False</td>\n",
       "      <td>False</td>\n",
       "      <td>0-19</td>\n",
       "      <td>74</td>\n",
       "      <td>Ostrava - mesto</td>\n",
       "      <td>north Moravia</td>\n",
       "      <td>12.688097</td>\n",
       "      <td>0</td>\n",
       "      <td>0</td>\n",
       "      <td>0</td>\n",
       "      <td>1</td>\n",
       "      <td>1</td>\n",
       "      <td>100.0</td>\n",
       "      <td>9.275472</td>\n",
       "      <td>100</td>\n",
       "      <td>0.145263</td>\n",
       "      <td>-0.023160</td>\n",
       "    </tr>\n",
       "    <tr>\n",
       "      <th>...</th>\n",
       "      <td>...</td>\n",
       "      <td>...</td>\n",
       "      <td>...</td>\n",
       "      <td>...</td>\n",
       "      <td>...</td>\n",
       "      <td>...</td>\n",
       "      <td>...</td>\n",
       "      <td>...</td>\n",
       "      <td>...</td>\n",
       "      <td>...</td>\n",
       "      <td>...</td>\n",
       "      <td>...</td>\n",
       "      <td>...</td>\n",
       "      <td>...</td>\n",
       "      <td>...</td>\n",
       "      <td>...</td>\n",
       "      <td>...</td>\n",
       "      <td>...</td>\n",
       "      <td>...</td>\n",
       "      <td>...</td>\n",
       "      <td>...</td>\n",
       "    </tr>\n",
       "    <tr>\n",
       "      <th>4495</th>\n",
       "      <td>1976</td>\n",
       "      <td>monthly issuance</td>\n",
       "      <td>970325</td>\n",
       "      <td>2401</td>\n",
       "      <td>False</td>\n",
       "      <td>False</td>\n",
       "      <td>50-65</td>\n",
       "      <td>26</td>\n",
       "      <td>Plzen - mesto</td>\n",
       "      <td>west Bohemia</td>\n",
       "      <td>12.046191</td>\n",
       "      <td>0</td>\n",
       "      <td>0</td>\n",
       "      <td>0</td>\n",
       "      <td>1</td>\n",
       "      <td>1</td>\n",
       "      <td>100.0</td>\n",
       "      <td>9.286097</td>\n",
       "      <td>131</td>\n",
       "      <td>0.170455</td>\n",
       "      <td>0.036418</td>\n",
       "    </tr>\n",
       "    <tr>\n",
       "      <th>4496</th>\n",
       "      <td>3176</td>\n",
       "      <td>monthly issuance</td>\n",
       "      <td>970326</td>\n",
       "      <td>3841</td>\n",
       "      <td>False</td>\n",
       "      <td>True</td>\n",
       "      <td>retired</td>\n",
       "      <td>26</td>\n",
       "      <td>Plzen - mesto</td>\n",
       "      <td>west Bohemia</td>\n",
       "      <td>12.046191</td>\n",
       "      <td>0</td>\n",
       "      <td>0</td>\n",
       "      <td>0</td>\n",
       "      <td>1</td>\n",
       "      <td>1</td>\n",
       "      <td>100.0</td>\n",
       "      <td>9.286097</td>\n",
       "      <td>131</td>\n",
       "      <td>0.170455</td>\n",
       "      <td>0.036418</td>\n",
       "    </tr>\n",
       "    <tr>\n",
       "      <th>4497</th>\n",
       "      <td>768</td>\n",
       "      <td>monthly issuance</td>\n",
       "      <td>970703</td>\n",
       "      <td>918</td>\n",
       "      <td>False</td>\n",
       "      <td>True</td>\n",
       "      <td>30-39</td>\n",
       "      <td>26</td>\n",
       "      <td>Plzen - mesto</td>\n",
       "      <td>west Bohemia</td>\n",
       "      <td>12.046191</td>\n",
       "      <td>0</td>\n",
       "      <td>0</td>\n",
       "      <td>0</td>\n",
       "      <td>1</td>\n",
       "      <td>1</td>\n",
       "      <td>100.0</td>\n",
       "      <td>9.286097</td>\n",
       "      <td>131</td>\n",
       "      <td>0.170455</td>\n",
       "      <td>0.036418</td>\n",
       "    </tr>\n",
       "    <tr>\n",
       "      <th>4498</th>\n",
       "      <td>307</td>\n",
       "      <td>monthly issuance</td>\n",
       "      <td>970807</td>\n",
       "      <td>374</td>\n",
       "      <td>False</td>\n",
       "      <td>True</td>\n",
       "      <td>30-39</td>\n",
       "      <td>26</td>\n",
       "      <td>Plzen - mesto</td>\n",
       "      <td>west Bohemia</td>\n",
       "      <td>12.046191</td>\n",
       "      <td>0</td>\n",
       "      <td>0</td>\n",
       "      <td>0</td>\n",
       "      <td>1</td>\n",
       "      <td>1</td>\n",
       "      <td>100.0</td>\n",
       "      <td>9.286097</td>\n",
       "      <td>131</td>\n",
       "      <td>0.170455</td>\n",
       "      <td>0.036418</td>\n",
       "    </tr>\n",
       "    <tr>\n",
       "      <th>4499</th>\n",
       "      <td>1608</td>\n",
       "      <td>monthly issuance</td>\n",
       "      <td>971008</td>\n",
       "      <td>1950</td>\n",
       "      <td>False</td>\n",
       "      <td>True</td>\n",
       "      <td>retired</td>\n",
       "      <td>26</td>\n",
       "      <td>Plzen - mesto</td>\n",
       "      <td>west Bohemia</td>\n",
       "      <td>12.046191</td>\n",
       "      <td>0</td>\n",
       "      <td>0</td>\n",
       "      <td>0</td>\n",
       "      <td>1</td>\n",
       "      <td>1</td>\n",
       "      <td>100.0</td>\n",
       "      <td>9.286097</td>\n",
       "      <td>131</td>\n",
       "      <td>0.170455</td>\n",
       "      <td>0.036418</td>\n",
       "    </tr>\n",
       "  </tbody>\n",
       "</table>\n",
       "<p>4500 rows × 21 columns</p>\n",
       "</div>"
      ],
      "text/plain": [
       "      account_id     issuance_freq  account_creation  disp_id  is_coowned  \\\n",
       "0            576  monthly issuance            930101      692        True   \n",
       "1           2484  monthly issuance            930103     2999       False   \n",
       "2           1338  monthly issuance            930111     1619        True   \n",
       "3           1179  monthly issuance            930123     1419        True   \n",
       "4           1649  monthly issuance            930126     1999       False   \n",
       "...          ...               ...               ...      ...         ...   \n",
       "4495        1976  monthly issuance            970325     2401       False   \n",
       "4496        3176  monthly issuance            970326     3841       False   \n",
       "4497         768  monthly issuance            970703      918       False   \n",
       "4498         307  monthly issuance            970807      374       False   \n",
       "4499        1608  monthly issuance            971008     1950       False   \n",
       "\n",
       "      is_male client_age  district_code    district_name         region  \\\n",
       "0       False      50-65             74  Ostrava - mesto  north Moravia   \n",
       "1       False       0-19             74  Ostrava - mesto  north Moravia   \n",
       "2       False      50-65             74  Ostrava - mesto  north Moravia   \n",
       "3       False    retired             74  Ostrava - mesto  north Moravia   \n",
       "4       False       0-19             74  Ostrava - mesto  north Moravia   \n",
       "...       ...        ...            ...              ...            ...   \n",
       "4495    False      50-65             26    Plzen - mesto   west Bohemia   \n",
       "4496     True    retired             26    Plzen - mesto   west Bohemia   \n",
       "4497     True      30-39             26    Plzen - mesto   west Bohemia   \n",
       "4498     True      30-39             26    Plzen - mesto   west Bohemia   \n",
       "4499     True    retired             26    Plzen - mesto   west Bohemia   \n",
       "\n",
       "      people_count  muni_499_count  muni_500-1999_count  muni_2000-9999_count  \\\n",
       "0        12.688097               0                    0                     0   \n",
       "1        12.688097               0                    0                     0   \n",
       "2        12.688097               0                    0                     0   \n",
       "3        12.688097               0                    0                     0   \n",
       "4        12.688097               0                    0                     0   \n",
       "...            ...             ...                  ...                   ...   \n",
       "4495     12.046191               0                    0                     0   \n",
       "4496     12.046191               0                    0                     0   \n",
       "4497     12.046191               0                    0                     0   \n",
       "4498     12.046191               0                    0                     0   \n",
       "4499     12.046191               0                    0                     0   \n",
       "\n",
       "      muni_10000_count  cities_count  ratio_urban_people  avg_salary  \\\n",
       "0                    1             1               100.0    9.275472   \n",
       "1                    1             1               100.0    9.275472   \n",
       "2                    1             1               100.0    9.275472   \n",
       "3                    1             1               100.0    9.275472   \n",
       "4                    1             1               100.0    9.275472   \n",
       "...                ...           ...                 ...         ...   \n",
       "4495                 1             1               100.0    9.286097   \n",
       "4496                 1             1               100.0    9.286097   \n",
       "4497                 1             1               100.0    9.286097   \n",
       "4498                 1             1               100.0    9.286097   \n",
       "4499                 1             1               100.0    9.286097   \n",
       "\n",
       "      enterp_per1000  unem_growth  crime_growth  \n",
       "0                100     0.145263     -0.023160  \n",
       "1                100     0.145263     -0.023160  \n",
       "2                100     0.145263     -0.023160  \n",
       "3                100     0.145263     -0.023160  \n",
       "4                100     0.145263     -0.023160  \n",
       "...              ...          ...           ...  \n",
       "4495             131     0.170455      0.036418  \n",
       "4496             131     0.170455      0.036418  \n",
       "4497             131     0.170455      0.036418  \n",
       "4498             131     0.170455      0.036418  \n",
       "4499             131     0.170455      0.036418  \n",
       "\n",
       "[4500 rows x 21 columns]"
      ]
     },
     "execution_count": 53,
     "metadata": {},
     "output_type": "execute_result"
    }
   ],
   "source": [
    "df = join(df, district_df, 'district_id_client', 'code', ['', '_district'])\n",
    "df.rename(columns={\"code\": \"district_code\", \"name\": \"district_name\"}, inplace=True)\n",
    "df.drop(['district_id', 'district_id_client'], axis=1, inplace=True)\n",
    "df"
   ]
  },
  {
   "cell_type": "markdown",
   "id": "ebec0ec7-4d70-4aa8-95e3-71a85949f882",
   "metadata": {},
   "source": [
    "### Join transactions"
   ]
  },
  {
   "cell_type": "markdown",
   "id": "48a286e3-2822-4820-ac28-491358c12730",
   "metadata": {},
   "source": [
    "// TODO"
   ]
  },
  {
   "cell_type": "markdown",
   "id": "255581b8-2cda-41d4-9236-0e6e49a4b08a",
   "metadata": {
    "tags": []
   },
   "source": [
    "### Join loan"
   ]
  },
  {
   "cell_type": "code",
   "execution_count": 54,
   "id": "8350b858-4d86-4a80-88e7-84708d52a92f",
   "metadata": {},
   "outputs": [
    {
     "data": {
      "text/html": [
       "<div>\n",
       "<style scoped>\n",
       "    .dataframe tbody tr th:only-of-type {\n",
       "        vertical-align: middle;\n",
       "    }\n",
       "\n",
       "    .dataframe tbody tr th {\n",
       "        vertical-align: top;\n",
       "    }\n",
       "\n",
       "    .dataframe thead th {\n",
       "        text-align: right;\n",
       "    }\n",
       "</style>\n",
       "<table border=\"1\" class=\"dataframe\">\n",
       "  <thead>\n",
       "    <tr style=\"text-align: right;\">\n",
       "      <th></th>\n",
       "      <th>issuance_freq</th>\n",
       "      <th>account_creation</th>\n",
       "      <th>disp_id</th>\n",
       "      <th>is_coowned</th>\n",
       "      <th>is_male</th>\n",
       "      <th>client_age</th>\n",
       "      <th>district_code</th>\n",
       "      <th>district_name</th>\n",
       "      <th>region</th>\n",
       "      <th>people_count</th>\n",
       "      <th>muni_499_count</th>\n",
       "      <th>muni_500-1999_count</th>\n",
       "      <th>muni_2000-9999_count</th>\n",
       "      <th>muni_10000_count</th>\n",
       "      <th>cities_count</th>\n",
       "      <th>ratio_urban_people</th>\n",
       "      <th>avg_salary</th>\n",
       "      <th>enterp_per1000</th>\n",
       "      <th>unem_growth</th>\n",
       "      <th>crime_growth</th>\n",
       "      <th>date</th>\n",
       "      <th>amount</th>\n",
       "      <th>duration</th>\n",
       "      <th>payments</th>\n",
       "      <th>status</th>\n",
       "      <th>year_loan</th>\n",
       "      <th>month_loan</th>\n",
       "    </tr>\n",
       "  </thead>\n",
       "  <tbody>\n",
       "    <tr>\n",
       "      <th>0</th>\n",
       "      <td>weekly issuance</td>\n",
       "      <td>930322</td>\n",
       "      <td>2166</td>\n",
       "      <td>False</td>\n",
       "      <td>False</td>\n",
       "      <td>50-65</td>\n",
       "      <td>30</td>\n",
       "      <td>Sokolov</td>\n",
       "      <td>west Bohemia</td>\n",
       "      <td>11.459651</td>\n",
       "      <td>15</td>\n",
       "      <td>13</td>\n",
       "      <td>8</td>\n",
       "      <td>2</td>\n",
       "      <td>10</td>\n",
       "      <td>81.8</td>\n",
       "      <td>9.174713</td>\n",
       "      <td>100</td>\n",
       "      <td>0.085799</td>\n",
       "      <td>-0.060637</td>\n",
       "      <td>930705</td>\n",
       "      <td>96396</td>\n",
       "      <td>12</td>\n",
       "      <td>8033</td>\n",
       "      <td>-1</td>\n",
       "      <td>93</td>\n",
       "      <td>7</td>\n",
       "    </tr>\n",
       "    <tr>\n",
       "      <th>1</th>\n",
       "      <td>monthly issuance</td>\n",
       "      <td>930213</td>\n",
       "      <td>2181</td>\n",
       "      <td>False</td>\n",
       "      <td>True</td>\n",
       "      <td>30-39</td>\n",
       "      <td>46</td>\n",
       "      <td>Nachod</td>\n",
       "      <td>east Bohemia</td>\n",
       "      <td>11.632565</td>\n",
       "      <td>48</td>\n",
       "      <td>20</td>\n",
       "      <td>7</td>\n",
       "      <td>3</td>\n",
       "      <td>10</td>\n",
       "      <td>73.5</td>\n",
       "      <td>9.032290</td>\n",
       "      <td>117</td>\n",
       "      <td>0.290503</td>\n",
       "      <td>-0.082691</td>\n",
       "      <td>930711</td>\n",
       "      <td>165960</td>\n",
       "      <td>36</td>\n",
       "      <td>4610</td>\n",
       "      <td>1</td>\n",
       "      <td>93</td>\n",
       "      <td>7</td>\n",
       "    </tr>\n",
       "    <tr>\n",
       "      <th>2</th>\n",
       "      <td>monthly issuance</td>\n",
       "      <td>930208</td>\n",
       "      <td>11006</td>\n",
       "      <td>False</td>\n",
       "      <td>True</td>\n",
       "      <td>50-65</td>\n",
       "      <td>45</td>\n",
       "      <td>Jicin</td>\n",
       "      <td>east Bohemia</td>\n",
       "      <td>11.263399</td>\n",
       "      <td>85</td>\n",
       "      <td>19</td>\n",
       "      <td>6</td>\n",
       "      <td>1</td>\n",
       "      <td>5</td>\n",
       "      <td>53.5</td>\n",
       "      <td>9.034796</td>\n",
       "      <td>132</td>\n",
       "      <td>0.267544</td>\n",
       "      <td>0.020192</td>\n",
       "      <td>930728</td>\n",
       "      <td>127080</td>\n",
       "      <td>60</td>\n",
       "      <td>2118</td>\n",
       "      <td>1</td>\n",
       "      <td>93</td>\n",
       "      <td>7</td>\n",
       "    </tr>\n",
       "    <tr>\n",
       "      <th>3</th>\n",
       "      <td>monthly issuance</td>\n",
       "      <td>930130</td>\n",
       "      <td>2235</td>\n",
       "      <td>False</td>\n",
       "      <td>False</td>\n",
       "      <td>50-65</td>\n",
       "      <td>14</td>\n",
       "      <td>Ceske Budejovice</td>\n",
       "      <td>south Bohemia</td>\n",
       "      <td>12.087773</td>\n",
       "      <td>69</td>\n",
       "      <td>27</td>\n",
       "      <td>10</td>\n",
       "      <td>1</td>\n",
       "      <td>9</td>\n",
       "      <td>74.8</td>\n",
       "      <td>9.214830</td>\n",
       "      <td>135</td>\n",
       "      <td>0.204225</td>\n",
       "      <td>-0.046790</td>\n",
       "      <td>930803</td>\n",
       "      <td>105804</td>\n",
       "      <td>36</td>\n",
       "      <td>2939</td>\n",
       "      <td>1</td>\n",
       "      <td>93</td>\n",
       "      <td>8</td>\n",
       "    </tr>\n",
       "    <tr>\n",
       "      <th>4</th>\n",
       "      <td>weekly issuance</td>\n",
       "      <td>930214</td>\n",
       "      <td>13231</td>\n",
       "      <td>False</td>\n",
       "      <td>True</td>\n",
       "      <td>20-29</td>\n",
       "      <td>63</td>\n",
       "      <td>Vyskov</td>\n",
       "      <td>south Moravia</td>\n",
       "      <td>11.368050</td>\n",
       "      <td>38</td>\n",
       "      <td>36</td>\n",
       "      <td>5</td>\n",
       "      <td>1</td>\n",
       "      <td>5</td>\n",
       "      <td>50.5</td>\n",
       "      <td>9.022564</td>\n",
       "      <td>110</td>\n",
       "      <td>0.192612</td>\n",
       "      <td>-0.065301</td>\n",
       "      <td>930906</td>\n",
       "      <td>274740</td>\n",
       "      <td>60</td>\n",
       "      <td>4579</td>\n",
       "      <td>1</td>\n",
       "      <td>93</td>\n",
       "      <td>9</td>\n",
       "    </tr>\n",
       "    <tr>\n",
       "      <th>...</th>\n",
       "      <td>...</td>\n",
       "      <td>...</td>\n",
       "      <td>...</td>\n",
       "      <td>...</td>\n",
       "      <td>...</td>\n",
       "      <td>...</td>\n",
       "      <td>...</td>\n",
       "      <td>...</td>\n",
       "      <td>...</td>\n",
       "      <td>...</td>\n",
       "      <td>...</td>\n",
       "      <td>...</td>\n",
       "      <td>...</td>\n",
       "      <td>...</td>\n",
       "      <td>...</td>\n",
       "      <td>...</td>\n",
       "      <td>...</td>\n",
       "      <td>...</td>\n",
       "      <td>...</td>\n",
       "      <td>...</td>\n",
       "      <td>...</td>\n",
       "      <td>...</td>\n",
       "      <td>...</td>\n",
       "      <td>...</td>\n",
       "      <td>...</td>\n",
       "      <td>...</td>\n",
       "      <td>...</td>\n",
       "    </tr>\n",
       "    <tr>\n",
       "      <th>323</th>\n",
       "      <td>monthly issuance</td>\n",
       "      <td>950121</td>\n",
       "      <td>10813</td>\n",
       "      <td>True</td>\n",
       "      <td>False</td>\n",
       "      <td>20-29</td>\n",
       "      <td>72</td>\n",
       "      <td>Olomouc</td>\n",
       "      <td>north Moravia</td>\n",
       "      <td>12.328830</td>\n",
       "      <td>32</td>\n",
       "      <td>50</td>\n",
       "      <td>7</td>\n",
       "      <td>4</td>\n",
       "      <td>4</td>\n",
       "      <td>62.6</td>\n",
       "      <td>9.104313</td>\n",
       "      <td>110</td>\n",
       "      <td>0.260526</td>\n",
       "      <td>-0.047974</td>\n",
       "      <td>961212</td>\n",
       "      <td>155616</td>\n",
       "      <td>48</td>\n",
       "      <td>3242</td>\n",
       "      <td>1</td>\n",
       "      <td>96</td>\n",
       "      <td>12</td>\n",
       "    </tr>\n",
       "    <tr>\n",
       "      <th>324</th>\n",
       "      <td>monthly issuance</td>\n",
       "      <td>951129</td>\n",
       "      <td>3855</td>\n",
       "      <td>False</td>\n",
       "      <td>True</td>\n",
       "      <td>50-65</td>\n",
       "      <td>29</td>\n",
       "      <td>Rokycany</td>\n",
       "      <td>west Bohemia</td>\n",
       "      <td>10.730160</td>\n",
       "      <td>52</td>\n",
       "      <td>10</td>\n",
       "      <td>5</td>\n",
       "      <td>1</td>\n",
       "      <td>6</td>\n",
       "      <td>55.6</td>\n",
       "      <td>9.087381</td>\n",
       "      <td>113</td>\n",
       "      <td>0.276596</td>\n",
       "      <td>0.085575</td>\n",
       "      <td>961215</td>\n",
       "      <td>222180</td>\n",
       "      <td>60</td>\n",
       "      <td>3703</td>\n",
       "      <td>-1</td>\n",
       "      <td>96</td>\n",
       "      <td>12</td>\n",
       "    </tr>\n",
       "    <tr>\n",
       "      <th>325</th>\n",
       "      <td>monthly issuance</td>\n",
       "      <td>960521</td>\n",
       "      <td>10742</td>\n",
       "      <td>False</td>\n",
       "      <td>False</td>\n",
       "      <td>40-49</td>\n",
       "      <td>70</td>\n",
       "      <td>Karvina</td>\n",
       "      <td>north Moravia</td>\n",
       "      <td>12.561601</td>\n",
       "      <td>0</td>\n",
       "      <td>2</td>\n",
       "      <td>8</td>\n",
       "      <td>5</td>\n",
       "      <td>7</td>\n",
       "      <td>89.9</td>\n",
       "      <td>9.227886</td>\n",
       "      <td>81</td>\n",
       "      <td>0.168929</td>\n",
       "      <td>0.023284</td>\n",
       "      <td>961221</td>\n",
       "      <td>45024</td>\n",
       "      <td>48</td>\n",
       "      <td>938</td>\n",
       "      <td>1</td>\n",
       "      <td>96</td>\n",
       "      <td>12</td>\n",
       "    </tr>\n",
       "    <tr>\n",
       "      <th>326</th>\n",
       "      <td>monthly issuance</td>\n",
       "      <td>950520</td>\n",
       "      <td>13172</td>\n",
       "      <td>False</td>\n",
       "      <td>True</td>\n",
       "      <td>40-49</td>\n",
       "      <td>16</td>\n",
       "      <td>Jindrichuv Hradec</td>\n",
       "      <td>south Bohemia</td>\n",
       "      <td>11.450316</td>\n",
       "      <td>74</td>\n",
       "      <td>21</td>\n",
       "      <td>10</td>\n",
       "      <td>1</td>\n",
       "      <td>8</td>\n",
       "      <td>56.9</td>\n",
       "      <td>9.039196</td>\n",
       "      <td>107</td>\n",
       "      <td>0.375000</td>\n",
       "      <td>0.020811</td>\n",
       "      <td>961225</td>\n",
       "      <td>115812</td>\n",
       "      <td>36</td>\n",
       "      <td>3217</td>\n",
       "      <td>1</td>\n",
       "      <td>96</td>\n",
       "      <td>12</td>\n",
       "    </tr>\n",
       "    <tr>\n",
       "      <th>327</th>\n",
       "      <td>monthly issuance</td>\n",
       "      <td>951014</td>\n",
       "      <td>13663</td>\n",
       "      <td>False</td>\n",
       "      <td>False</td>\n",
       "      <td>30-39</td>\n",
       "      <td>67</td>\n",
       "      <td>Bruntal</td>\n",
       "      <td>north Moravia</td>\n",
       "      <td>11.571704</td>\n",
       "      <td>38</td>\n",
       "      <td>25</td>\n",
       "      <td>6</td>\n",
       "      <td>2</td>\n",
       "      <td>6</td>\n",
       "      <td>63.1</td>\n",
       "      <td>9.000853</td>\n",
       "      <td>109</td>\n",
       "      <td>0.135182</td>\n",
       "      <td>-0.050863</td>\n",
       "      <td>961227</td>\n",
       "      <td>129408</td>\n",
       "      <td>24</td>\n",
       "      <td>5392</td>\n",
       "      <td>1</td>\n",
       "      <td>96</td>\n",
       "      <td>12</td>\n",
       "    </tr>\n",
       "  </tbody>\n",
       "</table>\n",
       "<p>328 rows × 27 columns</p>\n",
       "</div>"
      ],
      "text/plain": [
       "        issuance_freq  account_creation  disp_id  is_coowned  is_male  \\\n",
       "0     weekly issuance            930322     2166       False    False   \n",
       "1    monthly issuance            930213     2181       False     True   \n",
       "2    monthly issuance            930208    11006       False     True   \n",
       "3    monthly issuance            930130     2235       False    False   \n",
       "4     weekly issuance            930214    13231       False     True   \n",
       "..                ...               ...      ...         ...      ...   \n",
       "323  monthly issuance            950121    10813        True    False   \n",
       "324  monthly issuance            951129     3855       False     True   \n",
       "325  monthly issuance            960521    10742       False    False   \n",
       "326  monthly issuance            950520    13172       False     True   \n",
       "327  monthly issuance            951014    13663       False    False   \n",
       "\n",
       "    client_age  district_code      district_name         region  people_count  \\\n",
       "0        50-65             30            Sokolov   west Bohemia     11.459651   \n",
       "1        30-39             46             Nachod   east Bohemia     11.632565   \n",
       "2        50-65             45              Jicin   east Bohemia     11.263399   \n",
       "3        50-65             14   Ceske Budejovice  south Bohemia     12.087773   \n",
       "4        20-29             63             Vyskov  south Moravia     11.368050   \n",
       "..         ...            ...                ...            ...           ...   \n",
       "323      20-29             72            Olomouc  north Moravia     12.328830   \n",
       "324      50-65             29           Rokycany   west Bohemia     10.730160   \n",
       "325      40-49             70            Karvina  north Moravia     12.561601   \n",
       "326      40-49             16  Jindrichuv Hradec  south Bohemia     11.450316   \n",
       "327      30-39             67            Bruntal  north Moravia     11.571704   \n",
       "\n",
       "     muni_499_count  muni_500-1999_count  muni_2000-9999_count  \\\n",
       "0                15                   13                     8   \n",
       "1                48                   20                     7   \n",
       "2                85                   19                     6   \n",
       "3                69                   27                    10   \n",
       "4                38                   36                     5   \n",
       "..              ...                  ...                   ...   \n",
       "323              32                   50                     7   \n",
       "324              52                   10                     5   \n",
       "325               0                    2                     8   \n",
       "326              74                   21                    10   \n",
       "327              38                   25                     6   \n",
       "\n",
       "     muni_10000_count  cities_count  ratio_urban_people  avg_salary  \\\n",
       "0                   2            10                81.8    9.174713   \n",
       "1                   3            10                73.5    9.032290   \n",
       "2                   1             5                53.5    9.034796   \n",
       "3                   1             9                74.8    9.214830   \n",
       "4                   1             5                50.5    9.022564   \n",
       "..                ...           ...                 ...         ...   \n",
       "323                 4             4                62.6    9.104313   \n",
       "324                 1             6                55.6    9.087381   \n",
       "325                 5             7                89.9    9.227886   \n",
       "326                 1             8                56.9    9.039196   \n",
       "327                 2             6                63.1    9.000853   \n",
       "\n",
       "     enterp_per1000  unem_growth  crime_growth    date  amount  duration  \\\n",
       "0               100     0.085799     -0.060637  930705   96396        12   \n",
       "1               117     0.290503     -0.082691  930711  165960        36   \n",
       "2               132     0.267544      0.020192  930728  127080        60   \n",
       "3               135     0.204225     -0.046790  930803  105804        36   \n",
       "4               110     0.192612     -0.065301  930906  274740        60   \n",
       "..              ...          ...           ...     ...     ...       ...   \n",
       "323             110     0.260526     -0.047974  961212  155616        48   \n",
       "324             113     0.276596      0.085575  961215  222180        60   \n",
       "325              81     0.168929      0.023284  961221   45024        48   \n",
       "326             107     0.375000      0.020811  961225  115812        36   \n",
       "327             109     0.135182     -0.050863  961227  129408        24   \n",
       "\n",
       "     payments  status  year_loan  month_loan  \n",
       "0        8033      -1         93           7  \n",
       "1        4610       1         93           7  \n",
       "2        2118       1         93           7  \n",
       "3        2939       1         93           8  \n",
       "4        4579       1         93           9  \n",
       "..        ...     ...        ...         ...  \n",
       "323      3242       1         96          12  \n",
       "324      3703      -1         96          12  \n",
       "325       938       1         96          12  \n",
       "326      3217       1         96          12  \n",
       "327      5392       1         96          12  \n",
       "\n",
       "[328 rows x 27 columns]"
      ]
     },
     "execution_count": 54,
     "metadata": {},
     "output_type": "execute_result"
    }
   ],
   "source": [
    "df = join(df, loan_df, 'account_id', 'account_id', ['', '_loan'], t=\"right\")\n",
    "df.drop(['account_id', 'loan_id'], axis=1, inplace=True)\n",
    "df"
   ]
  },
  {
   "cell_type": "markdown",
   "id": "12f3ff4f-698c-4f43-af19-58bafaee8e89",
   "metadata": {
    "tags": []
   },
   "source": [
    "### Join card"
   ]
  },
  {
   "cell_type": "code",
   "execution_count": 55,
   "id": "301fef51-9018-460b-b341-68fef219ec7a",
   "metadata": {},
   "outputs": [
    {
     "data": {
      "text/html": [
       "<div>\n",
       "<style scoped>\n",
       "    .dataframe tbody tr th:only-of-type {\n",
       "        vertical-align: middle;\n",
       "    }\n",
       "\n",
       "    .dataframe tbody tr th {\n",
       "        vertical-align: top;\n",
       "    }\n",
       "\n",
       "    .dataframe thead th {\n",
       "        text-align: right;\n",
       "    }\n",
       "</style>\n",
       "<table border=\"1\" class=\"dataframe\">\n",
       "  <thead>\n",
       "    <tr style=\"text-align: right;\">\n",
       "      <th></th>\n",
       "      <th>issuance_freq</th>\n",
       "      <th>account_creation</th>\n",
       "      <th>disp_id</th>\n",
       "      <th>is_coowned</th>\n",
       "      <th>is_male</th>\n",
       "      <th>client_age</th>\n",
       "      <th>district_code</th>\n",
       "      <th>district_name</th>\n",
       "      <th>region</th>\n",
       "      <th>people_count</th>\n",
       "      <th>muni_499_count</th>\n",
       "      <th>muni_500-1999_count</th>\n",
       "      <th>muni_2000-9999_count</th>\n",
       "      <th>muni_10000_count</th>\n",
       "      <th>cities_count</th>\n",
       "      <th>ratio_urban_people</th>\n",
       "      <th>avg_salary</th>\n",
       "      <th>enterp_per1000</th>\n",
       "      <th>unem_growth</th>\n",
       "      <th>crime_growth</th>\n",
       "      <th>date</th>\n",
       "      <th>amount</th>\n",
       "      <th>duration</th>\n",
       "      <th>payments</th>\n",
       "      <th>status</th>\n",
       "      <th>year_loan</th>\n",
       "      <th>month_loan</th>\n",
       "    </tr>\n",
       "  </thead>\n",
       "  <tbody>\n",
       "    <tr>\n",
       "      <th>20</th>\n",
       "      <td>monthly issuance</td>\n",
       "      <td>930226</td>\n",
       "      <td>2</td>\n",
       "      <td>True</td>\n",
       "      <td>True</td>\n",
       "      <td>50-65</td>\n",
       "      <td>1</td>\n",
       "      <td>Hl.m. Praha</td>\n",
       "      <td>Prague</td>\n",
       "      <td>14.001951</td>\n",
       "      <td>0</td>\n",
       "      <td>0</td>\n",
       "      <td>0</td>\n",
       "      <td>1</td>\n",
       "      <td>1</td>\n",
       "      <td>100.0</td>\n",
       "      <td>9.436759</td>\n",
       "      <td>167</td>\n",
       "      <td>0.482759</td>\n",
       "      <td>0.156752</td>\n",
       "      <td>940105</td>\n",
       "      <td>80952</td>\n",
       "      <td>24</td>\n",
       "      <td>3373</td>\n",
       "      <td>1</td>\n",
       "      <td>94</td>\n",
       "      <td>1</td>\n",
       "    </tr>\n",
       "    <tr>\n",
       "      <th>21</th>\n",
       "      <td>monthly issuance</td>\n",
       "      <td>930226</td>\n",
       "      <td>8865</td>\n",
       "      <td>True</td>\n",
       "      <td>True</td>\n",
       "      <td>50-65</td>\n",
       "      <td>1</td>\n",
       "      <td>Hl.m. Praha</td>\n",
       "      <td>Prague</td>\n",
       "      <td>14.001951</td>\n",
       "      <td>0</td>\n",
       "      <td>0</td>\n",
       "      <td>0</td>\n",
       "      <td>1</td>\n",
       "      <td>1</td>\n",
       "      <td>100.0</td>\n",
       "      <td>9.436759</td>\n",
       "      <td>167</td>\n",
       "      <td>0.482759</td>\n",
       "      <td>0.156752</td>\n",
       "      <td>940105</td>\n",
       "      <td>80952</td>\n",
       "      <td>24</td>\n",
       "      <td>3373</td>\n",
       "      <td>1</td>\n",
       "      <td>94</td>\n",
       "      <td>1</td>\n",
       "    </tr>\n",
       "  </tbody>\n",
       "</table>\n",
       "</div>"
      ],
      "text/plain": [
       "       issuance_freq  account_creation  disp_id  is_coowned  is_male  \\\n",
       "20  monthly issuance            930226        2        True     True   \n",
       "21  monthly issuance            930226     8865        True     True   \n",
       "\n",
       "   client_age  district_code district_name  region  people_count  \\\n",
       "20      50-65              1   Hl.m. Praha  Prague     14.001951   \n",
       "21      50-65              1   Hl.m. Praha  Prague     14.001951   \n",
       "\n",
       "    muni_499_count  muni_500-1999_count  muni_2000-9999_count  \\\n",
       "20               0                    0                     0   \n",
       "21               0                    0                     0   \n",
       "\n",
       "    muni_10000_count  cities_count  ratio_urban_people  avg_salary  \\\n",
       "20                 1             1               100.0    9.436759   \n",
       "21                 1             1               100.0    9.436759   \n",
       "\n",
       "    enterp_per1000  unem_growth  crime_growth    date  amount  duration  \\\n",
       "20             167     0.482759      0.156752  940105   80952        24   \n",
       "21             167     0.482759      0.156752  940105   80952        24   \n",
       "\n",
       "    payments  status  year_loan  month_loan  \n",
       "20      3373       1         94           1  \n",
       "21      3373       1         94           1  "
      ]
     },
     "execution_count": 55,
     "metadata": {},
     "output_type": "execute_result"
    }
   ],
   "source": [
    "df[df.account_creation == 930226]"
   ]
  },
  {
   "cell_type": "code",
   "execution_count": 56,
   "id": "ee96e36d-36cf-4a1b-be64-70408989a82d",
   "metadata": {},
   "outputs": [
    {
     "data": {
      "text/html": [
       "<div>\n",
       "<style scoped>\n",
       "    .dataframe tbody tr th:only-of-type {\n",
       "        vertical-align: middle;\n",
       "    }\n",
       "\n",
       "    .dataframe tbody tr th {\n",
       "        vertical-align: top;\n",
       "    }\n",
       "\n",
       "    .dataframe thead th {\n",
       "        text-align: right;\n",
       "    }\n",
       "</style>\n",
       "<table border=\"1\" class=\"dataframe\">\n",
       "  <thead>\n",
       "    <tr style=\"text-align: right;\">\n",
       "      <th></th>\n",
       "      <th>account_id</th>\n",
       "      <th>district_id</th>\n",
       "      <th>frequency</th>\n",
       "      <th>date</th>\n",
       "    </tr>\n",
       "  </thead>\n",
       "  <tbody>\n",
       "    <tr>\n",
       "      <th>181</th>\n",
       "      <td>496</td>\n",
       "      <td>69</td>\n",
       "      <td>monthly issuance</td>\n",
       "      <td>930226</td>\n",
       "    </tr>\n",
       "    <tr>\n",
       "      <th>182</th>\n",
       "      <td>2</td>\n",
       "      <td>1</td>\n",
       "      <td>monthly issuance</td>\n",
       "      <td>930226</td>\n",
       "    </tr>\n",
       "    <tr>\n",
       "      <th>183</th>\n",
       "      <td>7401</td>\n",
       "      <td>1</td>\n",
       "      <td>monthly issuance</td>\n",
       "      <td>930226</td>\n",
       "    </tr>\n",
       "  </tbody>\n",
       "</table>\n",
       "</div>"
      ],
      "text/plain": [
       "     account_id  district_id         frequency    date\n",
       "181         496           69  monthly issuance  930226\n",
       "182           2            1  monthly issuance  930226\n",
       "183        7401            1  monthly issuance  930226"
      ]
     },
     "execution_count": 56,
     "metadata": {},
     "output_type": "execute_result"
    }
   ],
   "source": [
    "account_df[account_df.date == 930226]"
   ]
  },
  {
   "cell_type": "markdown",
   "id": "7a92ba1d-9c7b-4e83-8639-7edf2d2bdad5",
   "metadata": {},
   "source": [
    "// TODO"
   ]
  },
  {
   "cell_type": "code",
   "execution_count": 57,
   "id": "b19f075b-cc8c-4c03-8340-ee30c8667d23",
   "metadata": {},
   "outputs": [],
   "source": [
    "df.drop(['disp_id'], axis=1, inplace=True)"
   ]
  },
  {
   "cell_type": "markdown",
   "id": "cd33e51b-7b78-49c2-bc07-b099804e8c3c",
   "metadata": {},
   "source": [
    "### Look for duplicated rows"
   ]
  },
  {
   "cell_type": "markdown",
   "id": "5ca3d060-9c56-441b-a0b6-22f2287609d1",
   "metadata": {},
   "source": [
    "// TODO\n",
    "there are dups becase we dropped the disp_id above without joining the actual card table."
   ]
  },
  {
   "cell_type": "code",
   "execution_count": 58,
   "id": "79f20642-798f-41d8-a018-2387fbfff3a8",
   "metadata": {},
   "outputs": [
    {
     "data": {
      "text/html": [
       "<div>\n",
       "<style scoped>\n",
       "    .dataframe tbody tr th:only-of-type {\n",
       "        vertical-align: middle;\n",
       "    }\n",
       "\n",
       "    .dataframe tbody tr th {\n",
       "        vertical-align: top;\n",
       "    }\n",
       "\n",
       "    .dataframe thead th {\n",
       "        text-align: right;\n",
       "    }\n",
       "</style>\n",
       "<table border=\"1\" class=\"dataframe\">\n",
       "  <thead>\n",
       "    <tr style=\"text-align: right;\">\n",
       "      <th></th>\n",
       "      <th>issuance_freq</th>\n",
       "      <th>account_creation</th>\n",
       "      <th>is_coowned</th>\n",
       "      <th>is_male</th>\n",
       "      <th>client_age</th>\n",
       "      <th>district_code</th>\n",
       "      <th>district_name</th>\n",
       "      <th>region</th>\n",
       "      <th>people_count</th>\n",
       "      <th>muni_499_count</th>\n",
       "      <th>muni_500-1999_count</th>\n",
       "      <th>muni_2000-9999_count</th>\n",
       "      <th>muni_10000_count</th>\n",
       "      <th>cities_count</th>\n",
       "      <th>ratio_urban_people</th>\n",
       "      <th>avg_salary</th>\n",
       "      <th>enterp_per1000</th>\n",
       "      <th>unem_growth</th>\n",
       "      <th>crime_growth</th>\n",
       "      <th>date</th>\n",
       "      <th>amount</th>\n",
       "      <th>duration</th>\n",
       "      <th>payments</th>\n",
       "      <th>status</th>\n",
       "      <th>year_loan</th>\n",
       "      <th>month_loan</th>\n",
       "    </tr>\n",
       "  </thead>\n",
       "  <tbody>\n",
       "    <tr>\n",
       "      <th>21</th>\n",
       "      <td>monthly issuance</td>\n",
       "      <td>930226</td>\n",
       "      <td>True</td>\n",
       "      <td>True</td>\n",
       "      <td>50-65</td>\n",
       "      <td>1</td>\n",
       "      <td>Hl.m. Praha</td>\n",
       "      <td>Prague</td>\n",
       "      <td>14.001951</td>\n",
       "      <td>0</td>\n",
       "      <td>0</td>\n",
       "      <td>0</td>\n",
       "      <td>1</td>\n",
       "      <td>1</td>\n",
       "      <td>100.0</td>\n",
       "      <td>9.436759</td>\n",
       "      <td>167</td>\n",
       "      <td>0.482759</td>\n",
       "      <td>0.156752</td>\n",
       "      <td>940105</td>\n",
       "      <td>80952</td>\n",
       "      <td>24</td>\n",
       "      <td>3373</td>\n",
       "      <td>1</td>\n",
       "      <td>94</td>\n",
       "      <td>1</td>\n",
       "    </tr>\n",
       "    <tr>\n",
       "      <th>239</th>\n",
       "      <td>monthly issuance</td>\n",
       "      <td>950407</td>\n",
       "      <td>False</td>\n",
       "      <td>False</td>\n",
       "      <td>50-65</td>\n",
       "      <td>21</td>\n",
       "      <td>Tabor</td>\n",
       "      <td>south Bohemia</td>\n",
       "      <td>11.545848</td>\n",
       "      <td>87</td>\n",
       "      <td>16</td>\n",
       "      <td>7</td>\n",
       "      <td>1</td>\n",
       "      <td>7</td>\n",
       "      <td>67.0</td>\n",
       "      <td>9.116469</td>\n",
       "      <td>123</td>\n",
       "      <td>0.370861</td>\n",
       "      <td>0.023923</td>\n",
       "      <td>960429</td>\n",
       "      <td>30276</td>\n",
       "      <td>12</td>\n",
       "      <td>2523</td>\n",
       "      <td>-1</td>\n",
       "      <td>96</td>\n",
       "      <td>4</td>\n",
       "    </tr>\n",
       "    <tr>\n",
       "      <th>267</th>\n",
       "      <td>monthly issuance</td>\n",
       "      <td>951109</td>\n",
       "      <td>True</td>\n",
       "      <td>False</td>\n",
       "      <td>20-29</td>\n",
       "      <td>60</td>\n",
       "      <td>Prostejov</td>\n",
       "      <td>south Moravia</td>\n",
       "      <td>11.614064</td>\n",
       "      <td>49</td>\n",
       "      <td>41</td>\n",
       "      <td>4</td>\n",
       "      <td>1</td>\n",
       "      <td>4</td>\n",
       "      <td>51.9</td>\n",
       "      <td>9.040856</td>\n",
       "      <td>115</td>\n",
       "      <td>0.298551</td>\n",
       "      <td>0.198510</td>\n",
       "      <td>960802</td>\n",
       "      <td>89340</td>\n",
       "      <td>60</td>\n",
       "      <td>1489</td>\n",
       "      <td>1</td>\n",
       "      <td>96</td>\n",
       "      <td>8</td>\n",
       "    </tr>\n",
       "    <tr>\n",
       "      <th>304</th>\n",
       "      <td>monthly issuance</td>\n",
       "      <td>960306</td>\n",
       "      <td>False</td>\n",
       "      <td>False</td>\n",
       "      <td>50-65</td>\n",
       "      <td>70</td>\n",
       "      <td>Karvina</td>\n",
       "      <td>north Moravia</td>\n",
       "      <td>12.561601</td>\n",
       "      <td>0</td>\n",
       "      <td>2</td>\n",
       "      <td>8</td>\n",
       "      <td>5</td>\n",
       "      <td>7</td>\n",
       "      <td>89.9</td>\n",
       "      <td>9.227886</td>\n",
       "      <td>81</td>\n",
       "      <td>0.168929</td>\n",
       "      <td>0.023284</td>\n",
       "      <td>961029</td>\n",
       "      <td>86184</td>\n",
       "      <td>12</td>\n",
       "      <td>7182</td>\n",
       "      <td>1</td>\n",
       "      <td>96</td>\n",
       "      <td>10</td>\n",
       "    </tr>\n",
       "  </tbody>\n",
       "</table>\n",
       "</div>"
      ],
      "text/plain": [
       "        issuance_freq  account_creation  is_coowned  is_male client_age  \\\n",
       "21   monthly issuance            930226        True     True      50-65   \n",
       "239  monthly issuance            950407       False    False      50-65   \n",
       "267  monthly issuance            951109        True    False      20-29   \n",
       "304  monthly issuance            960306       False    False      50-65   \n",
       "\n",
       "     district_code district_name         region  people_count  muni_499_count  \\\n",
       "21               1   Hl.m. Praha         Prague     14.001951               0   \n",
       "239             21         Tabor  south Bohemia     11.545848              87   \n",
       "267             60     Prostejov  south Moravia     11.614064              49   \n",
       "304             70       Karvina  north Moravia     12.561601               0   \n",
       "\n",
       "     muni_500-1999_count  muni_2000-9999_count  muni_10000_count  \\\n",
       "21                     0                     0                 1   \n",
       "239                   16                     7                 1   \n",
       "267                   41                     4                 1   \n",
       "304                    2                     8                 5   \n",
       "\n",
       "     cities_count  ratio_urban_people  avg_salary  enterp_per1000  \\\n",
       "21              1               100.0    9.436759             167   \n",
       "239             7                67.0    9.116469             123   \n",
       "267             4                51.9    9.040856             115   \n",
       "304             7                89.9    9.227886              81   \n",
       "\n",
       "     unem_growth  crime_growth    date  amount  duration  payments  status  \\\n",
       "21      0.482759      0.156752  940105   80952        24      3373       1   \n",
       "239     0.370861      0.023923  960429   30276        12      2523      -1   \n",
       "267     0.298551      0.198510  960802   89340        60      1489       1   \n",
       "304     0.168929      0.023284  961029   86184        12      7182       1   \n",
       "\n",
       "     year_loan  month_loan  \n",
       "21          94           1  \n",
       "239         96           4  \n",
       "267         96           8  \n",
       "304         96          10  "
      ]
     },
     "execution_count": 58,
     "metadata": {},
     "output_type": "execute_result"
    }
   ],
   "source": [
    "df.drop(df.drop_duplicates().index)"
   ]
  },
  {
   "cell_type": "markdown",
   "id": "72b1af34-960e-4b43-9a1f-05a92dcd721c",
   "metadata": {},
   "source": [
    "### Save joined data"
   ]
  },
  {
   "cell_type": "code",
   "execution_count": 59,
   "id": "20a0417f-4971-4bbc-b2f9-b98a82a05a40",
   "metadata": {},
   "outputs": [],
   "source": [
    "train_data_join='cool_data/train-data-join.csv'\n",
    "df.to_csv(train_data_join, index=False)"
   ]
  },
  {
   "cell_type": "markdown",
   "id": "feaf68f8-7804-43c8-ad6b-03d3df473a1e",
   "metadata": {},
   "source": [
    "## Deal with categorical data"
   ]
  },
  {
   "cell_type": "code",
   "execution_count": 60,
   "id": "42616b12-04b2-4fef-907e-8cc13723e081",
   "metadata": {},
   "outputs": [
    {
     "data": {
      "text/plain": [
       "issuance_freq             object\n",
       "account_creation           int64\n",
       "is_coowned                  bool\n",
       "is_male                     bool\n",
       "client_age              category\n",
       "district_code              int64\n",
       "district_name             object\n",
       "region                    object\n",
       "people_count             float64\n",
       "muni_499_count             int64\n",
       "muni_500-1999_count        int64\n",
       "muni_2000-9999_count       int64\n",
       "muni_10000_count           int64\n",
       "cities_count               int64\n",
       "ratio_urban_people       float64\n",
       "avg_salary               float64\n",
       "enterp_per1000             int64\n",
       "unem_growth              float64\n",
       "crime_growth             float64\n",
       "date                       int64\n",
       "amount                     int64\n",
       "duration                   int64\n",
       "payments                   int64\n",
       "status                     int64\n",
       "year_loan                  int64\n",
       "month_loan                 int64\n",
       "dtype: object"
      ]
     },
     "execution_count": 60,
     "metadata": {},
     "output_type": "execute_result"
    }
   ],
   "source": [
    "df.dtypes"
   ]
  },
  {
   "cell_type": "markdown",
   "id": "a056e0cd-67a9-467e-80eb-8935e4c55970",
   "metadata": {},
   "source": [
    "### Issuance frequency"
   ]
  },
  {
   "cell_type": "markdown",
   "id": "ad2627ba-fd35-474f-b315-be3edd2a8ae3",
   "metadata": {},
   "source": [
    "The frequency is categorical data. Let's look at the cardinality of the attribute and whether it has an implicit order."
   ]
  },
  {
   "cell_type": "code",
   "execution_count": 61,
   "id": "0d142d82-b367-4b68-add8-039b3217d04a",
   "metadata": {},
   "outputs": [
    {
     "data": {
      "text/plain": [
       "monthly issuance              259\n",
       "weekly issuance                51\n",
       "issuance after transaction     18\n",
       "Name: issuance_freq, dtype: int64"
      ]
     },
     "execution_count": 61,
     "metadata": {},
     "output_type": "execute_result"
    }
   ],
   "source": [
    "df['issuance_freq'].value_counts()"
   ]
  },
  {
   "cell_type": "markdown",
   "id": "fdd47924-e816-41eb-862d-c2ea4c3d0559",
   "metadata": {},
   "source": [
    "There are 3  possible values for the **frquency attribute**: _monthly issuance_, _weekly issuance_, _issuance_ after transation. There is an implicit order between weekly and monthly, but with _issuance after transation_ it isn't so obvious. It was decided that, since it is expected that people do more than 1 transaction per week, _issuance after transation_ also relates to the other 2 in terms of time.\n",
    "\n",
    "When considering the time intervals between transations: _issuance after transation_ < _weekly issuance_ < _monthly issuance_.\n",
    "\n",
    "There is also a magnitude difference between all of them, e.g.: monthly is around 4 times more frequent than weekly. This raises the issue of how much more frequent is _issuance after transaction_ than _weekly issuance_. Let's assume the _weekly issuance_ is 7 time less frequent."
   ]
  },
  {
   "cell_type": "markdown",
   "id": "7accee14-353c-46dc-826e-5b76f0b5693e",
   "metadata": {},
   "source": [
    "Let's replace this categorical data by ordered integers:"
   ]
  },
  {
   "cell_type": "code",
   "execution_count": 62,
   "id": "5aaac785-4134-4b1a-8b26-aebc5f6d89e0",
   "metadata": {},
   "outputs": [
    {
     "data": {
      "text/plain": [
       "0       7\n",
       "1      30\n",
       "2      30\n",
       "3      30\n",
       "4       7\n",
       "       ..\n",
       "323    30\n",
       "324    30\n",
       "325    30\n",
       "326    30\n",
       "327    30\n",
       "Name: issuance_freq, Length: 328, dtype: int64"
      ]
     },
     "execution_count": 62,
     "metadata": {},
     "output_type": "execute_result"
    }
   ],
   "source": [
    "df.replace({'issuance_freq':\n",
    "                {'issuance after transaction': 1,\n",
    "                 'weekly issuance': 7,\n",
    "                 'monthly issuance': 30}\n",
    "            }, inplace=True)\n",
    "df['issuance_freq']"
   ]
  },
  {
   "cell_type": "markdown",
   "id": "059dfbca-a9a0-4855-a587-cea6d5144707",
   "metadata": {},
   "source": [
    "### Client age"
   ]
  },
  {
   "cell_type": "markdown",
   "id": "0d1604d2-79ad-4afe-b290-f2b14a201be2",
   "metadata": {},
   "source": [
    "_client_age_ is a categorical value. Each category represents a range. This ranges can be divided into 2 attributes: the start and the end of the range."
   ]
  },
  {
   "cell_type": "code",
   "execution_count": 63,
   "id": "316b26cb-5352-4625-9b6e-ea385af8aa3a",
   "metadata": {},
   "outputs": [
    {
     "data": {
      "text/html": [
       "<div>\n",
       "<style scoped>\n",
       "    .dataframe tbody tr th:only-of-type {\n",
       "        vertical-align: middle;\n",
       "    }\n",
       "\n",
       "    .dataframe tbody tr th {\n",
       "        vertical-align: top;\n",
       "    }\n",
       "\n",
       "    .dataframe thead th {\n",
       "        text-align: right;\n",
       "    }\n",
       "</style>\n",
       "<table border=\"1\" class=\"dataframe\">\n",
       "  <thead>\n",
       "    <tr style=\"text-align: right;\">\n",
       "      <th></th>\n",
       "      <th>issuance_freq</th>\n",
       "      <th>account_creation</th>\n",
       "      <th>is_coowned</th>\n",
       "      <th>is_male</th>\n",
       "      <th>district_code</th>\n",
       "      <th>district_name</th>\n",
       "      <th>region</th>\n",
       "      <th>people_count</th>\n",
       "      <th>muni_499_count</th>\n",
       "      <th>muni_500-1999_count</th>\n",
       "      <th>muni_2000-9999_count</th>\n",
       "      <th>muni_10000_count</th>\n",
       "      <th>cities_count</th>\n",
       "      <th>ratio_urban_people</th>\n",
       "      <th>avg_salary</th>\n",
       "      <th>enterp_per1000</th>\n",
       "      <th>unem_growth</th>\n",
       "      <th>crime_growth</th>\n",
       "      <th>date</th>\n",
       "      <th>amount</th>\n",
       "      <th>duration</th>\n",
       "      <th>payments</th>\n",
       "      <th>status</th>\n",
       "      <th>year_loan</th>\n",
       "      <th>month_loan</th>\n",
       "      <th>age_start</th>\n",
       "      <th>age_end</th>\n",
       "    </tr>\n",
       "  </thead>\n",
       "  <tbody>\n",
       "    <tr>\n",
       "      <th>0</th>\n",
       "      <td>7</td>\n",
       "      <td>930322</td>\n",
       "      <td>False</td>\n",
       "      <td>False</td>\n",
       "      <td>30</td>\n",
       "      <td>Sokolov</td>\n",
       "      <td>west Bohemia</td>\n",
       "      <td>11.459651</td>\n",
       "      <td>15</td>\n",
       "      <td>13</td>\n",
       "      <td>8</td>\n",
       "      <td>2</td>\n",
       "      <td>10</td>\n",
       "      <td>81.8</td>\n",
       "      <td>9.174713</td>\n",
       "      <td>100</td>\n",
       "      <td>0.085799</td>\n",
       "      <td>-0.060637</td>\n",
       "      <td>930705</td>\n",
       "      <td>96396</td>\n",
       "      <td>12</td>\n",
       "      <td>8033</td>\n",
       "      <td>-1</td>\n",
       "      <td>93</td>\n",
       "      <td>7</td>\n",
       "      <td>50</td>\n",
       "      <td>65</td>\n",
       "    </tr>\n",
       "    <tr>\n",
       "      <th>1</th>\n",
       "      <td>30</td>\n",
       "      <td>930213</td>\n",
       "      <td>False</td>\n",
       "      <td>True</td>\n",
       "      <td>46</td>\n",
       "      <td>Nachod</td>\n",
       "      <td>east Bohemia</td>\n",
       "      <td>11.632565</td>\n",
       "      <td>48</td>\n",
       "      <td>20</td>\n",
       "      <td>7</td>\n",
       "      <td>3</td>\n",
       "      <td>10</td>\n",
       "      <td>73.5</td>\n",
       "      <td>9.032290</td>\n",
       "      <td>117</td>\n",
       "      <td>0.290503</td>\n",
       "      <td>-0.082691</td>\n",
       "      <td>930711</td>\n",
       "      <td>165960</td>\n",
       "      <td>36</td>\n",
       "      <td>4610</td>\n",
       "      <td>1</td>\n",
       "      <td>93</td>\n",
       "      <td>7</td>\n",
       "      <td>30</td>\n",
       "      <td>39</td>\n",
       "    </tr>\n",
       "    <tr>\n",
       "      <th>2</th>\n",
       "      <td>30</td>\n",
       "      <td>930208</td>\n",
       "      <td>False</td>\n",
       "      <td>True</td>\n",
       "      <td>45</td>\n",
       "      <td>Jicin</td>\n",
       "      <td>east Bohemia</td>\n",
       "      <td>11.263399</td>\n",
       "      <td>85</td>\n",
       "      <td>19</td>\n",
       "      <td>6</td>\n",
       "      <td>1</td>\n",
       "      <td>5</td>\n",
       "      <td>53.5</td>\n",
       "      <td>9.034796</td>\n",
       "      <td>132</td>\n",
       "      <td>0.267544</td>\n",
       "      <td>0.020192</td>\n",
       "      <td>930728</td>\n",
       "      <td>127080</td>\n",
       "      <td>60</td>\n",
       "      <td>2118</td>\n",
       "      <td>1</td>\n",
       "      <td>93</td>\n",
       "      <td>7</td>\n",
       "      <td>50</td>\n",
       "      <td>65</td>\n",
       "    </tr>\n",
       "    <tr>\n",
       "      <th>3</th>\n",
       "      <td>30</td>\n",
       "      <td>930130</td>\n",
       "      <td>False</td>\n",
       "      <td>False</td>\n",
       "      <td>14</td>\n",
       "      <td>Ceske Budejovice</td>\n",
       "      <td>south Bohemia</td>\n",
       "      <td>12.087773</td>\n",
       "      <td>69</td>\n",
       "      <td>27</td>\n",
       "      <td>10</td>\n",
       "      <td>1</td>\n",
       "      <td>9</td>\n",
       "      <td>74.8</td>\n",
       "      <td>9.214830</td>\n",
       "      <td>135</td>\n",
       "      <td>0.204225</td>\n",
       "      <td>-0.046790</td>\n",
       "      <td>930803</td>\n",
       "      <td>105804</td>\n",
       "      <td>36</td>\n",
       "      <td>2939</td>\n",
       "      <td>1</td>\n",
       "      <td>93</td>\n",
       "      <td>8</td>\n",
       "      <td>50</td>\n",
       "      <td>65</td>\n",
       "    </tr>\n",
       "    <tr>\n",
       "      <th>4</th>\n",
       "      <td>7</td>\n",
       "      <td>930214</td>\n",
       "      <td>False</td>\n",
       "      <td>True</td>\n",
       "      <td>63</td>\n",
       "      <td>Vyskov</td>\n",
       "      <td>south Moravia</td>\n",
       "      <td>11.368050</td>\n",
       "      <td>38</td>\n",
       "      <td>36</td>\n",
       "      <td>5</td>\n",
       "      <td>1</td>\n",
       "      <td>5</td>\n",
       "      <td>50.5</td>\n",
       "      <td>9.022564</td>\n",
       "      <td>110</td>\n",
       "      <td>0.192612</td>\n",
       "      <td>-0.065301</td>\n",
       "      <td>930906</td>\n",
       "      <td>274740</td>\n",
       "      <td>60</td>\n",
       "      <td>4579</td>\n",
       "      <td>1</td>\n",
       "      <td>93</td>\n",
       "      <td>9</td>\n",
       "      <td>20</td>\n",
       "      <td>29</td>\n",
       "    </tr>\n",
       "  </tbody>\n",
       "</table>\n",
       "</div>"
      ],
      "text/plain": [
       "   issuance_freq  account_creation  is_coowned  is_male  district_code  \\\n",
       "0              7            930322       False    False             30   \n",
       "1             30            930213       False     True             46   \n",
       "2             30            930208       False     True             45   \n",
       "3             30            930130       False    False             14   \n",
       "4              7            930214       False     True             63   \n",
       "\n",
       "      district_name         region  people_count  muni_499_count  \\\n",
       "0           Sokolov   west Bohemia     11.459651              15   \n",
       "1            Nachod   east Bohemia     11.632565              48   \n",
       "2             Jicin   east Bohemia     11.263399              85   \n",
       "3  Ceske Budejovice  south Bohemia     12.087773              69   \n",
       "4            Vyskov  south Moravia     11.368050              38   \n",
       "\n",
       "   muni_500-1999_count  muni_2000-9999_count  muni_10000_count  cities_count  \\\n",
       "0                   13                     8                 2            10   \n",
       "1                   20                     7                 3            10   \n",
       "2                   19                     6                 1             5   \n",
       "3                   27                    10                 1             9   \n",
       "4                   36                     5                 1             5   \n",
       "\n",
       "   ratio_urban_people  avg_salary  enterp_per1000  unem_growth  crime_growth  \\\n",
       "0                81.8    9.174713             100     0.085799     -0.060637   \n",
       "1                73.5    9.032290             117     0.290503     -0.082691   \n",
       "2                53.5    9.034796             132     0.267544      0.020192   \n",
       "3                74.8    9.214830             135     0.204225     -0.046790   \n",
       "4                50.5    9.022564             110     0.192612     -0.065301   \n",
       "\n",
       "     date  amount  duration  payments  status  year_loan  month_loan  \\\n",
       "0  930705   96396        12      8033      -1         93           7   \n",
       "1  930711  165960        36      4610       1         93           7   \n",
       "2  930728  127080        60      2118       1         93           7   \n",
       "3  930803  105804        36      2939       1         93           8   \n",
       "4  930906  274740        60      4579       1         93           9   \n",
       "\n",
       "  age_start age_end  \n",
       "0        50      65  \n",
       "1        30      39  \n",
       "2        50      65  \n",
       "3        50      65  \n",
       "4        20      29  "
      ]
     },
     "execution_count": 63,
     "metadata": {},
     "output_type": "execute_result"
    }
   ],
   "source": [
    "def uncat_age_bins(row, is_begin=True):\n",
    "    age = row['client_age']\n",
    "    if age == 'retired':\n",
    "        return 66 if is_begin else 150\n",
    "    return age.split('-')[0 if is_begin else 1]\n",
    "    \n",
    "\n",
    "df['age_start'] = df.apply(uncat_age_bins, axis=1)\n",
    "df['age_end'] = df.apply(lambda x: uncat_age_bins(x, False), axis=1)\n",
    "\n",
    "df.drop(['client_age'], axis=1, inplace=True)\n",
    "\n",
    "df.head()"
   ]
  },
  {
   "cell_type": "markdown",
   "id": "fbd9d6b9-a80d-46f9-afab-6804de2fc183",
   "metadata": {},
   "source": [
    "### District data"
   ]
  },
  {
   "cell_type": "markdown",
   "id": "7ff2417b-ed0b-4d7e-bf5c-020ff816316d",
   "metadata": {},
   "source": [
    "Both name and region are categorical data relating to regions."
   ]
  },
  {
   "cell_type": "code",
   "execution_count": 64,
   "id": "91822cad-ad33-401a-b2d7-f4dec9a127c1",
   "metadata": {},
   "outputs": [
    {
     "name": "stdout",
     "output_type": "stream",
     "text": [
      "Number of different 'code' values: 73\n",
      "Number of different 'name' values: 73\n"
     ]
    }
   ],
   "source": [
    "print(\"Number of different 'code' values:\", len(df['district_code'].value_counts()))\n",
    "print(\"Number of different 'name' values:\", len(df['district_name'].value_counts()))"
   ]
  },
  {
   "cell_type": "markdown",
   "id": "ade7439a-a8f4-45ce-ac5f-81fb976317b8",
   "metadata": {},
   "source": [
    "We can see that there is a direct association between the **code** and **name** attributes. This means they are redundant and we don't have to deal with the **name** attribute.\n",
    "\n",
    "There is a problem with this. The **code** attributes are integers which indirectly imply an order, even though the names of the regions are nominal features, but it encoding it would generate too many attributes, so it was decided that it would be dropped."
   ]
  },
  {
   "cell_type": "code",
   "execution_count": 65,
   "id": "974d8647-90b5-489c-aa74-8fdf2663d552",
   "metadata": {},
   "outputs": [],
   "source": [
    "df.drop(['district_name'], axis=1, inplace=True)"
   ]
  },
  {
   "cell_type": "markdown",
   "id": "3559b262-8e84-470f-84f3-4b835faf9a2d",
   "metadata": {},
   "source": [
    "The **region** feature is categorial and there is no order associated. This means this attribute should be encoded in order to remove it's categorical nature and still remain unordered. One-Hot encoding could be used for simplicity, but Binary enconding is be better."
   ]
  },
  {
   "cell_type": "code",
   "execution_count": 66,
   "id": "fdd06ec4-5ef4-41c1-af67-a5330d8bf043",
   "metadata": {},
   "outputs": [
    {
     "data": {
      "text/plain": [
       "south Moravia      68\n",
       "north Moravia      51\n",
       "Prague             41\n",
       "east Bohemia       40\n",
       "central Bohemia    37\n",
       "south Bohemia      31\n",
       "west Bohemia       30\n",
       "north Bohemia      30\n",
       "Name: region, dtype: int64"
      ]
     },
     "execution_count": 66,
     "metadata": {},
     "output_type": "execute_result"
    }
   ],
   "source": [
    "df['region'].value_counts()"
   ]
  },
  {
   "cell_type": "code",
   "execution_count": 67,
   "id": "9ceb1c90-69ff-4dd7-b01a-936be12d2ebc",
   "metadata": {},
   "outputs": [
    {
     "data": {
      "text/html": [
       "<div>\n",
       "<style scoped>\n",
       "    .dataframe tbody tr th:only-of-type {\n",
       "        vertical-align: middle;\n",
       "    }\n",
       "\n",
       "    .dataframe tbody tr th {\n",
       "        vertical-align: top;\n",
       "    }\n",
       "\n",
       "    .dataframe thead th {\n",
       "        text-align: right;\n",
       "    }\n",
       "</style>\n",
       "<table border=\"1\" class=\"dataframe\">\n",
       "  <thead>\n",
       "    <tr style=\"text-align: right;\">\n",
       "      <th></th>\n",
       "      <th>issuance_freq</th>\n",
       "      <th>account_creation</th>\n",
       "      <th>is_coowned</th>\n",
       "      <th>is_male</th>\n",
       "      <th>district_code</th>\n",
       "      <th>region_0</th>\n",
       "      <th>region_1</th>\n",
       "      <th>region_2</th>\n",
       "      <th>region_3</th>\n",
       "      <th>people_count</th>\n",
       "      <th>muni_499_count</th>\n",
       "      <th>muni_500-1999_count</th>\n",
       "      <th>muni_2000-9999_count</th>\n",
       "      <th>muni_10000_count</th>\n",
       "      <th>cities_count</th>\n",
       "      <th>ratio_urban_people</th>\n",
       "      <th>avg_salary</th>\n",
       "      <th>enterp_per1000</th>\n",
       "      <th>unem_growth</th>\n",
       "      <th>crime_growth</th>\n",
       "      <th>date</th>\n",
       "      <th>amount</th>\n",
       "      <th>duration</th>\n",
       "      <th>payments</th>\n",
       "      <th>status</th>\n",
       "      <th>year_loan</th>\n",
       "      <th>month_loan</th>\n",
       "      <th>age_start</th>\n",
       "      <th>age_end</th>\n",
       "    </tr>\n",
       "  </thead>\n",
       "  <tbody>\n",
       "    <tr>\n",
       "      <th>0</th>\n",
       "      <td>7</td>\n",
       "      <td>930322</td>\n",
       "      <td>False</td>\n",
       "      <td>False</td>\n",
       "      <td>30</td>\n",
       "      <td>0</td>\n",
       "      <td>0</td>\n",
       "      <td>0</td>\n",
       "      <td>1</td>\n",
       "      <td>11.459651</td>\n",
       "      <td>15</td>\n",
       "      <td>13</td>\n",
       "      <td>8</td>\n",
       "      <td>2</td>\n",
       "      <td>10</td>\n",
       "      <td>81.8</td>\n",
       "      <td>9.174713</td>\n",
       "      <td>100</td>\n",
       "      <td>0.085799</td>\n",
       "      <td>-0.060637</td>\n",
       "      <td>930705</td>\n",
       "      <td>96396</td>\n",
       "      <td>12</td>\n",
       "      <td>8033</td>\n",
       "      <td>-1</td>\n",
       "      <td>93</td>\n",
       "      <td>7</td>\n",
       "      <td>50</td>\n",
       "      <td>65</td>\n",
       "    </tr>\n",
       "    <tr>\n",
       "      <th>1</th>\n",
       "      <td>30</td>\n",
       "      <td>930213</td>\n",
       "      <td>False</td>\n",
       "      <td>True</td>\n",
       "      <td>46</td>\n",
       "      <td>0</td>\n",
       "      <td>0</td>\n",
       "      <td>1</td>\n",
       "      <td>0</td>\n",
       "      <td>11.632565</td>\n",
       "      <td>48</td>\n",
       "      <td>20</td>\n",
       "      <td>7</td>\n",
       "      <td>3</td>\n",
       "      <td>10</td>\n",
       "      <td>73.5</td>\n",
       "      <td>9.032290</td>\n",
       "      <td>117</td>\n",
       "      <td>0.290503</td>\n",
       "      <td>-0.082691</td>\n",
       "      <td>930711</td>\n",
       "      <td>165960</td>\n",
       "      <td>36</td>\n",
       "      <td>4610</td>\n",
       "      <td>1</td>\n",
       "      <td>93</td>\n",
       "      <td>7</td>\n",
       "      <td>30</td>\n",
       "      <td>39</td>\n",
       "    </tr>\n",
       "    <tr>\n",
       "      <th>2</th>\n",
       "      <td>30</td>\n",
       "      <td>930208</td>\n",
       "      <td>False</td>\n",
       "      <td>True</td>\n",
       "      <td>45</td>\n",
       "      <td>0</td>\n",
       "      <td>0</td>\n",
       "      <td>1</td>\n",
       "      <td>0</td>\n",
       "      <td>11.263399</td>\n",
       "      <td>85</td>\n",
       "      <td>19</td>\n",
       "      <td>6</td>\n",
       "      <td>1</td>\n",
       "      <td>5</td>\n",
       "      <td>53.5</td>\n",
       "      <td>9.034796</td>\n",
       "      <td>132</td>\n",
       "      <td>0.267544</td>\n",
       "      <td>0.020192</td>\n",
       "      <td>930728</td>\n",
       "      <td>127080</td>\n",
       "      <td>60</td>\n",
       "      <td>2118</td>\n",
       "      <td>1</td>\n",
       "      <td>93</td>\n",
       "      <td>7</td>\n",
       "      <td>50</td>\n",
       "      <td>65</td>\n",
       "    </tr>\n",
       "    <tr>\n",
       "      <th>3</th>\n",
       "      <td>30</td>\n",
       "      <td>930130</td>\n",
       "      <td>False</td>\n",
       "      <td>False</td>\n",
       "      <td>14</td>\n",
       "      <td>0</td>\n",
       "      <td>0</td>\n",
       "      <td>1</td>\n",
       "      <td>1</td>\n",
       "      <td>12.087773</td>\n",
       "      <td>69</td>\n",
       "      <td>27</td>\n",
       "      <td>10</td>\n",
       "      <td>1</td>\n",
       "      <td>9</td>\n",
       "      <td>74.8</td>\n",
       "      <td>9.214830</td>\n",
       "      <td>135</td>\n",
       "      <td>0.204225</td>\n",
       "      <td>-0.046790</td>\n",
       "      <td>930803</td>\n",
       "      <td>105804</td>\n",
       "      <td>36</td>\n",
       "      <td>2939</td>\n",
       "      <td>1</td>\n",
       "      <td>93</td>\n",
       "      <td>8</td>\n",
       "      <td>50</td>\n",
       "      <td>65</td>\n",
       "    </tr>\n",
       "    <tr>\n",
       "      <th>4</th>\n",
       "      <td>7</td>\n",
       "      <td>930214</td>\n",
       "      <td>False</td>\n",
       "      <td>True</td>\n",
       "      <td>63</td>\n",
       "      <td>0</td>\n",
       "      <td>1</td>\n",
       "      <td>0</td>\n",
       "      <td>0</td>\n",
       "      <td>11.368050</td>\n",
       "      <td>38</td>\n",
       "      <td>36</td>\n",
       "      <td>5</td>\n",
       "      <td>1</td>\n",
       "      <td>5</td>\n",
       "      <td>50.5</td>\n",
       "      <td>9.022564</td>\n",
       "      <td>110</td>\n",
       "      <td>0.192612</td>\n",
       "      <td>-0.065301</td>\n",
       "      <td>930906</td>\n",
       "      <td>274740</td>\n",
       "      <td>60</td>\n",
       "      <td>4579</td>\n",
       "      <td>1</td>\n",
       "      <td>93</td>\n",
       "      <td>9</td>\n",
       "      <td>20</td>\n",
       "      <td>29</td>\n",
       "    </tr>\n",
       "  </tbody>\n",
       "</table>\n",
       "</div>"
      ],
      "text/plain": [
       "   issuance_freq  account_creation  is_coowned  is_male  district_code  \\\n",
       "0              7            930322       False    False             30   \n",
       "1             30            930213       False     True             46   \n",
       "2             30            930208       False     True             45   \n",
       "3             30            930130       False    False             14   \n",
       "4              7            930214       False     True             63   \n",
       "\n",
       "   region_0  region_1  region_2  region_3  people_count  muni_499_count  \\\n",
       "0         0         0         0         1     11.459651              15   \n",
       "1         0         0         1         0     11.632565              48   \n",
       "2         0         0         1         0     11.263399              85   \n",
       "3         0         0         1         1     12.087773              69   \n",
       "4         0         1         0         0     11.368050              38   \n",
       "\n",
       "   muni_500-1999_count  muni_2000-9999_count  muni_10000_count  cities_count  \\\n",
       "0                   13                     8                 2            10   \n",
       "1                   20                     7                 3            10   \n",
       "2                   19                     6                 1             5   \n",
       "3                   27                    10                 1             9   \n",
       "4                   36                     5                 1             5   \n",
       "\n",
       "   ratio_urban_people  avg_salary  enterp_per1000  unem_growth  crime_growth  \\\n",
       "0                81.8    9.174713             100     0.085799     -0.060637   \n",
       "1                73.5    9.032290             117     0.290503     -0.082691   \n",
       "2                53.5    9.034796             132     0.267544      0.020192   \n",
       "3                74.8    9.214830             135     0.204225     -0.046790   \n",
       "4                50.5    9.022564             110     0.192612     -0.065301   \n",
       "\n",
       "     date  amount  duration  payments  status  year_loan  month_loan  \\\n",
       "0  930705   96396        12      8033      -1         93           7   \n",
       "1  930711  165960        36      4610       1         93           7   \n",
       "2  930728  127080        60      2118       1         93           7   \n",
       "3  930803  105804        36      2939       1         93           8   \n",
       "4  930906  274740        60      4579       1         93           9   \n",
       "\n",
       "  age_start age_end  \n",
       "0        50      65  \n",
       "1        30      39  \n",
       "2        50      65  \n",
       "3        50      65  \n",
       "4        20      29  "
      ]
     },
     "execution_count": 67,
     "metadata": {},
     "output_type": "execute_result"
    }
   ],
   "source": [
    "from category_encoders import BinaryEncoder\n",
    "\n",
    "encoder = BinaryEncoder(cols=['region'])\n",
    "df = encoder.fit_transform(df)\n",
    "df.head()"
   ]
  },
  {
   "cell_type": "markdown",
   "id": "3c3d4226-2f61-45c6-bfa2-0f0abec94907",
   "metadata": {},
   "source": [
    "### Card data"
   ]
  },
  {
   "cell_type": "markdown",
   "id": "d71dd6d6-01bc-482e-81d9-6c7d2c3c7152",
   "metadata": {},
   "source": [
    "// TODO"
   ]
  },
  {
   "cell_type": "markdown",
   "id": "60d7d765-4f5b-4039-8e07-34211ba8af1f",
   "metadata": {},
   "source": [
    "The **type** attribute is probably categorical data."
   ]
  },
  {
   "cell_type": "code",
   "execution_count": 68,
   "id": "ff19a1ee-aa52-4d98-be42-bea1230cceae",
   "metadata": {},
   "outputs": [],
   "source": [
    "#df['type'].value_counts()"
   ]
  },
  {
   "cell_type": "markdown",
   "id": "c3ff2b51-598c-40eb-b2d5-0f6b72120adf",
   "metadata": {},
   "source": [
    "_junior_ accounts are for underarge people (lowest tier) and usually it isn't possible to withdrawl money from them, and _gold_ account are the highest tier. There is an implicit order here: _junior_ < _classic_ < _gold_."
   ]
  },
  {
   "cell_type": "code",
   "execution_count": 69,
   "id": "174a03ac-70d6-4a95-b24e-387128b17ff3",
   "metadata": {},
   "outputs": [],
   "source": [
    "#df.replace({'type':\n",
    "#                    {'junior': 0, 'classic': 1, 'gold': 2}\n",
    "#                   }, inplace=True)\n",
    "#df['type']"
   ]
  },
  {
   "cell_type": "markdown",
   "id": "aef82b05-7624-49e7-8462-cfaac4f22f61",
   "metadata": {},
   "source": [
    "### Transaction data"
   ]
  },
  {
   "cell_type": "markdown",
   "id": "8601c0da-0c02-4738-9197-671759cb5d99",
   "metadata": {},
   "source": [
    "There are also 4 categorical attributes in this dataframe: _type_, _operation_, _k\\_symbol_, and _bank_."
   ]
  },
  {
   "cell_type": "code",
   "execution_count": 70,
   "id": "c68e8cec-eb51-4253-9d89-510c8ac3c264",
   "metadata": {},
   "outputs": [],
   "source": [
    "#trans_df['type'].value_counts()"
   ]
  },
  {
   "cell_type": "markdown",
   "id": "6bfb737d-3daa-4011-95cd-8aeea0ba192a",
   "metadata": {},
   "source": [
    "The _type_ attribute has 3 categories with no distinct order between them."
   ]
  },
  {
   "cell_type": "code",
   "execution_count": 71,
   "id": "b5e392ed-8892-458e-8080-03bca2831f4a",
   "metadata": {},
   "outputs": [],
   "source": [
    "#from category_encoders import BinaryEncoder\n",
    "\n",
    "#encoder = BinaryEncoder(cols=['type'])\n",
    "#trans_df = encoder.fit_transform(trans_df)\n",
    "#trans_df.head()"
   ]
  },
  {
   "cell_type": "markdown",
   "id": "69a40422-9dbf-4026-b871-d8aae4d62e73",
   "metadata": {},
   "source": [
    "This data could have been encoded with One-Hot encoding, which is simpler. Binary encoding is used in order to use 1 less attribute."
   ]
  },
  {
   "cell_type": "code",
   "execution_count": 72,
   "id": "4f896b8e-4417-46cf-bf7d-4a71f656825f",
   "metadata": {},
   "outputs": [],
   "source": [
    "#trans_df.drop(['operation', 'k_symbol', 'bank'], axis=1, inplace=True)"
   ]
  },
  {
   "cell_type": "markdown",
   "id": "4311e9dc-e6a3-4016-9024-b7b53025fc7f",
   "metadata": {
    "tags": []
   },
   "source": [
    "## Classification"
   ]
  },
  {
   "cell_type": "code",
   "execution_count": 73,
   "id": "812a49ce-8efc-47aa-ab77-e9e1ae583c9f",
   "metadata": {},
   "outputs": [],
   "source": [
    "def getXy(df):\n",
    "    # inputs\n",
    "    X = df.drop([\"status\"], axis=1)\n",
    "    # target\n",
    "    y = df[\"status\"]\n",
    "    return (X, y)\n",
    "\n",
    "X_train, y_train = getXy(df)\n",
    "# // TODO scale data?"
   ]
  },
  {
   "cell_type": "markdown",
   "id": "790b39ec-a944-4966-a77f-19443a309d4f",
   "metadata": {},
   "source": [
    "Note that we scaled our data. We did this because we need it to obtain better results on distance-based models: K-NN and SVC. This doesn't affect tree-based algorithms so we do it here."
   ]
  },
  {
   "cell_type": "code",
   "execution_count": 74,
   "id": "84dce9d6-36a9-45f3-86c0-751e8ac3e726",
   "metadata": {},
   "outputs": [],
   "source": [
    "from sklearn.model_selection import StratifiedKFold\n",
    "\n",
    "k = 10\n",
    "kf = StratifiedKFold(n_splits=k)"
   ]
  },
  {
   "cell_type": "markdown",
   "id": "6ad9b629-e408-4b89-8520-5d61b7ed0f9c",
   "metadata": {},
   "source": [
    "We will be using **Stratified K-Fold with 10 folds** for our cross-validations."
   ]
  },
  {
   "cell_type": "markdown",
   "id": "68d0bd14-926f-4169-b3cb-6597a76fcfe3",
   "metadata": {},
   "source": [
    "### Establishing a baseline"
   ]
  },
  {
   "cell_type": "markdown",
   "id": "781ce53c-05ef-45a2-944c-69b15e201090",
   "metadata": {},
   "source": [
    "Let's establish a baseline for our classifiers."
   ]
  },
  {
   "cell_type": "code",
   "execution_count": 75,
   "id": "d3df4fbf-c452-4e64-81da-ac5302f14915",
   "metadata": {},
   "outputs": [
    {
     "name": "stderr",
     "output_type": "stream",
     "text": [
      "/usr/lib/python3.9/site-packages/sklearn/metrics/_classification.py:1308: UndefinedMetricWarning: Precision is ill-defined and being set to 0.0 in labels with no predicted samples. Use `zero_division` parameter to control this behavior.\n",
      "  _warn_prf(average, modifier, msg_start, len(result))\n"
     ]
    },
    {
     "data": {
      "text/html": [
       "<div>\n",
       "<style scoped>\n",
       "    .dataframe tbody tr th:only-of-type {\n",
       "        vertical-align: middle;\n",
       "    }\n",
       "\n",
       "    .dataframe tbody tr th {\n",
       "        vertical-align: top;\n",
       "    }\n",
       "\n",
       "    .dataframe thead th {\n",
       "        text-align: right;\n",
       "    }\n",
       "</style>\n",
       "<table border=\"1\" class=\"dataframe\">\n",
       "  <thead>\n",
       "    <tr style=\"text-align: right;\">\n",
       "      <th></th>\n",
       "      <th>fit_time</th>\n",
       "      <th>score_time</th>\n",
       "      <th>test_accuracy</th>\n",
       "      <th>test_precision</th>\n",
       "      <th>test_recall</th>\n",
       "      <th>test_f1</th>\n",
       "      <th>classifier</th>\n",
       "    </tr>\n",
       "  </thead>\n",
       "  <tbody>\n",
       "    <tr>\n",
       "      <th>0</th>\n",
       "      <td>0.005799</td>\n",
       "      <td>0.003412</td>\n",
       "      <td>0.484848</td>\n",
       "      <td>0.760606</td>\n",
       "      <td>0.484848</td>\n",
       "      <td>0.552563</td>\n",
       "      <td>Decision tree</td>\n",
       "    </tr>\n",
       "    <tr>\n",
       "      <th>1</th>\n",
       "      <td>0.004641</td>\n",
       "      <td>0.012319</td>\n",
       "      <td>0.666667</td>\n",
       "      <td>0.768116</td>\n",
       "      <td>0.666667</td>\n",
       "      <td>0.705882</td>\n",
       "      <td>Decision tree</td>\n",
       "    </tr>\n",
       "    <tr>\n",
       "      <th>2</th>\n",
       "      <td>0.007833</td>\n",
       "      <td>0.004799</td>\n",
       "      <td>0.787879</td>\n",
       "      <td>0.711632</td>\n",
       "      <td>0.787879</td>\n",
       "      <td>0.747817</td>\n",
       "      <td>Decision tree</td>\n",
       "    </tr>\n",
       "    <tr>\n",
       "      <th>3</th>\n",
       "      <td>0.004213</td>\n",
       "      <td>0.003257</td>\n",
       "      <td>0.818182</td>\n",
       "      <td>0.880471</td>\n",
       "      <td>0.818182</td>\n",
       "      <td>0.837163</td>\n",
       "      <td>Decision tree</td>\n",
       "    </tr>\n",
       "    <tr>\n",
       "      <th>4</th>\n",
       "      <td>0.006262</td>\n",
       "      <td>0.003150</td>\n",
       "      <td>0.757576</td>\n",
       "      <td>0.707071</td>\n",
       "      <td>0.757576</td>\n",
       "      <td>0.731452</td>\n",
       "      <td>Decision tree</td>\n",
       "    </tr>\n",
       "    <tr>\n",
       "      <th>5</th>\n",
       "      <td>0.003485</td>\n",
       "      <td>0.003127</td>\n",
       "      <td>0.727273</td>\n",
       "      <td>0.748036</td>\n",
       "      <td>0.727273</td>\n",
       "      <td>0.737190</td>\n",
       "      <td>Decision tree</td>\n",
       "    </tr>\n",
       "    <tr>\n",
       "      <th>6</th>\n",
       "      <td>0.014461</td>\n",
       "      <td>0.003575</td>\n",
       "      <td>0.666667</td>\n",
       "      <td>0.820937</td>\n",
       "      <td>0.666667</td>\n",
       "      <td>0.721569</td>\n",
       "      <td>Decision tree</td>\n",
       "    </tr>\n",
       "    <tr>\n",
       "      <th>7</th>\n",
       "      <td>0.007354</td>\n",
       "      <td>0.003341</td>\n",
       "      <td>0.606061</td>\n",
       "      <td>0.854209</td>\n",
       "      <td>0.606061</td>\n",
       "      <td>0.673996</td>\n",
       "      <td>Decision tree</td>\n",
       "    </tr>\n",
       "    <tr>\n",
       "      <th>8</th>\n",
       "      <td>0.011497</td>\n",
       "      <td>0.005104</td>\n",
       "      <td>0.750000</td>\n",
       "      <td>0.750000</td>\n",
       "      <td>0.750000</td>\n",
       "      <td>0.750000</td>\n",
       "      <td>Decision tree</td>\n",
       "    </tr>\n",
       "    <tr>\n",
       "      <th>9</th>\n",
       "      <td>0.006667</td>\n",
       "      <td>0.002972</td>\n",
       "      <td>0.812500</td>\n",
       "      <td>0.812500</td>\n",
       "      <td>0.812500</td>\n",
       "      <td>0.812500</td>\n",
       "      <td>Decision tree</td>\n",
       "    </tr>\n",
       "    <tr>\n",
       "      <th>0</th>\n",
       "      <td>0.005342</td>\n",
       "      <td>0.004659</td>\n",
       "      <td>0.878788</td>\n",
       "      <td>0.893939</td>\n",
       "      <td>0.878788</td>\n",
       "      <td>0.842424</td>\n",
       "      <td>Naive Bayes</td>\n",
       "    </tr>\n",
       "    <tr>\n",
       "      <th>1</th>\n",
       "      <td>0.004475</td>\n",
       "      <td>0.004560</td>\n",
       "      <td>0.818182</td>\n",
       "      <td>0.715909</td>\n",
       "      <td>0.818182</td>\n",
       "      <td>0.763636</td>\n",
       "      <td>Naive Bayes</td>\n",
       "    </tr>\n",
       "    <tr>\n",
       "      <th>2</th>\n",
       "      <td>0.005017</td>\n",
       "      <td>0.004853</td>\n",
       "      <td>0.787879</td>\n",
       "      <td>0.711632</td>\n",
       "      <td>0.787879</td>\n",
       "      <td>0.747817</td>\n",
       "      <td>Naive Bayes</td>\n",
       "    </tr>\n",
       "    <tr>\n",
       "      <th>3</th>\n",
       "      <td>0.002960</td>\n",
       "      <td>0.004796</td>\n",
       "      <td>0.848485</td>\n",
       "      <td>0.814761</td>\n",
       "      <td>0.848485</td>\n",
       "      <td>0.819869</td>\n",
       "      <td>Naive Bayes</td>\n",
       "    </tr>\n",
       "    <tr>\n",
       "      <th>4</th>\n",
       "      <td>0.010247</td>\n",
       "      <td>0.010458</td>\n",
       "      <td>0.818182</td>\n",
       "      <td>0.715909</td>\n",
       "      <td>0.818182</td>\n",
       "      <td>0.763636</td>\n",
       "      <td>Naive Bayes</td>\n",
       "    </tr>\n",
       "    <tr>\n",
       "      <th>5</th>\n",
       "      <td>0.002534</td>\n",
       "      <td>0.003119</td>\n",
       "      <td>0.818182</td>\n",
       "      <td>0.715909</td>\n",
       "      <td>0.818182</td>\n",
       "      <td>0.763636</td>\n",
       "      <td>Naive Bayes</td>\n",
       "    </tr>\n",
       "    <tr>\n",
       "      <th>6</th>\n",
       "      <td>0.005779</td>\n",
       "      <td>0.003103</td>\n",
       "      <td>0.848485</td>\n",
       "      <td>0.768939</td>\n",
       "      <td>0.848485</td>\n",
       "      <td>0.806756</td>\n",
       "      <td>Naive Bayes</td>\n",
       "    </tr>\n",
       "    <tr>\n",
       "      <th>7</th>\n",
       "      <td>0.002480</td>\n",
       "      <td>0.003690</td>\n",
       "      <td>0.818182</td>\n",
       "      <td>0.765396</td>\n",
       "      <td>0.818182</td>\n",
       "      <td>0.790909</td>\n",
       "      <td>Naive Bayes</td>\n",
       "    </tr>\n",
       "    <tr>\n",
       "      <th>8</th>\n",
       "      <td>0.002268</td>\n",
       "      <td>0.002804</td>\n",
       "      <td>0.875000</td>\n",
       "      <td>0.850000</td>\n",
       "      <td>0.875000</td>\n",
       "      <td>0.856322</td>\n",
       "      <td>Naive Bayes</td>\n",
       "    </tr>\n",
       "    <tr>\n",
       "      <th>9</th>\n",
       "      <td>0.003663</td>\n",
       "      <td>0.004134</td>\n",
       "      <td>0.875000</td>\n",
       "      <td>0.765625</td>\n",
       "      <td>0.875000</td>\n",
       "      <td>0.816667</td>\n",
       "      <td>Naive Bayes</td>\n",
       "    </tr>\n",
       "  </tbody>\n",
       "</table>\n",
       "</div>"
      ],
      "text/plain": [
       "   fit_time  score_time  test_accuracy  test_precision  test_recall   test_f1  \\\n",
       "0  0.005799    0.003412       0.484848        0.760606     0.484848  0.552563   \n",
       "1  0.004641    0.012319       0.666667        0.768116     0.666667  0.705882   \n",
       "2  0.007833    0.004799       0.787879        0.711632     0.787879  0.747817   \n",
       "3  0.004213    0.003257       0.818182        0.880471     0.818182  0.837163   \n",
       "4  0.006262    0.003150       0.757576        0.707071     0.757576  0.731452   \n",
       "5  0.003485    0.003127       0.727273        0.748036     0.727273  0.737190   \n",
       "6  0.014461    0.003575       0.666667        0.820937     0.666667  0.721569   \n",
       "7  0.007354    0.003341       0.606061        0.854209     0.606061  0.673996   \n",
       "8  0.011497    0.005104       0.750000        0.750000     0.750000  0.750000   \n",
       "9  0.006667    0.002972       0.812500        0.812500     0.812500  0.812500   \n",
       "0  0.005342    0.004659       0.878788        0.893939     0.878788  0.842424   \n",
       "1  0.004475    0.004560       0.818182        0.715909     0.818182  0.763636   \n",
       "2  0.005017    0.004853       0.787879        0.711632     0.787879  0.747817   \n",
       "3  0.002960    0.004796       0.848485        0.814761     0.848485  0.819869   \n",
       "4  0.010247    0.010458       0.818182        0.715909     0.818182  0.763636   \n",
       "5  0.002534    0.003119       0.818182        0.715909     0.818182  0.763636   \n",
       "6  0.005779    0.003103       0.848485        0.768939     0.848485  0.806756   \n",
       "7  0.002480    0.003690       0.818182        0.765396     0.818182  0.790909   \n",
       "8  0.002268    0.002804       0.875000        0.850000     0.875000  0.856322   \n",
       "9  0.003663    0.004134       0.875000        0.765625     0.875000  0.816667   \n",
       "\n",
       "      classifier  \n",
       "0  Decision tree  \n",
       "1  Decision tree  \n",
       "2  Decision tree  \n",
       "3  Decision tree  \n",
       "4  Decision tree  \n",
       "5  Decision tree  \n",
       "6  Decision tree  \n",
       "7  Decision tree  \n",
       "8  Decision tree  \n",
       "9  Decision tree  \n",
       "0    Naive Bayes  \n",
       "1    Naive Bayes  \n",
       "2    Naive Bayes  \n",
       "3    Naive Bayes  \n",
       "4    Naive Bayes  \n",
       "5    Naive Bayes  \n",
       "6    Naive Bayes  \n",
       "7    Naive Bayes  \n",
       "8    Naive Bayes  \n",
       "9    Naive Bayes  "
      ]
     },
     "execution_count": 75,
     "metadata": {},
     "output_type": "execute_result"
    }
   ],
   "source": [
    "from sklearn.model_selection import cross_validate\n",
    "from sklearn.tree import DecisionTreeClassifier\n",
    "from sklearn.neighbors import KNeighborsClassifier\n",
    "from sklearn.naive_bayes import GaussianNB\n",
    "\n",
    "baseline_clfs = [\n",
    "    {\"name\": \"Decision tree\", \"clf\": DecisionTreeClassifier()},\n",
    "    #{\"name\": \"K-Nearest neighbors\", \"clf\": KNeighborsClassifier()},\n",
    "    {\"name\": \"Naive Bayes\", \"clf\": GaussianNB()},\n",
    "]\n",
    "\n",
    "scoring = {\"accuracy\": \"accuracy\",\n",
    "           \"precision\": \"precision_weighted\",\n",
    "           \"recall\": \"recall_weighted\",\n",
    "           \"f1\": \"f1_weighted\"}\n",
    "\n",
    "# save classifier information in DataFrame: name, score, fit_time, score_time\n",
    "baseline_df = pd.DataFrame()\n",
    "for clf_entry in baseline_clfs:\n",
    "    scores = cross_validate(clf_entry[\"clf\"], X_train, y_train, scoring=scoring, cv=kf, n_jobs=configNJobs)\n",
    "    info = scores | {\"classifier\": [clf_entry[\"name\"]] * k}\n",
    "    baseline_df = baseline_df.append(pd.DataFrame(info))\n",
    "\n",
    "baseline_df"
   ]
  },
  {
   "cell_type": "code",
   "execution_count": null,
   "id": "eaef682f-8424-4241-a485-1fae7ae7a48e",
   "metadata": {},
   "outputs": [],
   "source": []
  },
  {
   "cell_type": "code",
   "execution_count": null,
   "id": "8a035a44-6b43-465d-ac43-c609074a30e8",
   "metadata": {},
   "outputs": [],
   "source": []
  }
 ],
 "metadata": {
  "kernelspec": {
   "display_name": "Python 3 (ipykernel)",
   "language": "python",
   "name": "python3"
  },
  "language_info": {
   "codemirror_mode": {
    "name": "ipython",
    "version": 3
   },
   "file_extension": ".py",
   "mimetype": "text/x-python",
   "name": "python",
   "nbconvert_exporter": "python",
   "pygments_lexer": "ipython3",
   "version": "3.9.7"
  },
  "toc-autonumbering": false,
  "toc-showcode": false,
  "toc-showmarkdowntxt": false
 },
 "nbformat": 4,
 "nbformat_minor": 5
}
